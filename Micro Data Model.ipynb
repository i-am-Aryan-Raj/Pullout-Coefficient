{
 "cells": [
  {
   "cell_type": "code",
   "execution_count": 1,
   "id": "6bd03f42-48f8-4268-affb-d5d75f19be25",
   "metadata": {},
   "outputs": [],
   "source": [
    "import pandas as pa\n",
    "import numpy as np"
   ]
  },
  {
   "cell_type": "code",
   "execution_count": 2,
   "id": "cf437356-e11b-475f-bada-31ad6db1a7a8",
   "metadata": {},
   "outputs": [
    {
     "data": {
      "text/html": [
       "<div>\n",
       "<style scoped>\n",
       "    .dataframe tbody tr th:only-of-type {\n",
       "        vertical-align: middle;\n",
       "    }\n",
       "\n",
       "    .dataframe tbody tr th {\n",
       "        vertical-align: top;\n",
       "    }\n",
       "\n",
       "    .dataframe thead tr th {\n",
       "        text-align: left;\n",
       "    }\n",
       "</style>\n",
       "<table border=\"1\" class=\"dataframe\">\n",
       "  <thead>\n",
       "    <tr>\n",
       "      <th></th>\n",
       "      <th>Unnamed: 0_level_0</th>\n",
       "      <th>R1</th>\n",
       "      <th>R2</th>\n",
       "      <th>R3</th>\n",
       "      <th>R4</th>\n",
       "      <th colspan=\"4\" halign=\"left\">R5</th>\n",
       "    </tr>\n",
       "    <tr>\n",
       "      <th></th>\n",
       "      <th>Unnamed: 0_level_1</th>\n",
       "      <th>L-filter: None</th>\n",
       "      <th>L-filter: 0.2 mm</th>\n",
       "      <th>L-filter: 0.25 mm</th>\n",
       "      <th>L-filter: 0.5 mm</th>\n",
       "      <th>L-filter: 0.8 mm</th>\n",
       "      <th>Normal Stress</th>\n",
       "      <th>Hardness</th>\n",
       "      <th>Friction Coefficient</th>\n",
       "    </tr>\n",
       "  </thead>\n",
       "  <tbody>\n",
       "    <tr>\n",
       "      <th>0</th>\n",
       "      <td>SA_S01</td>\n",
       "      <td>58.97</td>\n",
       "      <td>1.40</td>\n",
       "      <td>0.85</td>\n",
       "      <td>2.01</td>\n",
       "      <td>11.84</td>\n",
       "      <td>5</td>\n",
       "      <td>0.057</td>\n",
       "      <td>0.082</td>\n",
       "    </tr>\n",
       "    <tr>\n",
       "      <th>1</th>\n",
       "      <td>SA_S16</td>\n",
       "      <td>101.04</td>\n",
       "      <td>1.77</td>\n",
       "      <td>2.63</td>\n",
       "      <td>8.57</td>\n",
       "      <td>18.27</td>\n",
       "      <td>5</td>\n",
       "      <td>0.057</td>\n",
       "      <td>0.238</td>\n",
       "    </tr>\n",
       "    <tr>\n",
       "      <th>2</th>\n",
       "      <td>SA_S05</td>\n",
       "      <td>108.43</td>\n",
       "      <td>0.40</td>\n",
       "      <td>2.00</td>\n",
       "      <td>4.93</td>\n",
       "      <td>20.08</td>\n",
       "      <td>5</td>\n",
       "      <td>0.057</td>\n",
       "      <td>0.274</td>\n",
       "    </tr>\n",
       "    <tr>\n",
       "      <th>3</th>\n",
       "      <td>SA_S33</td>\n",
       "      <td>129.38</td>\n",
       "      <td>1.12</td>\n",
       "      <td>1.67</td>\n",
       "      <td>5.73</td>\n",
       "      <td>13.64</td>\n",
       "      <td>5</td>\n",
       "      <td>0.057</td>\n",
       "      <td>0.086</td>\n",
       "    </tr>\n",
       "    <tr>\n",
       "      <th>4</th>\n",
       "      <td>SA_S04</td>\n",
       "      <td>142.87</td>\n",
       "      <td>0.48</td>\n",
       "      <td>1.48</td>\n",
       "      <td>3.36</td>\n",
       "      <td>23.86</td>\n",
       "      <td>5</td>\n",
       "      <td>0.057</td>\n",
       "      <td>0.374</td>\n",
       "    </tr>\n",
       "  </tbody>\n",
       "</table>\n",
       "</div>"
      ],
      "text/plain": [
       "  Unnamed: 0_level_0              R1                R2                 R3  \\\n",
       "  Unnamed: 0_level_1 L-filter: None  L-filter: 0.2 mm  L-filter: 0.25 mm    \n",
       "0             SA_S01           58.97              1.40               0.85   \n",
       "1             SA_S16          101.04              1.77               2.63   \n",
       "2             SA_S05          108.43              0.40               2.00   \n",
       "3             SA_S33          129.38              1.12               1.67   \n",
       "4             SA_S04          142.87              0.48               1.48   \n",
       "\n",
       "                R4               R5                         \\\n",
       "  L-filter: 0.5 mm L-filter: 0.8 mm Normal Stress Hardness   \n",
       "0             2.01            11.84             5    0.057   \n",
       "1             8.57            18.27             5    0.057   \n",
       "2             4.93            20.08             5    0.057   \n",
       "3             5.73            13.64             5    0.057   \n",
       "4             3.36            23.86             5    0.057   \n",
       "\n",
       "                        \n",
       "  Friction Coefficient  \n",
       "0                0.082  \n",
       "1                0.238  \n",
       "2                0.274  \n",
       "3                0.086  \n",
       "4                0.374  "
      ]
     },
     "execution_count": 2,
     "metadata": {},
     "output_type": "execute_result"
    }
   ],
   "source": [
    "micro = pa.read_excel('Micro Final Data.xlsx', header = [0,1])\n",
    "micro.head()"
   ]
  },
  {
   "cell_type": "code",
   "execution_count": 3,
   "id": "ad0eda4c-8b6c-4f2b-b77b-135f1dfd87ed",
   "metadata": {},
   "outputs": [
    {
     "data": {
      "text/html": [
       "<div>\n",
       "<style scoped>\n",
       "    .dataframe tbody tr th:only-of-type {\n",
       "        vertical-align: middle;\n",
       "    }\n",
       "\n",
       "    .dataframe tbody tr th {\n",
       "        vertical-align: top;\n",
       "    }\n",
       "\n",
       "    .dataframe thead th {\n",
       "        text-align: right;\n",
       "    }\n",
       "</style>\n",
       "<table border=\"1\" class=\"dataframe\">\n",
       "  <thead>\n",
       "    <tr style=\"text-align: right;\">\n",
       "      <th></th>\n",
       "      <th>Unnamed: 0_level_1</th>\n",
       "      <th>L-filter: None</th>\n",
       "      <th>L-filter: 0.2 mm</th>\n",
       "      <th>L-filter: 0.25 mm</th>\n",
       "      <th>L-filter: 0.5 mm</th>\n",
       "      <th>L-filter: 0.8 mm</th>\n",
       "      <th>Normal Stress</th>\n",
       "      <th>Hardness</th>\n",
       "      <th>Friction Coefficient</th>\n",
       "    </tr>\n",
       "  </thead>\n",
       "  <tbody>\n",
       "    <tr>\n",
       "      <th>0</th>\n",
       "      <td>SA_S01</td>\n",
       "      <td>58.97</td>\n",
       "      <td>1.40</td>\n",
       "      <td>0.85</td>\n",
       "      <td>2.01</td>\n",
       "      <td>11.84</td>\n",
       "      <td>5</td>\n",
       "      <td>0.057</td>\n",
       "      <td>0.082</td>\n",
       "    </tr>\n",
       "    <tr>\n",
       "      <th>1</th>\n",
       "      <td>SA_S16</td>\n",
       "      <td>101.04</td>\n",
       "      <td>1.77</td>\n",
       "      <td>2.63</td>\n",
       "      <td>8.57</td>\n",
       "      <td>18.27</td>\n",
       "      <td>5</td>\n",
       "      <td>0.057</td>\n",
       "      <td>0.238</td>\n",
       "    </tr>\n",
       "    <tr>\n",
       "      <th>2</th>\n",
       "      <td>SA_S05</td>\n",
       "      <td>108.43</td>\n",
       "      <td>0.40</td>\n",
       "      <td>2.00</td>\n",
       "      <td>4.93</td>\n",
       "      <td>20.08</td>\n",
       "      <td>5</td>\n",
       "      <td>0.057</td>\n",
       "      <td>0.274</td>\n",
       "    </tr>\n",
       "    <tr>\n",
       "      <th>3</th>\n",
       "      <td>SA_S33</td>\n",
       "      <td>129.38</td>\n",
       "      <td>1.12</td>\n",
       "      <td>1.67</td>\n",
       "      <td>5.73</td>\n",
       "      <td>13.64</td>\n",
       "      <td>5</td>\n",
       "      <td>0.057</td>\n",
       "      <td>0.086</td>\n",
       "    </tr>\n",
       "    <tr>\n",
       "      <th>4</th>\n",
       "      <td>SA_S04</td>\n",
       "      <td>142.87</td>\n",
       "      <td>0.48</td>\n",
       "      <td>1.48</td>\n",
       "      <td>3.36</td>\n",
       "      <td>23.86</td>\n",
       "      <td>5</td>\n",
       "      <td>0.057</td>\n",
       "      <td>0.374</td>\n",
       "    </tr>\n",
       "  </tbody>\n",
       "</table>\n",
       "</div>"
      ],
      "text/plain": [
       "  Unnamed: 0_level_1  L-filter: None   L-filter: 0.2 mm   L-filter: 0.25 mm   \\\n",
       "0             SA_S01            58.97               1.40                0.85   \n",
       "1             SA_S16           101.04               1.77                2.63   \n",
       "2             SA_S05           108.43               0.40                2.00   \n",
       "3             SA_S33           129.38               1.12                1.67   \n",
       "4             SA_S04           142.87               0.48                1.48   \n",
       "\n",
       "   L-filter: 0.5 mm  L-filter: 0.8 mm  Normal Stress  Hardness  \\\n",
       "0              2.01             11.84              5     0.057   \n",
       "1              8.57             18.27              5     0.057   \n",
       "2              4.93             20.08              5     0.057   \n",
       "3              5.73             13.64              5     0.057   \n",
       "4              3.36             23.86              5     0.057   \n",
       "\n",
       "   Friction Coefficient  \n",
       "0                 0.082  \n",
       "1                 0.238  \n",
       "2                 0.274  \n",
       "3                 0.086  \n",
       "4                 0.374  "
      ]
     },
     "execution_count": 3,
     "metadata": {},
     "output_type": "execute_result"
    }
   ],
   "source": [
    "micro.columns = micro.columns.droplevel(0)\n",
    "micro.head()"
   ]
  },
  {
   "cell_type": "code",
   "execution_count": 4,
   "id": "e3da8466-e77d-4b2c-bd55-a3dbec63c08c",
   "metadata": {},
   "outputs": [
    {
     "name": "stdout",
     "output_type": "stream",
     "text": [
      "<class 'pandas.core.frame.DataFrame'>\n",
      "RangeIndex: 296 entries, 0 to 295\n",
      "Data columns (total 9 columns):\n",
      " #   Column                Non-Null Count  Dtype  \n",
      "---  ------                --------------  -----  \n",
      " 0   Unnamed: 0_level_1    296 non-null    object \n",
      " 1   L-filter: None        296 non-null    float64\n",
      " 2   L-filter: 0.2 mm      296 non-null    float64\n",
      " 3   L-filter: 0.25 mm     296 non-null    float64\n",
      " 4   L-filter: 0.5 mm      296 non-null    float64\n",
      " 5   L-filter: 0.8 mm      288 non-null    float64\n",
      " 6   Normal Stress         296 non-null    int64  \n",
      " 7   Hardness              296 non-null    float64\n",
      " 8   Friction Coefficient  275 non-null    float64\n",
      "dtypes: float64(7), int64(1), object(1)\n",
      "memory usage: 20.9+ KB\n"
     ]
    }
   ],
   "source": [
    "micro.info()"
   ]
  },
  {
   "cell_type": "code",
   "execution_count": 5,
   "id": "a6c9995c-00f1-4271-8fa2-74e558c8214e",
   "metadata": {},
   "outputs": [
    {
     "data": {
      "text/html": [
       "<div>\n",
       "<style scoped>\n",
       "    .dataframe tbody tr th:only-of-type {\n",
       "        vertical-align: middle;\n",
       "    }\n",
       "\n",
       "    .dataframe tbody tr th {\n",
       "        vertical-align: top;\n",
       "    }\n",
       "\n",
       "    .dataframe thead th {\n",
       "        text-align: right;\n",
       "    }\n",
       "</style>\n",
       "<table border=\"1\" class=\"dataframe\">\n",
       "  <thead>\n",
       "    <tr style=\"text-align: right;\">\n",
       "      <th></th>\n",
       "      <th>L-filter: None</th>\n",
       "      <th>L-filter: 0.2 mm</th>\n",
       "      <th>L-filter: 0.25 mm</th>\n",
       "      <th>L-filter: 0.5 mm</th>\n",
       "      <th>L-filter: 0.8 mm</th>\n",
       "      <th>Normal Stress</th>\n",
       "      <th>Hardness</th>\n",
       "      <th>Friction Coefficient</th>\n",
       "    </tr>\n",
       "  </thead>\n",
       "  <tbody>\n",
       "    <tr>\n",
       "      <th>count</th>\n",
       "      <td>296.000000</td>\n",
       "      <td>296.000000</td>\n",
       "      <td>296.000000</td>\n",
       "      <td>296.000000</td>\n",
       "      <td>288.000000</td>\n",
       "      <td>296.000000</td>\n",
       "      <td>296.000000</td>\n",
       "      <td>275.000000</td>\n",
       "    </tr>\n",
       "    <tr>\n",
       "      <th>mean</th>\n",
       "      <td>265.287703</td>\n",
       "      <td>2.040676</td>\n",
       "      <td>3.082432</td>\n",
       "      <td>9.727703</td>\n",
       "      <td>22.474306</td>\n",
       "      <td>18.750000</td>\n",
       "      <td>0.555419</td>\n",
       "      <td>0.847342</td>\n",
       "    </tr>\n",
       "    <tr>\n",
       "      <th>std</th>\n",
       "      <td>116.676692</td>\n",
       "      <td>1.243903</td>\n",
       "      <td>1.680672</td>\n",
       "      <td>5.050105</td>\n",
       "      <td>8.582137</td>\n",
       "      <td>13.427457</td>\n",
       "      <td>0.891389</td>\n",
       "      <td>0.598380</td>\n",
       "    </tr>\n",
       "    <tr>\n",
       "      <th>min</th>\n",
       "      <td>57.860000</td>\n",
       "      <td>0.250000</td>\n",
       "      <td>0.850000</td>\n",
       "      <td>1.750000</td>\n",
       "      <td>10.530000</td>\n",
       "      <td>5.000000</td>\n",
       "      <td>0.046000</td>\n",
       "      <td>0.014000</td>\n",
       "    </tr>\n",
       "    <tr>\n",
       "      <th>25%</th>\n",
       "      <td>165.800000</td>\n",
       "      <td>1.290000</td>\n",
       "      <td>2.000000</td>\n",
       "      <td>6.930000</td>\n",
       "      <td>16.825000</td>\n",
       "      <td>8.750000</td>\n",
       "      <td>0.046000</td>\n",
       "      <td>0.380750</td>\n",
       "    </tr>\n",
       "    <tr>\n",
       "      <th>50%</th>\n",
       "      <td>274.345000</td>\n",
       "      <td>1.770000</td>\n",
       "      <td>2.700000</td>\n",
       "      <td>8.570000</td>\n",
       "      <td>20.065000</td>\n",
       "      <td>15.000000</td>\n",
       "      <td>0.057000</td>\n",
       "      <td>0.652000</td>\n",
       "    </tr>\n",
       "    <tr>\n",
       "      <th>75%</th>\n",
       "      <td>351.780000</td>\n",
       "      <td>2.600000</td>\n",
       "      <td>3.870000</td>\n",
       "      <td>12.660000</td>\n",
       "      <td>27.087500</td>\n",
       "      <td>25.000000</td>\n",
       "      <td>0.057000</td>\n",
       "      <td>1.196000</td>\n",
       "    </tr>\n",
       "    <tr>\n",
       "      <th>max</th>\n",
       "      <td>532.410000</td>\n",
       "      <td>6.390000</td>\n",
       "      <td>9.200000</td>\n",
       "      <td>28.910000</td>\n",
       "      <td>58.470000</td>\n",
       "      <td>40.000000</td>\n",
       "      <td>2.125000</td>\n",
       "      <td>3.198000</td>\n",
       "    </tr>\n",
       "  </tbody>\n",
       "</table>\n",
       "</div>"
      ],
      "text/plain": [
       "       L-filter: None   L-filter: 0.2 mm   L-filter: 0.25 mm   \\\n",
       "count       296.000000         296.000000          296.000000   \n",
       "mean        265.287703           2.040676            3.082432   \n",
       "std         116.676692           1.243903            1.680672   \n",
       "min          57.860000           0.250000            0.850000   \n",
       "25%         165.800000           1.290000            2.000000   \n",
       "50%         274.345000           1.770000            2.700000   \n",
       "75%         351.780000           2.600000            3.870000   \n",
       "max         532.410000           6.390000            9.200000   \n",
       "\n",
       "       L-filter: 0.5 mm  L-filter: 0.8 mm  Normal Stress    Hardness  \\\n",
       "count        296.000000        288.000000     296.000000  296.000000   \n",
       "mean           9.727703         22.474306      18.750000    0.555419   \n",
       "std            5.050105          8.582137      13.427457    0.891389   \n",
       "min            1.750000         10.530000       5.000000    0.046000   \n",
       "25%            6.930000         16.825000       8.750000    0.046000   \n",
       "50%            8.570000         20.065000      15.000000    0.057000   \n",
       "75%           12.660000         27.087500      25.000000    0.057000   \n",
       "max           28.910000         58.470000      40.000000    2.125000   \n",
       "\n",
       "       Friction Coefficient  \n",
       "count            275.000000  \n",
       "mean               0.847342  \n",
       "std                0.598380  \n",
       "min                0.014000  \n",
       "25%                0.380750  \n",
       "50%                0.652000  \n",
       "75%                1.196000  \n",
       "max                3.198000  "
      ]
     },
     "execution_count": 5,
     "metadata": {},
     "output_type": "execute_result"
    }
   ],
   "source": [
    "micro.describe()"
   ]
  },
  {
   "cell_type": "code",
   "execution_count": 6,
   "id": "e629a42e-de71-4532-bfa0-582ef7bbe34f",
   "metadata": {},
   "outputs": [
    {
     "data": {
      "text/plain": [
       "Unnamed: 0_level_1       60\n",
       "L-filter: None           59\n",
       "L-filter: 0.2 mm         55\n",
       "L-filter: 0.25 mm        58\n",
       "L-filter: 0.5 mm         57\n",
       "L-filter: 0.8 mm         57\n",
       "Normal Stress             4\n",
       "Hardness                  3\n",
       "Friction Coefficient    262\n",
       "dtype: int64"
      ]
     },
     "execution_count": 6,
     "metadata": {},
     "output_type": "execute_result"
    }
   ],
   "source": [
    "micro.nunique()"
   ]
  },
  {
   "cell_type": "code",
   "execution_count": 7,
   "id": "b3c72263-8b84-452d-8b11-a12e259e8603",
   "metadata": {},
   "outputs": [
    {
     "data": {
      "text/plain": [
       "Index(['Unnamed: 0_level_1', 'L-filter: None', 'L-filter: 0.2 mm',\n",
       "       'L-filter: 0.25 mm', 'L-filter: 0.5 mm', 'L-filter: 0.8 mm',\n",
       "       'Normal Stress', 'Hardness', 'Friction Coefficient'],\n",
       "      dtype='object')"
      ]
     },
     "execution_count": 7,
     "metadata": {},
     "output_type": "execute_result"
    }
   ],
   "source": [
    "micro.columns = micro.columns.map(lambda x: x.strip())\n",
    "micro.columns"
   ]
  },
  {
   "cell_type": "code",
   "execution_count": 8,
   "id": "06b812cd-cc0b-4c36-bf84-33a6a61f9ea2",
   "metadata": {},
   "outputs": [
    {
     "data": {
      "text/plain": [
       "21"
      ]
     },
     "execution_count": 8,
     "metadata": {},
     "output_type": "execute_result"
    }
   ],
   "source": [
    "micro['Friction Coefficient'].isnull().sum()\n"
   ]
  },
  {
   "cell_type": "code",
   "execution_count": 9,
   "id": "00d0ebda-bf48-4e78-b3e2-588e2ee24bcd",
   "metadata": {},
   "outputs": [
    {
     "data": {
      "text/plain": [
       "0"
      ]
     },
     "execution_count": 9,
     "metadata": {},
     "output_type": "execute_result"
    }
   ],
   "source": [
    "micro.dropna(subset = ['Friction Coefficient'], inplace = True)\n",
    "micro['Friction Coefficient'].isnull().sum()\n"
   ]
  },
  {
   "cell_type": "code",
   "execution_count": 10,
   "id": "e1c6eab1-6b3b-41e5-a9fd-de1fcda34d8a",
   "metadata": {},
   "outputs": [],
   "source": [
    "import matplotlib.pyplot as plt\n",
    "import seaborn as sns"
   ]
  },
  {
   "cell_type": "code",
   "execution_count": 11,
   "id": "2ef65172-9445-4d2f-86e9-257c29c634ca",
   "metadata": {},
   "outputs": [],
   "source": [
    "# micro_40.head()"
   ]
  },
  {
   "cell_type": "markdown",
   "id": "e7e7b9e0-b5ed-4b66-9f84-cd02efe4e276",
   "metadata": {},
   "source": [
    "# Checking for Outliers"
   ]
  },
  {
   "cell_type": "markdown",
   "id": "cc90cffe-10b5-4b43-8bfd-a7bad580b964",
   "metadata": {},
   "source": [
    "### Using IQR method"
   ]
  },
  {
   "cell_type": "markdown",
   "id": "6e5d00c3-b86c-4d60-8296-644ea0b72b83",
   "metadata": {},
   "source": [
    "#### Visualising"
   ]
  },
  {
   "cell_type": "code",
   "execution_count": 12,
   "id": "18eb7c34-d885-4c1c-a5c3-3a0eac8f6da4",
   "metadata": {},
   "outputs": [],
   "source": [
    "def iqr(df, column_name):\n",
    "    # Calculate Q1 (25th percentile) and Q3 (75th percentile)\n",
    "    Q1 = df[column_name].quantile(0.25)\n",
    "    Q3 = df[column_name].quantile(0.75)\n",
    "    IQR = Q3 - Q1\n",
    "\n",
    "    # Calculate lower and upper bounds\n",
    "    lower_bound = Q1 - 1.5 * IQR\n",
    "    upper_bound = Q3 + 1.5 * IQR\n",
    "\n",
    "    # Identify outliers\n",
    "    outliers_below = df[column_name] < lower_bound\n",
    "    outliers_above = df[column_name] > upper_bound\n",
    "\n",
    "    # Count outliers\n",
    "    count_below = outliers_below.sum()\n",
    "    count_above = outliers_above.sum()\n",
    "    total_outliers = count_below + count_above\n",
    "\n",
    "    print(f\"Lower bound: {lower_bound}\")\n",
    "    print(f\"Upper bound: {upper_bound}\")\n",
    "    print(f\"Number of outliers below lower bound: {count_below}\")\n",
    "    print(f\"Number of outliers above upper bound: {count_above}\")\n",
    "    print(f\"Total number of outliers: {total_outliers}\")\n",
    "\n",
    "    # Visualize original data\n",
    "    plt.figure(figsize=(10, 4))\n",
    "    plt.subplot(1, 2, 1)\n",
    "    sns.boxplot(x=df[column_name])\n",
    "    plt.title(f'Box plot of {column_name}')\n",
    "\n",
    "    plt.subplot(1, 2, 2)\n",
    "    sns.histplot(df[column_name], bins=30)\n",
    "    plt.title(f'Histogram of {column_name}')\n",
    "    plt.show()\n",
    "\n"
   ]
  },
  {
   "cell_type": "code",
   "execution_count": 13,
   "id": "f063e548-d9b5-4d08-ba2b-b921416ae8cd",
   "metadata": {},
   "outputs": [
    {
     "name": "stdout",
     "output_type": "stream",
     "text": [
      "Lower bound: -0.8421249999999999\n",
      "Upper bound: 2.418875\n",
      "Number of outliers below lower bound: 0\n",
      "Number of outliers above upper bound: 6\n",
      "Total number of outliers: 6\n"
     ]
    },
    {
     "data": {
      "image/png": "[encoded data removed]",
      "text/plain": [
       "<Figure size 1000x400 with 2 Axes>"
      ]
     },
     "metadata": {},
     "output_type": "display_data"
    }
   ],
   "source": [
    "iqr(micro, 'Friction Coefficient')"
   ]
  },
  {
   "cell_type": "markdown",
   "id": "f41e1494-0c1d-4cdb-8f29-7d897f8fd8f2",
   "metadata": {},
   "source": [
    "#### Removing Outliers"
   ]
  },
  {
   "cell_type": "code",
   "execution_count": 14,
   "id": "89abb86a-7868-47b7-833f-d9443f87d33b",
   "metadata": {},
   "outputs": [
    {
     "data": {
      "image/png": "[encoded data removed]",
      "text/plain": [
       "<Figure size 1000x400 with 2 Axes>"
      ]
     },
     "metadata": {},
     "output_type": "display_data"
    }
   ],
   "source": [
    "Q1 = micro['Friction Coefficient'].quantile(0.25)\n",
    "Q3 = micro['Friction Coefficient'].quantile(0.75)\n",
    "IQR = Q3 - Q1\n",
    "\n",
    "# Calculate lower and upper bounds\n",
    "lower_bound = Q1 - 1.5 * IQR\n",
    "upper_bound = Q3 + 1.5 * IQR\n",
    "\n",
    "\n",
    "# Remove outliers\n",
    "micro = micro[(micro['Friction Coefficient'] > lower_bound) & (micro['Friction Coefficient'] < upper_bound)]\n",
    "\n",
    "# Visualize cleaned data\n",
    "plt.figure(figsize=(10, 4))\n",
    "plt.subplot(1, 2, 1)\n",
    "sns.boxplot(x=micro['Friction Coefficient'])\n",
    "plt.title(f'Box plot of Friction Coefficient (No Outliers)')\n",
    "\n",
    "plt.subplot(1, 2, 2)\n",
    "sns.histplot(micro['Friction Coefficient'], bins=30)\n",
    "plt.title(f'Histogram of Friction Coefficient (No Outliers)')\n",
    "plt.show()"
   ]
  },
  {
   "cell_type": "code",
   "execution_count": 15,
   "id": "aba506f1-7317-4b8e-a632-0013d812d2d1",
   "metadata": {},
   "outputs": [
    {
     "name": "stdout",
     "output_type": "stream",
     "text": [
      "<class 'pandas.core.frame.DataFrame'>\n",
      "Index: 269 entries, 0 to 295\n",
      "Data columns (total 9 columns):\n",
      " #   Column                Non-Null Count  Dtype  \n",
      "---  ------                --------------  -----  \n",
      " 0   Unnamed: 0_level_1    269 non-null    object \n",
      " 1   L-filter: None        269 non-null    float64\n",
      " 2   L-filter: 0.2 mm      269 non-null    float64\n",
      " 3   L-filter: 0.25 mm     269 non-null    float64\n",
      " 4   L-filter: 0.5 mm      269 non-null    float64\n",
      " 5   L-filter: 0.8 mm      261 non-null    float64\n",
      " 6   Normal Stress         269 non-null    int64  \n",
      " 7   Hardness              269 non-null    float64\n",
      " 8   Friction Coefficient  269 non-null    float64\n",
      "dtypes: float64(7), int64(1), object(1)\n",
      "memory usage: 21.0+ KB\n"
     ]
    }
   ],
   "source": [
    "micro.info()"
   ]
  },
  {
   "cell_type": "code",
   "execution_count": 16,
   "id": "f3be4f13-1003-4581-a88c-c9112b550584",
   "metadata": {},
   "outputs": [
    {
     "data": {
      "text/html": [
       "<div>\n",
       "<style scoped>\n",
       "    .dataframe tbody tr th:only-of-type {\n",
       "        vertical-align: middle;\n",
       "    }\n",
       "\n",
       "    .dataframe tbody tr th {\n",
       "        vertical-align: top;\n",
       "    }\n",
       "\n",
       "    .dataframe thead th {\n",
       "        text-align: right;\n",
       "    }\n",
       "</style>\n",
       "<table border=\"1\" class=\"dataframe\">\n",
       "  <thead>\n",
       "    <tr style=\"text-align: right;\">\n",
       "      <th></th>\n",
       "      <th>L-filter: None</th>\n",
       "      <th>L-filter: 0.2 mm</th>\n",
       "      <th>L-filter: 0.25 mm</th>\n",
       "      <th>L-filter: 0.5 mm</th>\n",
       "      <th>L-filter: 0.8 mm</th>\n",
       "      <th>Normal Stress</th>\n",
       "      <th>Hardness</th>\n",
       "      <th>Friction Coefficient</th>\n",
       "    </tr>\n",
       "  </thead>\n",
       "  <tbody>\n",
       "    <tr>\n",
       "      <th>count</th>\n",
       "      <td>269.000000</td>\n",
       "      <td>269.000000</td>\n",
       "      <td>269.000000</td>\n",
       "      <td>269.000000</td>\n",
       "      <td>261.000000</td>\n",
       "      <td>269.000000</td>\n",
       "      <td>269.000000</td>\n",
       "      <td>269.000000</td>\n",
       "    </tr>\n",
       "    <tr>\n",
       "      <th>mean</th>\n",
       "      <td>259.365428</td>\n",
       "      <td>2.034684</td>\n",
       "      <td>3.073420</td>\n",
       "      <td>9.694944</td>\n",
       "      <td>22.343908</td>\n",
       "      <td>17.620818</td>\n",
       "      <td>0.606387</td>\n",
       "      <td>0.801087</td>\n",
       "    </tr>\n",
       "    <tr>\n",
       "      <th>std</th>\n",
       "      <td>116.270793</td>\n",
       "      <td>1.267206</td>\n",
       "      <td>1.717098</td>\n",
       "      <td>5.140313</td>\n",
       "      <td>8.799966</td>\n",
       "      <td>12.990715</td>\n",
       "      <td>0.919803</td>\n",
       "      <td>0.515832</td>\n",
       "    </tr>\n",
       "    <tr>\n",
       "      <th>min</th>\n",
       "      <td>57.860000</td>\n",
       "      <td>0.250000</td>\n",
       "      <td>0.850000</td>\n",
       "      <td>1.750000</td>\n",
       "      <td>10.530000</td>\n",
       "      <td>5.000000</td>\n",
       "      <td>0.046000</td>\n",
       "      <td>0.014000</td>\n",
       "    </tr>\n",
       "    <tr>\n",
       "      <th>25%</th>\n",
       "      <td>165.800000</td>\n",
       "      <td>1.290000</td>\n",
       "      <td>2.000000</td>\n",
       "      <td>6.800000</td>\n",
       "      <td>16.600000</td>\n",
       "      <td>5.000000</td>\n",
       "      <td>0.046000</td>\n",
       "      <td>0.379000</td>\n",
       "    </tr>\n",
       "    <tr>\n",
       "      <th>50%</th>\n",
       "      <td>263.940000</td>\n",
       "      <td>1.770000</td>\n",
       "      <td>2.630000</td>\n",
       "      <td>8.570000</td>\n",
       "      <td>20.050000</td>\n",
       "      <td>10.000000</td>\n",
       "      <td>0.057000</td>\n",
       "      <td>0.638000</td>\n",
       "    </tr>\n",
       "    <tr>\n",
       "      <th>75%</th>\n",
       "      <td>346.900000</td>\n",
       "      <td>2.600000</td>\n",
       "      <td>3.870000</td>\n",
       "      <td>12.600000</td>\n",
       "      <td>27.060000</td>\n",
       "      <td>20.000000</td>\n",
       "      <td>2.125000</td>\n",
       "      <td>1.128500</td>\n",
       "    </tr>\n",
       "    <tr>\n",
       "      <th>max</th>\n",
       "      <td>532.410000</td>\n",
       "      <td>6.390000</td>\n",
       "      <td>9.200000</td>\n",
       "      <td>28.910000</td>\n",
       "      <td>58.470000</td>\n",
       "      <td>40.000000</td>\n",
       "      <td>2.125000</td>\n",
       "      <td>2.340000</td>\n",
       "    </tr>\n",
       "  </tbody>\n",
       "</table>\n",
       "</div>"
      ],
      "text/plain": [
       "       L-filter: None  L-filter: 0.2 mm  L-filter: 0.25 mm  L-filter: 0.5 mm  \\\n",
       "count      269.000000        269.000000         269.000000        269.000000   \n",
       "mean       259.365428          2.034684           3.073420          9.694944   \n",
       "std        116.270793          1.267206           1.717098          5.140313   \n",
       "min         57.860000          0.250000           0.850000          1.750000   \n",
       "25%        165.800000          1.290000           2.000000          6.800000   \n",
       "50%        263.940000          1.770000           2.630000          8.570000   \n",
       "75%        346.900000          2.600000           3.870000         12.600000   \n",
       "max        532.410000          6.390000           9.200000         28.910000   \n",
       "\n",
       "       L-filter: 0.8 mm  Normal Stress    Hardness  Friction Coefficient  \n",
       "count        261.000000     269.000000  269.000000            269.000000  \n",
       "mean          22.343908      17.620818    0.606387              0.801087  \n",
       "std            8.799966      12.990715    0.919803              0.515832  \n",
       "min           10.530000       5.000000    0.046000              0.014000  \n",
       "25%           16.600000       5.000000    0.046000              0.379000  \n",
       "50%           20.050000      10.000000    0.057000              0.638000  \n",
       "75%           27.060000      20.000000    2.125000              1.128500  \n",
       "max           58.470000      40.000000    2.125000              2.340000  "
      ]
     },
     "execution_count": 16,
     "metadata": {},
     "output_type": "execute_result"
    }
   ],
   "source": [
    "micro.describe()"
   ]
  },
  {
   "cell_type": "code",
   "execution_count": null,
   "id": "f0dda069-84a5-4c32-970d-3ff9d6459e96",
   "metadata": {},
   "outputs": [],
   "source": []
  },
  {
   "cell_type": "markdown",
   "id": "7dad4f88-8d84-4172-934b-75967388d496",
   "metadata": {},
   "source": [
    "# Checking Correllations"
   ]
  },
  {
   "cell_type": "code",
   "execution_count": 17,
   "id": "59ecbce5-5eaa-4ed3-a0e6-d5329623e949",
   "metadata": {},
   "outputs": [
    {
     "data": {
      "text/plain": [
       "<Axes: xlabel='L-filter: None', ylabel='Friction Coefficient'>"
      ]
     },
     "execution_count": 17,
     "metadata": {},
     "output_type": "execute_result"
    },
    {
     "data": {
      "image/png": "[encoded data removed]",
      "text/plain": [
       "<Figure size 640x480 with 1 Axes>"
      ]
     },
     "metadata": {},
     "output_type": "display_data"
    }
   ],
   "source": [
    "micro.plot(kind='scatter', x='L-filter: None', y= 'Friction Coefficient', alpha=0.7)\n"
   ]
  },
  {
   "cell_type": "code",
   "execution_count": 18,
   "id": "7fbca32c-39d3-416f-9269-0cfcc2accb77",
   "metadata": {},
   "outputs": [],
   "source": [
    "micro.drop('Unnamed: 0_level_1', axis = 1, inplace = True)\n",
    "# micro_5.drop('Unnamed: 0_level_1', axis = 1, inplace = True)\n",
    "# micro_10.drop('Unnamed: 0_level_1', axis = 1, inplace = True)\n",
    "# micro_20.drop('Unnamed: 0_level_1', axis = 1, inplace = True)\n",
    "# micro_40.drop('Unnamed: 0_level_1', axis = 1, inplace = True)"
   ]
  },
  {
   "cell_type": "code",
   "execution_count": 19,
   "id": "f5e8567f-41e1-49cf-8346-0cc3fd42e2ba",
   "metadata": {},
   "outputs": [],
   "source": [
    "correlations = micro.corr(method = 'spearman')\n"
   ]
  },
  {
   "cell_type": "code",
   "execution_count": 20,
   "id": "b846bb32-0f42-492f-af31-fb08b3bef0ef",
   "metadata": {},
   "outputs": [
    {
     "data": {
      "text/plain": [
       "Friction Coefficient    1.000000\n",
       "L-filter: None          0.411211\n",
       "L-filter: 0.25 mm       0.236290\n",
       "L-filter: 0.5 mm        0.215561\n",
       "L-filter: 0.2 mm        0.171417\n",
       "L-filter: 0.8 mm        0.148489\n",
       "Normal Stress           0.012893\n",
       "Hardness               -0.736826\n",
       "Name: Friction Coefficient, dtype: float64"
      ]
     },
     "execution_count": 20,
     "metadata": {},
     "output_type": "execute_result"
    }
   ],
   "source": [
    "correlations['Friction Coefficient'].sort_values(ascending=False)"
   ]
  },
  {
   "cell_type": "code",
   "execution_count": 21,
   "id": "25453e27-cce7-4438-97ac-f74e9709ffb8",
   "metadata": {},
   "outputs": [
    {
     "data": {
      "image/png": "[encoded data removed]",
      "text/plain": [
       "<Figure size 500x400 with 2 Axes>"
      ]
     },
     "metadata": {},
     "output_type": "display_data"
    }
   ],
   "source": [
    "# Plot the heatmap with adjusted annotation size\n",
    "plt.figure(figsize=(5, 4))  # Adjust the figure size as per your requirement\n",
    "sns.heatmap(correlations, annot=True, cmap='coolwarm', vmin=-1, vmax=1, annot_kws={\"size\": 7})  # Adjust annot_kws to control annotation size\n",
    "plt.title('Correlation Heatmap')\n",
    "plt.show()"
   ]
  },
  {
   "cell_type": "markdown",
   "id": "b00f2dbb-d55f-466a-b15e-16843d83b345",
   "metadata": {},
   "source": [
    "The highest Correllation Value of Roughness correspond to Roughness with no filter. So only that will be used as input parameter."
   ]
  },
  {
   "cell_type": "markdown",
   "id": "a326d66f-5869-4235-8694-28868a4d2ef6",
   "metadata": {},
   "source": [
    "# Splitting Data"
   ]
  },
  {
   "cell_type": "code",
   "execution_count": 22,
   "id": "d980b272-c6af-472b-861d-61b0477d8c38",
   "metadata": {},
   "outputs": [
    {
     "name": "stdout",
     "output_type": "stream",
     "text": [
      "Train set size: 201\n",
      "Dev set size: 40\n",
      "Test set size: 28\n"
     ]
    }
   ],
   "source": [
    "from sklearn.model_selection import StratifiedShuffleSplit\n",
    "\n",
    "def stratified_split(micro, stratify_col, test_size=0.1, dev_size=0.15, random_state=50):\n",
    "    # First split: 75% train, 25% dev_test\n",
    "    stratified_splitter_1 = StratifiedShuffleSplit(n_splits=1, test_size=0.25, random_state=random_state)\n",
    "    for train_index, dev_test_index in stratified_splitter_1.split(micro, micro[stratify_col]):\n",
    "        train_set = micro.iloc[train_index]\n",
    "        dev_test_set = micro.iloc[dev_test_index]\n",
    "    \n",
    "    # Calculate the proportion of dev and test within the dev_test set\n",
    "    total_dev_test_size = dev_size + test_size\n",
    "    test_proportion = test_size / total_dev_test_size\n",
    "    dev_proportion = dev_size / total_dev_test_size\n",
    "    \n",
    "    # Second split: split dev_test set into dev (15%) and test (10%)\n",
    "    stratified_splitter_2 = StratifiedShuffleSplit(n_splits=1, test_size=test_proportion, random_state=random_state)\n",
    "    for dev_index, test_index in stratified_splitter_2.split(dev_test_set, dev_test_set[stratify_col]):\n",
    "        dev_set = dev_test_set.iloc[dev_index]\n",
    "        test_set = dev_test_set.iloc[test_index]\n",
    "    \n",
    "    # Return the three sets\n",
    "    return train_set, dev_set, test_set\n",
    "\n",
    "# Example usage\n",
    "# Assuming 'micro' is your DataFrame and 'Hardness' is the column to stratify by\n",
    "train_set, dev_set, test_set = stratified_split(micro, 'Hardness')\n",
    "\n",
    "# Print the sizes of the splits\n",
    "print(f\"Train set size: {len(train_set)}\")\n",
    "print(f\"Dev set size: {len(dev_set)}\")\n",
    "print(f\"Test set size: {len(test_set)}\")\n"
   ]
  },
  {
   "cell_type": "code",
   "execution_count": 23,
   "id": "7470179b-6e80-483d-9d89-565cdfab2951",
   "metadata": {},
   "outputs": [
    {
     "name": "stdout",
     "output_type": "stream",
     "text": [
      "<class 'pandas.core.frame.DataFrame'>\n",
      "Index: 28 entries, 267 to 216\n",
      "Data columns (total 8 columns):\n",
      " #   Column                Non-Null Count  Dtype  \n",
      "---  ------                --------------  -----  \n",
      " 0   L-filter: None        28 non-null     float64\n",
      " 1   L-filter: 0.2 mm      28 non-null     float64\n",
      " 2   L-filter: 0.25 mm     28 non-null     float64\n",
      " 3   L-filter: 0.5 mm      28 non-null     float64\n",
      " 4   L-filter: 0.8 mm      28 non-null     float64\n",
      " 5   Normal Stress         28 non-null     int64  \n",
      " 6   Hardness              28 non-null     float64\n",
      " 7   Friction Coefficient  28 non-null     float64\n",
      "dtypes: float64(7), int64(1)\n",
      "memory usage: 2.0 KB\n"
     ]
    }
   ],
   "source": [
    "test_set.info()"
   ]
  },
  {
   "cell_type": "markdown",
   "id": "64949c90-c50e-454e-bb3f-a631b4650f16",
   "metadata": {},
   "source": [
    "# Pipeline"
   ]
  },
  {
   "cell_type": "code",
   "execution_count": 25,
   "id": "105d5b40-f65f-4abe-a1b1-e921e0c8f5fb",
   "metadata": {},
   "outputs": [
    {
     "data": {
      "text/html": [
       "<div>\n",
       "<style scoped>\n",
       "    .dataframe tbody tr th:only-of-type {\n",
       "        vertical-align: middle;\n",
       "    }\n",
       "\n",
       "    .dataframe tbody tr th {\n",
       "        vertical-align: top;\n",
       "    }\n",
       "\n",
       "    .dataframe thead th {\n",
       "        text-align: right;\n",
       "    }\n",
       "</style>\n",
       "<table border=\"1\" class=\"dataframe\">\n",
       "  <thead>\n",
       "    <tr style=\"text-align: right;\">\n",
       "      <th></th>\n",
       "      <th>L-filter: None</th>\n",
       "      <th>Normal Stress</th>\n",
       "      <th>Hardness</th>\n",
       "    </tr>\n",
       "  </thead>\n",
       "  <tbody>\n",
       "    <tr>\n",
       "      <th>95</th>\n",
       "      <td>365.11</td>\n",
       "      <td>40</td>\n",
       "      <td>0.057</td>\n",
       "    </tr>\n",
       "    <tr>\n",
       "      <th>208</th>\n",
       "      <td>126.21</td>\n",
       "      <td>10</td>\n",
       "      <td>0.046</td>\n",
       "    </tr>\n",
       "    <tr>\n",
       "      <th>6</th>\n",
       "      <td>194.89</td>\n",
       "      <td>5</td>\n",
       "      <td>0.057</td>\n",
       "    </tr>\n",
       "    <tr>\n",
       "      <th>115</th>\n",
       "      <td>401.21</td>\n",
       "      <td>5</td>\n",
       "      <td>2.125</td>\n",
       "    </tr>\n",
       "    <tr>\n",
       "      <th>66</th>\n",
       "      <td>317.89</td>\n",
       "      <td>20</td>\n",
       "      <td>0.057</td>\n",
       "    </tr>\n",
       "  </tbody>\n",
       "</table>\n",
       "</div>"
      ],
      "text/plain": [
       "     L-filter: None  Normal Stress  Hardness\n",
       "95           365.11             40     0.057\n",
       "208          126.21             10     0.046\n",
       "6            194.89              5     0.057\n",
       "115          401.21              5     2.125\n",
       "66           317.89             20     0.057"
      ]
     },
     "execution_count": 25,
     "metadata": {},
     "output_type": "execute_result"
    }
   ],
   "source": [
    "# Assuming 'train_set' is your DataFrame\n",
    "micro_train_data = train_set[['L-filter: None', 'Normal Stress', 'Hardness']]\n",
    "micro_train_labels = train_set['Friction Coefficient']\n",
    "micro_train_data.head()\n"
   ]
  },
  {
   "cell_type": "code",
   "execution_count": 26,
   "id": "d9241eda-5d69-4393-8042-9f5d4e5ce7a4",
   "metadata": {},
   "outputs": [
    {
     "data": {
      "text/html": [
       "<div>\n",
       "<style scoped>\n",
       "    .dataframe tbody tr th:only-of-type {\n",
       "        vertical-align: middle;\n",
       "    }\n",
       "\n",
       "    .dataframe tbody tr th {\n",
       "        vertical-align: top;\n",
       "    }\n",
       "\n",
       "    .dataframe thead th {\n",
       "        text-align: right;\n",
       "    }\n",
       "</style>\n",
       "<table border=\"1\" class=\"dataframe\">\n",
       "  <thead>\n",
       "    <tr style=\"text-align: right;\">\n",
       "      <th></th>\n",
       "      <th>L-filter: None</th>\n",
       "      <th>Normal Stress</th>\n",
       "      <th>Hardness</th>\n",
       "    </tr>\n",
       "  </thead>\n",
       "  <tbody>\n",
       "    <tr>\n",
       "      <th>241</th>\n",
       "      <td>154.22</td>\n",
       "      <td>20</td>\n",
       "      <td>0.046</td>\n",
       "    </tr>\n",
       "    <tr>\n",
       "      <th>155</th>\n",
       "      <td>85.45</td>\n",
       "      <td>40</td>\n",
       "      <td>2.125</td>\n",
       "    </tr>\n",
       "    <tr>\n",
       "      <th>80</th>\n",
       "      <td>184.97</td>\n",
       "      <td>40</td>\n",
       "      <td>0.057</td>\n",
       "    </tr>\n",
       "    <tr>\n",
       "      <th>103</th>\n",
       "      <td>165.80</td>\n",
       "      <td>5</td>\n",
       "      <td>2.125</td>\n",
       "    </tr>\n",
       "    <tr>\n",
       "      <th>56</th>\n",
       "      <td>194.89</td>\n",
       "      <td>20</td>\n",
       "      <td>0.057</td>\n",
       "    </tr>\n",
       "  </tbody>\n",
       "</table>\n",
       "</div>"
      ],
      "text/plain": [
       "     L-filter: None  Normal Stress  Hardness\n",
       "241          154.22             20     0.046\n",
       "155           85.45             40     2.125\n",
       "80           184.97             40     0.057\n",
       "103          165.80              5     2.125\n",
       "56           194.89             20     0.057"
      ]
     },
     "execution_count": 26,
     "metadata": {},
     "output_type": "execute_result"
    }
   ],
   "source": [
    "micro_dev_data = dev_set[['L-filter: None', 'Normal Stress', 'Hardness']]\n",
    "micro_dev_labels = dev_set['Friction Coefficient']\n",
    "micro_dev_data.head()\n"
   ]
  },
  {
   "cell_type": "code",
   "execution_count": 27,
   "id": "80764585-54c9-420c-9f94-29bcd5e2d305",
   "metadata": {},
   "outputs": [],
   "source": [
    "from sklearn.pipeline import Pipeline\n",
    "from sklearn.preprocessing import StandardScaler, FunctionTransformer, MinMaxScaler\n",
    "from sklearn.compose import ColumnTransformer"
   ]
  },
  {
   "cell_type": "code",
   "execution_count": 112,
   "id": "c7cddd4e-f202-4f94-b7a3-431ed6b7b2d1",
   "metadata": {},
   "outputs": [],
   "source": [
    "preprocessor = ColumnTransformer(\n",
    "    transformers=[\n",
    "        ('num', StandardScaler(), ['L-filter: None','Normal Stress','Hardness']),\n",
    "    ])\n",
    "\n",
    "the_pipeline = Pipeline(steps=[\n",
    "    ('preprocessor', preprocessor),\n",
    "])"
   ]
  },
  {
   "cell_type": "code",
   "execution_count": 30,
   "id": "bc8b36bb-f85d-47c2-a7b1-1904355ab956",
   "metadata": {},
   "outputs": [],
   "source": [
    "micro_train_data_num = the_pipeline.fit_transform(micro_train_data)"
   ]
  },
  {
   "cell_type": "code",
   "execution_count": 31,
   "id": "8917c6cb-1a9f-48f3-af49-360ff85dcf06",
   "metadata": {},
   "outputs": [
    {
     "data": {
      "text/plain": [
       "(201, 3)"
      ]
     },
     "execution_count": 31,
     "metadata": {},
     "output_type": "execute_result"
    }
   ],
   "source": [
    "micro_train_data_num.shape"
   ]
  },
  {
   "cell_type": "code",
   "execution_count": 32,
   "id": "9cc4968a-1c9b-40e8-b1b8-3ddefac6bf05",
   "metadata": {},
   "outputs": [],
   "source": [
    "micro_dev_data_num = the_pipeline.transform(micro_dev_data)"
   ]
  },
  {
   "cell_type": "code",
   "execution_count": 33,
   "id": "9a325563-ac30-4fda-88b6-0ee675c61e85",
   "metadata": {},
   "outputs": [
    {
     "data": {
      "text/plain": [
       "(40, 3)"
      ]
     },
     "execution_count": 33,
     "metadata": {},
     "output_type": "execute_result"
    }
   ],
   "source": [
    "micro_dev_data_num.shape"
   ]
  },
  {
   "cell_type": "markdown",
   "id": "713ce165-271b-4ba8-91f1-06a3963e441d",
   "metadata": {},
   "source": [
    "# Models"
   ]
  },
  {
   "cell_type": "markdown",
   "id": "d2123662-cfb4-4d2a-be00-efe11c00b6c4",
   "metadata": {},
   "source": [
    "### Defining some evaluation metrics before model implementations"
   ]
  },
  {
   "cell_type": "code",
   "execution_count": 34,
   "id": "1cf95b42-6da2-4eb5-ba49-ceae46c04c9c",
   "metadata": {},
   "outputs": [],
   "source": [
    "from sklearn.metrics import mean_squared_error\n",
    "def rmse(model):\n",
    "    pred=model.predict(micro_train_data_num)\n",
    "    lin_mse = mean_squared_error(micro_train_labels, pred)\n",
    "    lin_rmse= np.sqrt(lin_mse)\n",
    "    return lin_rmse"
   ]
  },
  {
   "cell_type": "code",
   "execution_count": 35,
   "id": "fd025519-1883-440c-9c21-edbecfe8cb92",
   "metadata": {},
   "outputs": [],
   "source": [
    "def R2_validation(true, pred):\n",
    "    n = len(true)\n",
    "    n1 = np.sum(true*pred)\n",
    "    n2 = (np.sum(pred))*(np.sum(true))\n",
    "    d1 = np.sum(pred**2)\n",
    "    d2 = (np.sum(pred))**2\n",
    "    d3 = np.sum(true**2)\n",
    "    d4 = (np.sum(true))**2\n",
    "    num = (n*n1 - n2)**2\n",
    "    den = (n*d1 - d2)*(n*d3 - d4)\n",
    "\n",
    "    return num/den"
   ]
  },
  {
   "cell_type": "markdown",
   "id": "51167f45-f68b-4926-bb00-357568c864dc",
   "metadata": {},
   "source": [
    "## 1. Random Forests"
   ]
  },
  {
   "cell_type": "code",
   "execution_count": 36,
   "id": "f20be701-3c65-43ea-b08d-eb8b8d3ede97",
   "metadata": {},
   "outputs": [],
   "source": [
    "from sklearn.ensemble import RandomForestRegressor, BaggingRegressor, AdaBoostRegressor"
   ]
  },
  {
   "cell_type": "code",
   "execution_count": 39,
   "id": "91ff2974-6f41-4f16-a5c9-5c9d364b2f9d",
   "metadata": {},
   "outputs": [],
   "source": [
    "# Base estimator (Random Forest for Bagging)\n",
    "base_estimator = RandomForestRegressor(n_estimators=100, random_state=25)\n",
    "\n",
    "# Bagging model\n",
    "# n_estimatiors value decided using elbow method, givne below\n",
    "model_rf = BaggingRegressor(estimator=base_estimator, n_estimators=18, random_state=27)"
   ]
  },
  {
   "cell_type": "code",
   "execution_count": 40,
   "id": "eecedaf1-21a0-42e5-adb5-d5c96448aa96",
   "metadata": {},
   "outputs": [
    {
     "data": {
      "text/html": [
       "<style>#sk-container-id-1 {color: black;}#sk-container-id-1 pre{padding: 0;}#sk-container-id-1 div.sk-toggleable {background-color: white;}#sk-container-id-1 label.sk-toggleable__label {cursor: pointer;display: block;width: 100%;margin-bottom: 0;padding: 0.3em;box-sizing: border-box;text-align: center;}#sk-container-id-1 label.sk-toggleable__label-arrow:before {content: \"▸\";float: left;margin-right: 0.25em;color: #696969;}#sk-container-id-1 label.sk-toggleable__label-arrow:hover:before {color: black;}#sk-container-id-1 div.sk-estimator:hover label.sk-toggleable__label-arrow:before {color: black;}#sk-container-id-1 div.sk-toggleable__content {max-height: 0;max-width: 0;overflow: hidden;text-align: left;background-color: #f0f8ff;}#sk-container-id-1 div.sk-toggleable__content pre {margin: 0.2em;color: black;border-radius: 0.25em;background-color: #f0f8ff;}#sk-container-id-1 input.sk-toggleable__control:checked~div.sk-toggleable__content {max-height: 200px;max-width: 100%;overflow: auto;}#sk-container-id-1 input.sk-toggleable__control:checked~label.sk-toggleable__label-arrow:before {content: \"▾\";}#sk-container-id-1 div.sk-estimator input.sk-toggleable__control:checked~label.sk-toggleable__label {background-color: #d4ebff;}#sk-container-id-1 div.sk-label input.sk-toggleable__control:checked~label.sk-toggleable__label {background-color: #d4ebff;}#sk-container-id-1 input.sk-hidden--visually {border: 0;clip: rect(1px 1px 1px 1px);clip: rect(1px, 1px, 1px, 1px);height: 1px;margin: -1px;overflow: hidden;padding: 0;position: absolute;width: 1px;}#sk-container-id-1 div.sk-estimator {font-family: monospace;background-color: #f0f8ff;border: 1px dotted black;border-radius: 0.25em;box-sizing: border-box;margin-bottom: 0.5em;}#sk-container-id-1 div.sk-estimator:hover {background-color: #d4ebff;}#sk-container-id-1 div.sk-parallel-item::after {content: \"\";width: 100%;border-bottom: 1px solid gray;flex-grow: 1;}#sk-container-id-1 div.sk-label:hover label.sk-toggleable__label {background-color: #d4ebff;}#sk-container-id-1 div.sk-serial::before {content: \"\";position: absolute;border-left: 1px solid gray;box-sizing: border-box;top: 0;bottom: 0;left: 50%;z-index: 0;}#sk-container-id-1 div.sk-serial {display: flex;flex-direction: column;align-items: center;background-color: white;padding-right: 0.2em;padding-left: 0.2em;position: relative;}#sk-container-id-1 div.sk-item {position: relative;z-index: 1;}#sk-container-id-1 div.sk-parallel {display: flex;align-items: stretch;justify-content: center;background-color: white;position: relative;}#sk-container-id-1 div.sk-item::before, #sk-container-id-1 div.sk-parallel-item::before {content: \"\";position: absolute;border-left: 1px solid gray;box-sizing: border-box;top: 0;bottom: 0;left: 50%;z-index: -1;}#sk-container-id-1 div.sk-parallel-item {display: flex;flex-direction: column;z-index: 1;position: relative;background-color: white;}#sk-container-id-1 div.sk-parallel-item:first-child::after {align-self: flex-end;width: 50%;}#sk-container-id-1 div.sk-parallel-item:last-child::after {align-self: flex-start;width: 50%;}#sk-container-id-1 div.sk-parallel-item:only-child::after {width: 0;}#sk-container-id-1 div.sk-dashed-wrapped {border: 1px dashed gray;margin: 0 0.4em 0.5em 0.4em;box-sizing: border-box;padding-bottom: 0.4em;background-color: white;}#sk-container-id-1 div.sk-label label {font-family: monospace;font-weight: bold;display: inline-block;line-height: 1.2em;}#sk-container-id-1 div.sk-label-container {text-align: center;}#sk-container-id-1 div.sk-container {/* jupyter's `normalize.less` sets `[hidden] { display: none; }` but bootstrap.min.css set `[hidden] { display: none !important; }` so we also need the `!important` here to be able to override the default hidden behavior on the sphinx rendered scikit-learn.org. See: https://github.com/scikit-learn/scikit-learn/issues/21755 */display: inline-block !important;position: relative;}#sk-container-id-1 div.sk-text-repr-fallback {display: none;}</style><div id=\"sk-container-id-1\" class=\"sk-top-container\"><div class=\"sk-text-repr-fallback\"><pre>BaggingRegressor(estimator=RandomForestRegressor(random_state=25),\n",
       "                 n_estimators=18, random_state=27)</pre><b>In a Jupyter environment, please rerun this cell to show the HTML representation or trust the notebook. <br />On GitHub, the HTML representation is unable to render, please try loading this page with nbviewer.org.</b></div><div class=\"sk-container\" hidden><div class=\"sk-item sk-dashed-wrapped\"><div class=\"sk-label-container\"><div class=\"sk-label sk-toggleable\"><input class=\"sk-toggleable__control sk-hidden--visually\" id=\"sk-estimator-id-1\" type=\"checkbox\" ><label for=\"sk-estimator-id-1\" class=\"sk-toggleable__label sk-toggleable__label-arrow\">BaggingRegressor</label><div class=\"sk-toggleable__content\"><pre>BaggingRegressor(estimator=RandomForestRegressor(random_state=25),\n",
       "                 n_estimators=18, random_state=27)</pre></div></div></div><div class=\"sk-parallel\"><div class=\"sk-parallel-item\"><div class=\"sk-item\"><div class=\"sk-label-container\"><div class=\"sk-label sk-toggleable\"><input class=\"sk-toggleable__control sk-hidden--visually\" id=\"sk-estimator-id-2\" type=\"checkbox\" ><label for=\"sk-estimator-id-2\" class=\"sk-toggleable__label sk-toggleable__label-arrow\">estimator: RandomForestRegressor</label><div class=\"sk-toggleable__content\"><pre>RandomForestRegressor(random_state=25)</pre></div></div></div><div class=\"sk-serial\"><div class=\"sk-item\"><div class=\"sk-estimator sk-toggleable\"><input class=\"sk-toggleable__control sk-hidden--visually\" id=\"sk-estimator-id-3\" type=\"checkbox\" ><label for=\"sk-estimator-id-3\" class=\"sk-toggleable__label sk-toggleable__label-arrow\">RandomForestRegressor</label><div class=\"sk-toggleable__content\"><pre>RandomForestRegressor(random_state=25)</pre></div></div></div></div></div></div></div></div></div></div>"
      ],
      "text/plain": [
       "BaggingRegressor(estimator=RandomForestRegressor(random_state=25),\n",
       "                 n_estimators=18, random_state=27)"
      ]
     },
     "execution_count": 40,
     "metadata": {},
     "output_type": "execute_result"
    }
   ],
   "source": [
    "model_rf.fit(micro_train_data_num, micro_train_labels)"
   ]
  },
  {
   "cell_type": "code",
   "execution_count": 41,
   "id": "8da51087-cfc2-473e-a574-17ba6bd03cb6",
   "metadata": {},
   "outputs": [
    {
     "data": {
      "text/plain": [
       "0.1232834745542877"
      ]
     },
     "execution_count": 41,
     "metadata": {},
     "output_type": "execute_result"
    }
   ],
   "source": [
    "rmse(model_rf)"
   ]
  },
  {
   "cell_type": "markdown",
   "id": "c84e77b0-1bc3-498f-b43c-9438ec0e9d58",
   "metadata": {},
   "source": [
    "## Finding the best value of n_estimators for Random Forests"
   ]
  },
  {
   "cell_type": "code",
   "execution_count": 42,
   "id": "b71cead6-46f4-4f73-970c-0b1a587d0990",
   "metadata": {},
   "outputs": [],
   "source": [
    "def evaluate_estimators(pipeline, train_data, train_labels, dev_data, dev_labels, n_estimators_range, R2_validation):\n",
    "    # Lists to store RMSE and R² values\n",
    "    rmse_values = []\n",
    "    r2_values = []\n",
    "\n",
    "    # Iterate over n_estimators values\n",
    "    for n in n_estimators_range:\n",
    "        # Base estimator (Random Forest for Bagging)\n",
    "        base = RandomForestRegressor(n_estimators=100, random_state=25)        \n",
    "        # Bagging model\n",
    "        model = BaggingRegressor(estimator=base, n_estimators=n, random_state=27)\n",
    "\n",
    "        # Fit the model on the training data\n",
    "        model.fit(train_data, train_labels)\n",
    "\n",
    "        dev_data_transformed = pipeline.transform(dev_data)\n",
    "\n",
    "        # Predict on the dev set\n",
    "        pred_rf_dev = model.predict(dev_data_transformed)\n",
    "\n",
    "        # Compute RMSE\n",
    "        lin_mse_dev = mean_squared_error(dev_labels, pred_rf_dev)\n",
    "        lin_rmse_dev = np.sqrt(lin_mse_dev)\n",
    "        rmse_values.append(lin_rmse_dev)\n",
    "\n",
    "        # Compute R² value using R2_validation\n",
    "        r2_value = R2_validation(dev_labels, pred_rf_dev)\n",
    "        r2_values.append(r2_value)\n",
    "\n",
    "        # Print the results for this n_estimators\n",
    "        print(f\"n_estimators: {n}, RMSE: {lin_rmse_dev:.4f}, R²: {r2_value:.4f}\")\n",
    "\n",
    "    # Plot RMSE vs. n_estimators\n",
    "    plt.figure(figsize=(10, 4))\n",
    "    plt.subplot(1, 2, 1)\n",
    "    plt.plot(n_estimators_range, rmse_values, marker='o', linestyle='-', markersize=3.5)\n",
    "    plt.xlabel('Number of Estimators')\n",
    "    plt.ylabel('RMSE')\n",
    "    plt.title('RMSE vs. Number of Estimators')\n",
    "\n",
    "    # Plot R² vs. n_estimators\n",
    "    plt.subplot(1, 2, 2)\n",
    "    plt.plot(n_estimators_range, r2_values, marker='o', linestyle='-', markersize=3.5)\n",
    "    plt.xlabel('Number of Estimators')\n",
    "    plt.ylabel('R²')\n",
    "    plt.title('R² vs. Number of Estimators')\n",
    "\n",
    "    plt.tight_layout()\n",
    "    plt.show()"
   ]
  },
  {
   "cell_type": "code",
   "execution_count": 43,
   "id": "ce189223-9f10-42e4-ae5f-b339813171d8",
   "metadata": {},
   "outputs": [
    {
     "name": "stdout",
     "output_type": "stream",
     "text": [
      "n_estimators: 1, RMSE: 0.2054, R²: 0.8505\n",
      "n_estimators: 2, RMSE: 0.2104, R²: 0.8427\n",
      "n_estimators: 3, RMSE: 0.2143, R²: 0.8376\n",
      "n_estimators: 4, RMSE: 0.2012, R²: 0.8568\n",
      "n_estimators: 5, RMSE: 0.2056, R²: 0.8527\n",
      "n_estimators: 6, RMSE: 0.2064, R²: 0.8509\n",
      "n_estimators: 7, RMSE: 0.2103, R²: 0.8443\n",
      "n_estimators: 8, RMSE: 0.2080, R²: 0.8500\n",
      "n_estimators: 9, RMSE: 0.2076, R²: 0.8501\n",
      "n_estimators: 10, RMSE: 0.2078, R²: 0.8497\n",
      "n_estimators: 11, RMSE: 0.2090, R²: 0.8480\n",
      "n_estimators: 12, RMSE: 0.2089, R²: 0.8481\n",
      "n_estimators: 13, RMSE: 0.2092, R²: 0.8474\n",
      "n_estimators: 14, RMSE: 0.2092, R²: 0.8483\n",
      "n_estimators: 15, RMSE: 0.2050, R²: 0.8537\n",
      "n_estimators: 16, RMSE: 0.2039, R²: 0.8545\n",
      "n_estimators: 17, RMSE: 0.2024, R²: 0.8568\n",
      "n_estimators: 18, RMSE: 0.2020, R²: 0.8575\n",
      "n_estimators: 19, RMSE: 0.2026, R²: 0.8567\n",
      "n_estimators: 20, RMSE: 0.2019, R²: 0.8579\n",
      "n_estimators: 21, RMSE: 0.2020, R²: 0.8575\n",
      "n_estimators: 22, RMSE: 0.2021, R²: 0.8575\n",
      "n_estimators: 23, RMSE: 0.2014, R²: 0.8585\n",
      "n_estimators: 24, RMSE: 0.2018, R²: 0.8579\n",
      "n_estimators: 25, RMSE: 0.2020, R²: 0.8577\n"
     ]
    },
    {
     "data": {
      "image/png": "[encoded data removed]",
      "text/plain": [
       "<Figure size 1000x400 with 2 Axes>"
      ]
     },
     "metadata": {},
     "output_type": "display_data"
    }
   ],
   "source": [
    "evaluate_estimators(the_pipeline,micro_train_data_num,micro_train_labels,micro_dev_data,micro_dev_labels,range(1,26),R2_validation)"
   ]
  },
  {
   "cell_type": "markdown",
   "id": "23a7bb3b-4d38-4198-bd56-e8a4ce5eba06",
   "metadata": {},
   "source": [
    "#### Using the elbow method, we can conclude that best value of n_estimators will be 18"
   ]
  },
  {
   "cell_type": "markdown",
   "id": "1b701c4e-cd7c-48ba-835d-4c374f1e93b4",
   "metadata": {},
   "source": [
    "## 2. Decision Trees"
   ]
  },
  {
   "cell_type": "code",
   "execution_count": 44,
   "id": "17e7a42d-05dc-413d-bdfe-794938f841ca",
   "metadata": {},
   "outputs": [],
   "source": [
    "from sklearn.tree import DecisionTreeRegressor"
   ]
  },
  {
   "cell_type": "code",
   "execution_count": 45,
   "id": "0c77f9e8-0f3e-4c01-9f25-b268c5a6a98c",
   "metadata": {},
   "outputs": [],
   "source": [
    "model_dt = DecisionTreeRegressor(random_state=42)"
   ]
  },
  {
   "cell_type": "code",
   "execution_count": 46,
   "id": "e83f98a0-0ecc-46a2-b443-007443e87391",
   "metadata": {},
   "outputs": [
    {
     "data": {
      "text/html": [
       "<style>#sk-container-id-2 {color: black;}#sk-container-id-2 pre{padding: 0;}#sk-container-id-2 div.sk-toggleable {background-color: white;}#sk-container-id-2 label.sk-toggleable__label {cursor: pointer;display: block;width: 100%;margin-bottom: 0;padding: 0.3em;box-sizing: border-box;text-align: center;}#sk-container-id-2 label.sk-toggleable__label-arrow:before {content: \"▸\";float: left;margin-right: 0.25em;color: #696969;}#sk-container-id-2 label.sk-toggleable__label-arrow:hover:before {color: black;}#sk-container-id-2 div.sk-estimator:hover label.sk-toggleable__label-arrow:before {color: black;}#sk-container-id-2 div.sk-toggleable__content {max-height: 0;max-width: 0;overflow: hidden;text-align: left;background-color: #f0f8ff;}#sk-container-id-2 div.sk-toggleable__content pre {margin: 0.2em;color: black;border-radius: 0.25em;background-color: #f0f8ff;}#sk-container-id-2 input.sk-toggleable__control:checked~div.sk-toggleable__content {max-height: 200px;max-width: 100%;overflow: auto;}#sk-container-id-2 input.sk-toggleable__control:checked~label.sk-toggleable__label-arrow:before {content: \"▾\";}#sk-container-id-2 div.sk-estimator input.sk-toggleable__control:checked~label.sk-toggleable__label {background-color: #d4ebff;}#sk-container-id-2 div.sk-label input.sk-toggleable__control:checked~label.sk-toggleable__label {background-color: #d4ebff;}#sk-container-id-2 input.sk-hidden--visually {border: 0;clip: rect(1px 1px 1px 1px);clip: rect(1px, 1px, 1px, 1px);height: 1px;margin: -1px;overflow: hidden;padding: 0;position: absolute;width: 1px;}#sk-container-id-2 div.sk-estimator {font-family: monospace;background-color: #f0f8ff;border: 1px dotted black;border-radius: 0.25em;box-sizing: border-box;margin-bottom: 0.5em;}#sk-container-id-2 div.sk-estimator:hover {background-color: #d4ebff;}#sk-container-id-2 div.sk-parallel-item::after {content: \"\";width: 100%;border-bottom: 1px solid gray;flex-grow: 1;}#sk-container-id-2 div.sk-label:hover label.sk-toggleable__label {background-color: #d4ebff;}#sk-container-id-2 div.sk-serial::before {content: \"\";position: absolute;border-left: 1px solid gray;box-sizing: border-box;top: 0;bottom: 0;left: 50%;z-index: 0;}#sk-container-id-2 div.sk-serial {display: flex;flex-direction: column;align-items: center;background-color: white;padding-right: 0.2em;padding-left: 0.2em;position: relative;}#sk-container-id-2 div.sk-item {position: relative;z-index: 1;}#sk-container-id-2 div.sk-parallel {display: flex;align-items: stretch;justify-content: center;background-color: white;position: relative;}#sk-container-id-2 div.sk-item::before, #sk-container-id-2 div.sk-parallel-item::before {content: \"\";position: absolute;border-left: 1px solid gray;box-sizing: border-box;top: 0;bottom: 0;left: 50%;z-index: -1;}#sk-container-id-2 div.sk-parallel-item {display: flex;flex-direction: column;z-index: 1;position: relative;background-color: white;}#sk-container-id-2 div.sk-parallel-item:first-child::after {align-self: flex-end;width: 50%;}#sk-container-id-2 div.sk-parallel-item:last-child::after {align-self: flex-start;width: 50%;}#sk-container-id-2 div.sk-parallel-item:only-child::after {width: 0;}#sk-container-id-2 div.sk-dashed-wrapped {border: 1px dashed gray;margin: 0 0.4em 0.5em 0.4em;box-sizing: border-box;padding-bottom: 0.4em;background-color: white;}#sk-container-id-2 div.sk-label label {font-family: monospace;font-weight: bold;display: inline-block;line-height: 1.2em;}#sk-container-id-2 div.sk-label-container {text-align: center;}#sk-container-id-2 div.sk-container {/* jupyter's `normalize.less` sets `[hidden] { display: none; }` but bootstrap.min.css set `[hidden] { display: none !important; }` so we also need the `!important` here to be able to override the default hidden behavior on the sphinx rendered scikit-learn.org. See: https://github.com/scikit-learn/scikit-learn/issues/21755 */display: inline-block !important;position: relative;}#sk-container-id-2 div.sk-text-repr-fallback {display: none;}</style><div id=\"sk-container-id-2\" class=\"sk-top-container\"><div class=\"sk-text-repr-fallback\"><pre>DecisionTreeRegressor(random_state=42)</pre><b>In a Jupyter environment, please rerun this cell to show the HTML representation or trust the notebook. <br />On GitHub, the HTML representation is unable to render, please try loading this page with nbviewer.org.</b></div><div class=\"sk-container\" hidden><div class=\"sk-item\"><div class=\"sk-estimator sk-toggleable\"><input class=\"sk-toggleable__control sk-hidden--visually\" id=\"sk-estimator-id-4\" type=\"checkbox\" checked><label for=\"sk-estimator-id-4\" class=\"sk-toggleable__label sk-toggleable__label-arrow\">DecisionTreeRegressor</label><div class=\"sk-toggleable__content\"><pre>DecisionTreeRegressor(random_state=42)</pre></div></div></div></div></div>"
      ],
      "text/plain": [
       "DecisionTreeRegressor(random_state=42)"
      ]
     },
     "execution_count": 46,
     "metadata": {},
     "output_type": "execute_result"
    }
   ],
   "source": [
    "model_dt.fit(micro_train_data_num, micro_train_labels)"
   ]
  },
  {
   "cell_type": "code",
   "execution_count": null,
   "id": "2c64862f-a8d1-42d5-8c3a-07d80e62d0a5",
   "metadata": {},
   "outputs": [],
   "source": []
  },
  {
   "cell_type": "markdown",
   "id": "3c772f7a-53c9-4382-ba59-de1f6f7889f4",
   "metadata": {},
   "source": [
    "## 3. MLP"
   ]
  },
  {
   "cell_type": "code",
   "execution_count": 113,
   "id": "2320aa4f-7a4b-4df0-ad17-480a6a028d98",
   "metadata": {},
   "outputs": [],
   "source": [
    "from tensorflow.keras.models import Sequential\n",
    "from tensorflow.keras.layers import Dense, Dropout\n",
    "from tensorflow.keras.callbacks import EarlyStopping\n",
    "from tensorflow.keras.regularizers import l2"
   ]
  },
  {
   "cell_type": "code",
   "execution_count": 114,
   "id": "12d6c065-2888-47fe-b897-b06c7990d6f7",
   "metadata": {},
   "outputs": [],
   "source": [
    "# Define the MLP model with regularization and dropout\n",
    "model_mlp = Sequential()\n",
    "model_mlp.add(Dense(32, input_dim=micro_train_data_num.shape[1], activation='relu', kernel_regularizer=l2(0.001)))\n",
    "model_mlp.add(Dropout(0.2))\n",
    "model_mlp.add(Dense(16, activation='relu', kernel_regularizer=l2(0.001)))\n",
    "model_mlp.add(Dropout(0.2))\n",
    "model_mlp.add(Dense(1, activation='linear'))  # Linear activation for regression\n"
   ]
  },
  {
   "cell_type": "code",
   "execution_count": 115,
   "id": "b5c67bf2-66ab-477c-928c-48c19f0f46ae",
   "metadata": {},
   "outputs": [],
   "source": [
    "# Compile the model\n",
    "model_mlp.compile(loss='mean_squared_error',  # MSE loss function for regression\n",
    "              optimizer='adam')\n"
   ]
  },
  {
   "cell_type": "code",
   "execution_count": 116,
   "id": "cd70ee67-bdc8-49d6-8e22-bae012952741",
   "metadata": {},
   "outputs": [],
   "source": [
    "#Defining Early stopping\n",
    "early_stopping = EarlyStopping(monitor='val_loss', min_delta=1e-4, patience=200, restore_best_weights=True)\n"
   ]
  },
  {
   "cell_type": "code",
   "execution_count": 117,
   "id": "692cbe8e-0ce0-4a30-96cc-45728fd617e5",
   "metadata": {
    "scrolled": true
   },
   "outputs": [
    {
     "name": "stdout",
     "output_type": "stream",
     "text": [
      "Epoch 1/1000\n",
      "7/7 [==============================] - 1s 33ms/step - loss: 1.0244 - val_loss: 0.6836\n",
      "Epoch 2/1000\n",
      "7/7 [==============================] - 0s 10ms/step - loss: 0.8124 - val_loss: 0.5473\n",
      "Epoch 3/1000\n",
      "7/7 [==============================] - 0s 11ms/step - loss: 0.6976 - val_loss: 0.4452\n",
      "Epoch 4/1000\n",
      "7/7 [==============================] - 0s 8ms/step - loss: 0.5718 - val_loss: 0.3679\n",
      "Epoch 5/1000\n",
      "7/7 [==============================] - 0s 8ms/step - loss: 0.4635 - val_loss: 0.3130\n",
      "Epoch 6/1000\n",
      "7/7 [==============================] - 0s 8ms/step - loss: 0.4159 - val_loss: 0.2801\n",
      "Epoch 7/1000\n",
      "7/7 [==============================] - 0s 9ms/step - loss: 0.3599 - val_loss: 0.2590\n",
      "Epoch 8/1000\n",
      "7/7 [==============================] - 0s 8ms/step - loss: 0.3655 - val_loss: 0.2433\n",
      "Epoch 9/1000\n",
      "7/7 [==============================] - 0s 9ms/step - loss: 0.3028 - val_loss: 0.2312\n",
      "Epoch 10/1000\n",
      "7/7 [==============================] - 0s 9ms/step - loss: 0.2983 - val_loss: 0.2227\n",
      "Epoch 11/1000\n",
      "7/7 [==============================] - 0s 9ms/step - loss: 0.2557 - val_loss: 0.2151\n",
      "Epoch 12/1000\n",
      "7/7 [==============================] - 0s 7ms/step - loss: 0.2839 - val_loss: 0.2073\n",
      "Epoch 13/1000\n",
      "7/7 [==============================] - 0s 9ms/step - loss: 0.3103 - val_loss: 0.2025\n",
      "Epoch 14/1000\n",
      "7/7 [==============================] - 0s 9ms/step - loss: 0.3015 - val_loss: 0.1987\n",
      "Epoch 15/1000\n",
      "7/7 [==============================] - 0s 8ms/step - loss: 0.2854 - val_loss: 0.1958\n",
      "Epoch 16/1000\n",
      "7/7 [==============================] - 0s 8ms/step - loss: 0.2417 - val_loss: 0.1939\n",
      "Epoch 17/1000\n",
      "7/7 [==============================] - 0s 9ms/step - loss: 0.2299 - val_loss: 0.1921\n",
      "Epoch 18/1000\n",
      "7/7 [==============================] - 0s 8ms/step - loss: 0.2272 - val_loss: 0.1908\n",
      "Epoch 19/1000\n",
      "7/7 [==============================] - 0s 8ms/step - loss: 0.2281 - val_loss: 0.1893\n",
      "Epoch 20/1000\n",
      "7/7 [==============================] - 0s 8ms/step - loss: 0.2269 - val_loss: 0.1867\n",
      "Epoch 21/1000\n",
      "7/7 [==============================] - 0s 8ms/step - loss: 0.2287 - val_loss: 0.1849\n",
      "Epoch 22/1000\n",
      "7/7 [==============================] - 0s 8ms/step - loss: 0.2388 - val_loss: 0.1841\n",
      "Epoch 23/1000\n",
      "7/7 [==============================] - 0s 10ms/step - loss: 0.2316 - val_loss: 0.1836\n",
      "Epoch 24/1000\n",
      "7/7 [==============================] - 0s 8ms/step - loss: 0.2328 - val_loss: 0.1826\n",
      "Epoch 25/1000\n",
      "7/7 [==============================] - 0s 9ms/step - loss: 0.2292 - val_loss: 0.1816\n",
      "Epoch 26/1000\n",
      "7/7 [==============================] - 0s 9ms/step - loss: 0.2202 - val_loss: 0.1815\n",
      "Epoch 27/1000\n",
      "7/7 [==============================] - 0s 8ms/step - loss: 0.2402 - val_loss: 0.1818\n",
      "Epoch 28/1000\n",
      "7/7 [==============================] - 0s 9ms/step - loss: 0.2326 - val_loss: 0.1826\n",
      "Epoch 29/1000\n",
      "7/7 [==============================] - 0s 9ms/step - loss: 0.2192 - val_loss: 0.1832\n",
      "Epoch 30/1000\n",
      "7/7 [==============================] - 0s 8ms/step - loss: 0.2185 - val_loss: 0.1825\n",
      "Epoch 31/1000\n",
      "7/7 [==============================] - 0s 8ms/step - loss: 0.2531 - val_loss: 0.1817\n",
      "Epoch 32/1000\n",
      "7/7 [==============================] - 0s 8ms/step - loss: 0.2227 - val_loss: 0.1805\n",
      "Epoch 33/1000\n",
      "7/7 [==============================] - 0s 9ms/step - loss: 0.2290 - val_loss: 0.1808\n",
      "Epoch 34/1000\n",
      "7/7 [==============================] - 0s 8ms/step - loss: 0.2395 - val_loss: 0.1804\n",
      "Epoch 35/1000\n",
      "7/7 [==============================] - 0s 9ms/step - loss: 0.2335 - val_loss: 0.1801\n",
      "Epoch 36/1000\n",
      "7/7 [==============================] - 0s 8ms/step - loss: 0.2165 - val_loss: 0.1791\n",
      "Epoch 37/1000\n",
      "7/7 [==============================] - 0s 11ms/step - loss: 0.1963 - val_loss: 0.1787\n",
      "Epoch 38/1000\n",
      "7/7 [==============================] - 0s 8ms/step - loss: 0.2064 - val_loss: 0.1784\n",
      "Epoch 39/1000\n",
      "7/7 [==============================] - 0s 9ms/step - loss: 0.2013 - val_loss: 0.1785\n",
      "Epoch 40/1000\n",
      "7/7 [==============================] - 0s 8ms/step - loss: 0.1979 - val_loss: 0.1781\n",
      "Epoch 41/1000\n",
      "7/7 [==============================] - 0s 8ms/step - loss: 0.2031 - val_loss: 0.1777\n",
      "Epoch 42/1000\n",
      "7/7 [==============================] - 0s 8ms/step - loss: 0.2194 - val_loss: 0.1778\n",
      "Epoch 43/1000\n",
      "7/7 [==============================] - 0s 8ms/step - loss: 0.2202 - val_loss: 0.1786\n",
      "Epoch 44/1000\n",
      "7/7 [==============================] - 0s 8ms/step - loss: 0.2010 - val_loss: 0.1796\n",
      "Epoch 45/1000\n",
      "7/7 [==============================] - 0s 9ms/step - loss: 0.1716 - val_loss: 0.1797\n",
      "Epoch 46/1000\n",
      "7/7 [==============================] - 0s 13ms/step - loss: 0.2001 - val_loss: 0.1786\n",
      "Epoch 47/1000\n",
      "7/7 [==============================] - 0s 17ms/step - loss: 0.1977 - val_loss: 0.1782\n",
      "Epoch 48/1000\n",
      "7/7 [==============================] - 0s 12ms/step - loss: 0.2033 - val_loss: 0.1775\n",
      "Epoch 49/1000\n",
      "7/7 [==============================] - 0s 14ms/step - loss: 0.2274 - val_loss: 0.1776\n",
      "Epoch 50/1000\n",
      "7/7 [==============================] - 0s 17ms/step - loss: 0.2106 - val_loss: 0.1778\n",
      "Epoch 51/1000\n",
      "7/7 [==============================] - 0s 13ms/step - loss: 0.1915 - val_loss: 0.1774\n",
      "Epoch 52/1000\n",
      "7/7 [==============================] - 0s 14ms/step - loss: 0.2232 - val_loss: 0.1776\n",
      "Epoch 53/1000\n",
      "7/7 [==============================] - 0s 13ms/step - loss: 0.2095 - val_loss: 0.1770\n",
      "Epoch 54/1000\n",
      "7/7 [==============================] - 0s 15ms/step - loss: 0.2054 - val_loss: 0.1771\n",
      "Epoch 55/1000\n",
      "7/7 [==============================] - 0s 14ms/step - loss: 0.2045 - val_loss: 0.1767\n",
      "Epoch 56/1000\n",
      "7/7 [==============================] - 0s 16ms/step - loss: 0.1709 - val_loss: 0.1763\n",
      "Epoch 57/1000\n",
      "7/7 [==============================] - 0s 14ms/step - loss: 0.2053 - val_loss: 0.1762\n",
      "Epoch 58/1000\n",
      "7/7 [==============================] - 0s 12ms/step - loss: 0.2093 - val_loss: 0.1758\n",
      "Epoch 59/1000\n",
      "7/7 [==============================] - 0s 13ms/step - loss: 0.1832 - val_loss: 0.1757\n",
      "Epoch 60/1000\n",
      "7/7 [==============================] - 0s 14ms/step - loss: 0.1852 - val_loss: 0.1759\n",
      "Epoch 61/1000\n",
      "7/7 [==============================] - 0s 13ms/step - loss: 0.1761 - val_loss: 0.1761\n",
      "Epoch 62/1000\n",
      "7/7 [==============================] - 0s 16ms/step - loss: 0.1747 - val_loss: 0.1766\n",
      "Epoch 63/1000\n",
      "7/7 [==============================] - 0s 15ms/step - loss: 0.1991 - val_loss: 0.1769\n",
      "Epoch 64/1000\n",
      "7/7 [==============================] - 0s 14ms/step - loss: 0.1859 - val_loss: 0.1775\n",
      "Epoch 65/1000\n",
      "7/7 [==============================] - 0s 15ms/step - loss: 0.1983 - val_loss: 0.1769\n",
      "Epoch 66/1000\n",
      "7/7 [==============================] - 0s 14ms/step - loss: 0.1863 - val_loss: 0.1766\n",
      "Epoch 67/1000\n",
      "7/7 [==============================] - 0s 14ms/step - loss: 0.1861 - val_loss: 0.1761\n",
      "Epoch 68/1000\n",
      "7/7 [==============================] - 0s 14ms/step - loss: 0.1974 - val_loss: 0.1757\n",
      "Epoch 69/1000\n",
      "7/7 [==============================] - 0s 15ms/step - loss: 0.1879 - val_loss: 0.1752\n",
      "Epoch 70/1000\n",
      "7/7 [==============================] - 0s 14ms/step - loss: 0.1890 - val_loss: 0.1750\n",
      "Epoch 71/1000\n",
      "7/7 [==============================] - 0s 16ms/step - loss: 0.1852 - val_loss: 0.1755\n",
      "Epoch 72/1000\n",
      "7/7 [==============================] - 0s 16ms/step - loss: 0.1772 - val_loss: 0.1760\n",
      "Epoch 73/1000\n",
      "7/7 [==============================] - 0s 13ms/step - loss: 0.1884 - val_loss: 0.1765\n",
      "Epoch 74/1000\n",
      "7/7 [==============================] - 0s 13ms/step - loss: 0.1867 - val_loss: 0.1759\n",
      "Epoch 75/1000\n",
      "7/7 [==============================] - 0s 16ms/step - loss: 0.1849 - val_loss: 0.1758\n",
      "Epoch 76/1000\n",
      "7/7 [==============================] - 0s 14ms/step - loss: 0.1987 - val_loss: 0.1757\n",
      "Epoch 77/1000\n",
      "7/7 [==============================] - 0s 15ms/step - loss: 0.1993 - val_loss: 0.1748\n",
      "Epoch 78/1000\n",
      "7/7 [==============================] - 0s 15ms/step - loss: 0.1969 - val_loss: 0.1745\n",
      "Epoch 79/1000\n",
      "7/7 [==============================] - 0s 15ms/step - loss: 0.1985 - val_loss: 0.1740\n",
      "Epoch 80/1000\n",
      "7/7 [==============================] - 0s 16ms/step - loss: 0.1847 - val_loss: 0.1732\n",
      "Epoch 81/1000\n",
      "7/7 [==============================] - 0s 18ms/step - loss: 0.1748 - val_loss: 0.1725\n",
      "Epoch 82/1000\n",
      "7/7 [==============================] - 0s 15ms/step - loss: 0.1928 - val_loss: 0.1721\n",
      "Epoch 83/1000\n",
      "7/7 [==============================] - 0s 12ms/step - loss: 0.2001 - val_loss: 0.1719\n",
      "Epoch 84/1000\n",
      "7/7 [==============================] - 0s 14ms/step - loss: 0.1960 - val_loss: 0.1718\n",
      "Epoch 85/1000\n",
      "7/7 [==============================] - 0s 14ms/step - loss: 0.1788 - val_loss: 0.1713\n",
      "Epoch 86/1000\n",
      "7/7 [==============================] - 0s 16ms/step - loss: 0.1727 - val_loss: 0.1713\n",
      "Epoch 87/1000\n",
      "7/7 [==============================] - 0s 14ms/step - loss: 0.1922 - val_loss: 0.1702\n",
      "Epoch 88/1000\n",
      "7/7 [==============================] - 0s 15ms/step - loss: 0.2045 - val_loss: 0.1698\n",
      "Epoch 89/1000\n",
      "7/7 [==============================] - 0s 15ms/step - loss: 0.2015 - val_loss: 0.1703\n",
      "Epoch 90/1000\n",
      "7/7 [==============================] - 0s 16ms/step - loss: 0.1789 - val_loss: 0.1714\n",
      "Epoch 91/1000\n",
      "7/7 [==============================] - 0s 15ms/step - loss: 0.1712 - val_loss: 0.1725\n",
      "Epoch 92/1000\n",
      "7/7 [==============================] - 0s 14ms/step - loss: 0.1921 - val_loss: 0.1737\n",
      "Epoch 93/1000\n",
      "7/7 [==============================] - 0s 14ms/step - loss: 0.1807 - val_loss: 0.1741\n",
      "Epoch 94/1000\n",
      "7/7 [==============================] - 0s 17ms/step - loss: 0.1969 - val_loss: 0.1746\n",
      "Epoch 95/1000\n",
      "7/7 [==============================] - 0s 12ms/step - loss: 0.1704 - val_loss: 0.1733\n",
      "Epoch 96/1000\n",
      "7/7 [==============================] - 0s 17ms/step - loss: 0.1948 - val_loss: 0.1727\n",
      "Epoch 97/1000\n",
      "7/7 [==============================] - 0s 13ms/step - loss: 0.1837 - val_loss: 0.1729\n",
      "Epoch 98/1000\n",
      "7/7 [==============================] - 0s 12ms/step - loss: 0.1934 - val_loss: 0.1736\n",
      "Epoch 99/1000\n",
      "7/7 [==============================] - 0s 13ms/step - loss: 0.1831 - val_loss: 0.1738\n",
      "Epoch 100/1000\n",
      "7/7 [==============================] - 0s 17ms/step - loss: 0.1800 - val_loss: 0.1736\n",
      "Epoch 101/1000\n",
      "7/7 [==============================] - 0s 16ms/step - loss: 0.1673 - val_loss: 0.1728\n",
      "Epoch 102/1000\n",
      "7/7 [==============================] - 0s 14ms/step - loss: 0.1912 - val_loss: 0.1717\n",
      "Epoch 103/1000\n",
      "7/7 [==============================] - 0s 12ms/step - loss: 0.1812 - val_loss: 0.1709\n",
      "Epoch 104/1000\n",
      "7/7 [==============================] - 0s 14ms/step - loss: 0.1944 - val_loss: 0.1702\n",
      "Epoch 105/1000\n",
      "7/7 [==============================] - 0s 15ms/step - loss: 0.1718 - val_loss: 0.1697\n",
      "Epoch 106/1000\n",
      "7/7 [==============================] - 0s 16ms/step - loss: 0.1778 - val_loss: 0.1702\n",
      "Epoch 107/1000\n",
      "7/7 [==============================] - 0s 15ms/step - loss: 0.1735 - val_loss: 0.1703\n",
      "Epoch 108/1000\n",
      "7/7 [==============================] - 0s 10ms/step - loss: 0.1784 - val_loss: 0.1706\n",
      "Epoch 109/1000\n",
      "7/7 [==============================] - 0s 9ms/step - loss: 0.1798 - val_loss: 0.1706\n",
      "Epoch 110/1000\n",
      "7/7 [==============================] - 0s 10ms/step - loss: 0.1752 - val_loss: 0.1702\n",
      "Epoch 111/1000\n",
      "7/7 [==============================] - 0s 7ms/step - loss: 0.1666 - val_loss: 0.1697\n",
      "Epoch 112/1000\n",
      "7/7 [==============================] - 0s 11ms/step - loss: 0.1688 - val_loss: 0.1701\n",
      "Epoch 113/1000\n",
      "7/7 [==============================] - 0s 8ms/step - loss: 0.1788 - val_loss: 0.1706\n",
      "Epoch 114/1000\n",
      "7/7 [==============================] - 0s 8ms/step - loss: 0.1826 - val_loss: 0.1701\n",
      "Epoch 115/1000\n",
      "7/7 [==============================] - 0s 8ms/step - loss: 0.1650 - val_loss: 0.1696\n",
      "Epoch 116/1000\n",
      "7/7 [==============================] - 0s 8ms/step - loss: 0.1939 - val_loss: 0.1688\n",
      "Epoch 117/1000\n",
      "7/7 [==============================] - 0s 9ms/step - loss: 0.1708 - val_loss: 0.1689\n",
      "Epoch 118/1000\n",
      "7/7 [==============================] - 0s 8ms/step - loss: 0.1734 - val_loss: 0.1694\n",
      "Epoch 119/1000\n",
      "7/7 [==============================] - 0s 8ms/step - loss: 0.1683 - val_loss: 0.1701\n",
      "Epoch 120/1000\n",
      "7/7 [==============================] - 0s 8ms/step - loss: 0.1733 - val_loss: 0.1700\n",
      "Epoch 121/1000\n",
      "7/7 [==============================] - 0s 7ms/step - loss: 0.1777 - val_loss: 0.1700\n",
      "Epoch 122/1000\n",
      "7/7 [==============================] - 0s 8ms/step - loss: 0.1859 - val_loss: 0.1694\n",
      "Epoch 123/1000\n",
      "7/7 [==============================] - 0s 8ms/step - loss: 0.1849 - val_loss: 0.1689\n",
      "Epoch 124/1000\n",
      "7/7 [==============================] - 0s 8ms/step - loss: 0.1701 - val_loss: 0.1681\n",
      "Epoch 125/1000\n",
      "7/7 [==============================] - 0s 6ms/step - loss: 0.1847 - val_loss: 0.1682\n",
      "Epoch 126/1000\n",
      "7/7 [==============================] - 0s 8ms/step - loss: 0.1678 - val_loss: 0.1679\n",
      "Epoch 127/1000\n",
      "7/7 [==============================] - 0s 7ms/step - loss: 0.1735 - val_loss: 0.1679\n",
      "Epoch 128/1000\n",
      "7/7 [==============================] - 0s 8ms/step - loss: 0.1671 - val_loss: 0.1675\n",
      "Epoch 129/1000\n",
      "7/7 [==============================] - 0s 8ms/step - loss: 0.1582 - val_loss: 0.1672\n",
      "Epoch 130/1000\n",
      "7/7 [==============================] - 0s 6ms/step - loss: 0.1851 - val_loss: 0.1671\n",
      "Epoch 131/1000\n",
      "7/7 [==============================] - 0s 8ms/step - loss: 0.1900 - val_loss: 0.1676\n",
      "Epoch 132/1000\n",
      "7/7 [==============================] - 0s 8ms/step - loss: 0.1840 - val_loss: 0.1673\n",
      "Epoch 133/1000\n",
      "7/7 [==============================] - 0s 8ms/step - loss: 0.1563 - val_loss: 0.1671\n",
      "Epoch 134/1000\n",
      "7/7 [==============================] - 0s 8ms/step - loss: 0.1699 - val_loss: 0.1670\n",
      "Epoch 135/1000\n",
      "7/7 [==============================] - 0s 8ms/step - loss: 0.1732 - val_loss: 0.1669\n",
      "Epoch 136/1000\n",
      "7/7 [==============================] - 0s 8ms/step - loss: 0.1669 - val_loss: 0.1669\n",
      "Epoch 137/1000\n",
      "7/7 [==============================] - 0s 11ms/step - loss: 0.1554 - val_loss: 0.1673\n",
      "Epoch 138/1000\n",
      "7/7 [==============================] - 0s 8ms/step - loss: 0.1678 - val_loss: 0.1678\n",
      "Epoch 139/1000\n",
      "7/7 [==============================] - 0s 8ms/step - loss: 0.1749 - val_loss: 0.1686\n",
      "Epoch 140/1000\n",
      "7/7 [==============================] - 0s 8ms/step - loss: 0.1616 - val_loss: 0.1686\n",
      "Epoch 141/1000\n",
      "7/7 [==============================] - 0s 8ms/step - loss: 0.1862 - val_loss: 0.1687\n",
      "Epoch 142/1000\n",
      "7/7 [==============================] - 0s 17ms/step - loss: 0.1639 - val_loss: 0.1692\n",
      "Epoch 143/1000\n",
      "7/7 [==============================] - 0s 14ms/step - loss: 0.1747 - val_loss: 0.1689\n",
      "Epoch 144/1000\n",
      "7/7 [==============================] - 0s 14ms/step - loss: 0.1534 - val_loss: 0.1687\n",
      "Epoch 145/1000\n",
      "7/7 [==============================] - 0s 15ms/step - loss: 0.1720 - val_loss: 0.1684\n",
      "Epoch 146/1000\n",
      "7/7 [==============================] - 0s 14ms/step - loss: 0.1687 - val_loss: 0.1692\n",
      "Epoch 147/1000\n",
      "7/7 [==============================] - 0s 14ms/step - loss: 0.1880 - val_loss: 0.1693\n",
      "Epoch 148/1000\n",
      "7/7 [==============================] - 0s 15ms/step - loss: 0.1622 - val_loss: 0.1689\n",
      "Epoch 149/1000\n",
      "7/7 [==============================] - 0s 14ms/step - loss: 0.1843 - val_loss: 0.1691\n",
      "Epoch 150/1000\n",
      "7/7 [==============================] - 0s 13ms/step - loss: 0.1651 - val_loss: 0.1687\n",
      "Epoch 151/1000\n",
      "7/7 [==============================] - 0s 13ms/step - loss: 0.1674 - val_loss: 0.1684\n",
      "Epoch 152/1000\n",
      "7/7 [==============================] - 0s 13ms/step - loss: 0.1514 - val_loss: 0.1669\n",
      "Epoch 153/1000\n",
      "7/7 [==============================] - 0s 13ms/step - loss: 0.1736 - val_loss: 0.1660\n",
      "Epoch 154/1000\n",
      "7/7 [==============================] - 0s 13ms/step - loss: 0.1664 - val_loss: 0.1665\n",
      "Epoch 155/1000\n",
      "7/7 [==============================] - 0s 17ms/step - loss: 0.1872 - val_loss: 0.1669\n",
      "Epoch 156/1000\n",
      "7/7 [==============================] - 0s 12ms/step - loss: 0.1719 - val_loss: 0.1674\n",
      "Epoch 157/1000\n",
      "7/7 [==============================] - 0s 14ms/step - loss: 0.1733 - val_loss: 0.1679\n",
      "Epoch 158/1000\n",
      "7/7 [==============================] - 0s 16ms/step - loss: 0.1603 - val_loss: 0.1689\n",
      "Epoch 159/1000\n",
      "7/7 [==============================] - 0s 15ms/step - loss: 0.1625 - val_loss: 0.1693\n",
      "Epoch 160/1000\n",
      "7/7 [==============================] - 0s 13ms/step - loss: 0.1694 - val_loss: 0.1695\n",
      "Epoch 161/1000\n",
      "7/7 [==============================] - 0s 13ms/step - loss: 0.1681 - val_loss: 0.1690\n",
      "Epoch 162/1000\n",
      "7/7 [==============================] - 0s 14ms/step - loss: 0.1731 - val_loss: 0.1685\n",
      "Epoch 163/1000\n",
      "7/7 [==============================] - 0s 14ms/step - loss: 0.1594 - val_loss: 0.1681\n",
      "Epoch 164/1000\n",
      "7/7 [==============================] - 0s 14ms/step - loss: 0.1568 - val_loss: 0.1678\n",
      "Epoch 165/1000\n",
      "7/7 [==============================] - 0s 11ms/step - loss: 0.1598 - val_loss: 0.1678\n",
      "Epoch 166/1000\n",
      "7/7 [==============================] - 0s 14ms/step - loss: 0.1640 - val_loss: 0.1669\n",
      "Epoch 167/1000\n",
      "7/7 [==============================] - 0s 17ms/step - loss: 0.1627 - val_loss: 0.1660\n",
      "Epoch 168/1000\n",
      "7/7 [==============================] - 0s 14ms/step - loss: 0.1700 - val_loss: 0.1663\n",
      "Epoch 169/1000\n",
      "7/7 [==============================] - 0s 15ms/step - loss: 0.1531 - val_loss: 0.1668\n",
      "Epoch 170/1000\n",
      "7/7 [==============================] - 0s 14ms/step - loss: 0.1593 - val_loss: 0.1670\n",
      "Epoch 171/1000\n",
      "7/7 [==============================] - 0s 16ms/step - loss: 0.1510 - val_loss: 0.1670\n",
      "Epoch 172/1000\n",
      "7/7 [==============================] - 0s 15ms/step - loss: 0.1648 - val_loss: 0.1669\n",
      "Epoch 173/1000\n",
      "7/7 [==============================] - 0s 11ms/step - loss: 0.1682 - val_loss: 0.1669\n",
      "Epoch 174/1000\n",
      "7/7 [==============================] - 0s 13ms/step - loss: 0.1524 - val_loss: 0.1665\n",
      "Epoch 175/1000\n",
      "7/7 [==============================] - 0s 16ms/step - loss: 0.1697 - val_loss: 0.1664\n",
      "Epoch 176/1000\n",
      "7/7 [==============================] - 0s 14ms/step - loss: 0.1492 - val_loss: 0.1666\n",
      "Epoch 177/1000\n",
      "7/7 [==============================] - 0s 16ms/step - loss: 0.1568 - val_loss: 0.1668\n",
      "Epoch 178/1000\n",
      "7/7 [==============================] - 0s 14ms/step - loss: 0.1636 - val_loss: 0.1670\n",
      "Epoch 179/1000\n",
      "7/7 [==============================] - 0s 15ms/step - loss: 0.1590 - val_loss: 0.1672\n",
      "Epoch 180/1000\n",
      "7/7 [==============================] - 0s 14ms/step - loss: 0.1740 - val_loss: 0.1670\n",
      "Epoch 181/1000\n",
      "7/7 [==============================] - 0s 14ms/step - loss: 0.1461 - val_loss: 0.1667\n",
      "Epoch 182/1000\n",
      "7/7 [==============================] - 0s 12ms/step - loss: 0.1549 - val_loss: 0.1665\n",
      "Epoch 183/1000\n",
      "7/7 [==============================] - 0s 13ms/step - loss: 0.1517 - val_loss: 0.1667\n",
      "Epoch 184/1000\n",
      "7/7 [==============================] - 0s 13ms/step - loss: 0.1553 - val_loss: 0.1669\n",
      "Epoch 185/1000\n",
      "7/7 [==============================] - 0s 17ms/step - loss: 0.1603 - val_loss: 0.1660\n",
      "Epoch 186/1000\n",
      "7/7 [==============================] - 0s 13ms/step - loss: 0.1601 - val_loss: 0.1655\n",
      "Epoch 187/1000\n",
      "7/7 [==============================] - 0s 16ms/step - loss: 0.1542 - val_loss: 0.1660\n",
      "Epoch 188/1000\n",
      "7/7 [==============================] - 0s 13ms/step - loss: 0.1594 - val_loss: 0.1668\n",
      "Epoch 189/1000\n",
      "7/7 [==============================] - 0s 14ms/step - loss: 0.1550 - val_loss: 0.1671\n",
      "Epoch 190/1000\n",
      "7/7 [==============================] - 0s 17ms/step - loss: 0.1612 - val_loss: 0.1670\n",
      "Epoch 191/1000\n",
      "7/7 [==============================] - 0s 17ms/step - loss: 0.1628 - val_loss: 0.1668\n",
      "Epoch 192/1000\n",
      "7/7 [==============================] - 0s 14ms/step - loss: 0.1450 - val_loss: 0.1665\n",
      "Epoch 193/1000\n",
      "7/7 [==============================] - 0s 14ms/step - loss: 0.1677 - val_loss: 0.1665\n",
      "Epoch 194/1000\n",
      "7/7 [==============================] - 0s 13ms/step - loss: 0.1732 - val_loss: 0.1665\n",
      "Epoch 195/1000\n",
      "7/7 [==============================] - 0s 14ms/step - loss: 0.1416 - val_loss: 0.1663\n",
      "Epoch 196/1000\n",
      "7/7 [==============================] - 0s 17ms/step - loss: 0.1582 - val_loss: 0.1662\n",
      "Epoch 197/1000\n",
      "7/7 [==============================] - 0s 15ms/step - loss: 0.1521 - val_loss: 0.1656\n",
      "Epoch 198/1000\n",
      "7/7 [==============================] - 0s 15ms/step - loss: 0.1612 - val_loss: 0.1656\n",
      "Epoch 199/1000\n",
      "7/7 [==============================] - 0s 15ms/step - loss: 0.1576 - val_loss: 0.1663\n",
      "Epoch 200/1000\n",
      "7/7 [==============================] - 0s 14ms/step - loss: 0.1489 - val_loss: 0.1659\n",
      "Epoch 201/1000\n",
      "7/7 [==============================] - 0s 14ms/step - loss: 0.1520 - val_loss: 0.1655\n",
      "Epoch 202/1000\n",
      "7/7 [==============================] - 0s 11ms/step - loss: 0.1483 - val_loss: 0.1649\n",
      "Epoch 203/1000\n",
      "7/7 [==============================] - 0s 15ms/step - loss: 0.1658 - val_loss: 0.1652\n",
      "Epoch 204/1000\n",
      "7/7 [==============================] - 0s 14ms/step - loss: 0.1637 - val_loss: 0.1657\n",
      "Epoch 205/1000\n",
      "7/7 [==============================] - 0s 15ms/step - loss: 0.1512 - val_loss: 0.1665\n",
      "Epoch 206/1000\n",
      "7/7 [==============================] - 0s 13ms/step - loss: 0.1565 - val_loss: 0.1669\n",
      "Epoch 207/1000\n",
      "7/7 [==============================] - 0s 17ms/step - loss: 0.1519 - val_loss: 0.1671\n",
      "Epoch 208/1000\n",
      "7/7 [==============================] - 0s 14ms/step - loss: 0.1623 - val_loss: 0.1669\n",
      "Epoch 209/1000\n",
      "7/7 [==============================] - 0s 14ms/step - loss: 0.1537 - val_loss: 0.1665\n",
      "Epoch 210/1000\n",
      "7/7 [==============================] - 0s 16ms/step - loss: 0.1470 - val_loss: 0.1664\n",
      "Epoch 211/1000\n",
      "7/7 [==============================] - 0s 14ms/step - loss: 0.1548 - val_loss: 0.1667\n",
      "Epoch 212/1000\n",
      "7/7 [==============================] - 0s 15ms/step - loss: 0.1586 - val_loss: 0.1673\n",
      "Epoch 213/1000\n",
      "7/7 [==============================] - 0s 17ms/step - loss: 0.1633 - val_loss: 0.1671\n",
      "Epoch 214/1000\n",
      "7/7 [==============================] - 0s 14ms/step - loss: 0.1687 - val_loss: 0.1681\n",
      "Epoch 215/1000\n",
      "7/7 [==============================] - 0s 15ms/step - loss: 0.1653 - val_loss: 0.1679\n",
      "Epoch 216/1000\n",
      "7/7 [==============================] - 0s 12ms/step - loss: 0.1434 - val_loss: 0.1677\n",
      "Epoch 217/1000\n",
      "7/7 [==============================] - 0s 14ms/step - loss: 0.1614 - val_loss: 0.1667\n",
      "Epoch 218/1000\n",
      "7/7 [==============================] - 0s 11ms/step - loss: 0.1668 - val_loss: 0.1659\n",
      "Epoch 219/1000\n",
      "7/7 [==============================] - 0s 14ms/step - loss: 0.1608 - val_loss: 0.1655\n",
      "Epoch 220/1000\n",
      "7/7 [==============================] - 0s 16ms/step - loss: 0.1769 - val_loss: 0.1650\n",
      "Epoch 221/1000\n",
      "7/7 [==============================] - 0s 14ms/step - loss: 0.1535 - val_loss: 0.1645\n",
      "Epoch 222/1000\n",
      "7/7 [==============================] - 0s 14ms/step - loss: 0.1582 - val_loss: 0.1647\n",
      "Epoch 223/1000\n",
      "7/7 [==============================] - 0s 16ms/step - loss: 0.1568 - val_loss: 0.1654\n",
      "Epoch 224/1000\n",
      "7/7 [==============================] - 0s 16ms/step - loss: 0.1510 - val_loss: 0.1655\n",
      "Epoch 225/1000\n",
      "7/7 [==============================] - 0s 11ms/step - loss: 0.1540 - val_loss: 0.1658\n",
      "Epoch 226/1000\n",
      "7/7 [==============================] - 0s 15ms/step - loss: 0.1409 - val_loss: 0.1657\n",
      "Epoch 227/1000\n",
      "7/7 [==============================] - 0s 14ms/step - loss: 0.1485 - val_loss: 0.1654\n",
      "Epoch 228/1000\n",
      "7/7 [==============================] - 0s 13ms/step - loss: 0.1546 - val_loss: 0.1651\n",
      "Epoch 229/1000\n",
      "7/7 [==============================] - 0s 14ms/step - loss: 0.1560 - val_loss: 0.1650\n",
      "Epoch 230/1000\n",
      "7/7 [==============================] - 0s 17ms/step - loss: 0.1520 - val_loss: 0.1644\n",
      "Epoch 231/1000\n",
      "7/7 [==============================] - 0s 16ms/step - loss: 0.1584 - val_loss: 0.1640\n",
      "Epoch 232/1000\n",
      "7/7 [==============================] - 0s 14ms/step - loss: 0.1534 - val_loss: 0.1642\n",
      "Epoch 233/1000\n",
      "7/7 [==============================] - 0s 14ms/step - loss: 0.1617 - val_loss: 0.1646\n",
      "Epoch 234/1000\n",
      "7/7 [==============================] - 0s 14ms/step - loss: 0.1699 - val_loss: 0.1649\n",
      "Epoch 235/1000\n",
      "7/7 [==============================] - 0s 11ms/step - loss: 0.1527 - val_loss: 0.1652\n",
      "Epoch 236/1000\n",
      "7/7 [==============================] - 0s 13ms/step - loss: 0.1542 - val_loss: 0.1656\n",
      "Epoch 237/1000\n",
      "7/7 [==============================] - 0s 15ms/step - loss: 0.1630 - val_loss: 0.1652\n",
      "Epoch 238/1000\n",
      "7/7 [==============================] - 0s 14ms/step - loss: 0.1540 - val_loss: 0.1652\n",
      "Epoch 239/1000\n",
      "7/7 [==============================] - 0s 16ms/step - loss: 0.1473 - val_loss: 0.1652\n",
      "Epoch 240/1000\n",
      "7/7 [==============================] - 0s 14ms/step - loss: 0.1643 - val_loss: 0.1659\n",
      "Epoch 241/1000\n",
      "7/7 [==============================] - 0s 14ms/step - loss: 0.1556 - val_loss: 0.1664\n",
      "Epoch 242/1000\n",
      "7/7 [==============================] - 0s 14ms/step - loss: 0.1612 - val_loss: 0.1660\n",
      "Epoch 243/1000\n",
      "7/7 [==============================] - 0s 14ms/step - loss: 0.1515 - val_loss: 0.1658\n",
      "Epoch 244/1000\n",
      "7/7 [==============================] - 0s 15ms/step - loss: 0.1459 - val_loss: 0.1655\n",
      "Epoch 245/1000\n",
      "7/7 [==============================] - 0s 13ms/step - loss: 0.1595 - val_loss: 0.1656\n",
      "Epoch 246/1000\n",
      "7/7 [==============================] - 0s 15ms/step - loss: 0.1594 - val_loss: 0.1664\n",
      "Epoch 247/1000\n",
      "7/7 [==============================] - 0s 11ms/step - loss: 0.1502 - val_loss: 0.1668\n",
      "Epoch 248/1000\n",
      "7/7 [==============================] - 0s 14ms/step - loss: 0.1668 - val_loss: 0.1665\n",
      "Epoch 249/1000\n",
      "7/7 [==============================] - 0s 14ms/step - loss: 0.1503 - val_loss: 0.1668\n",
      "Epoch 250/1000\n",
      "7/7 [==============================] - 0s 14ms/step - loss: 0.1564 - val_loss: 0.1664\n",
      "Epoch 251/1000\n",
      "7/7 [==============================] - 0s 14ms/step - loss: 0.1368 - val_loss: 0.1657\n",
      "Epoch 252/1000\n",
      "7/7 [==============================] - 0s 12ms/step - loss: 0.1469 - val_loss: 0.1651\n",
      "Epoch 253/1000\n",
      "7/7 [==============================] - 0s 11ms/step - loss: 0.1503 - val_loss: 0.1658\n",
      "Epoch 254/1000\n",
      "7/7 [==============================] - 0s 14ms/step - loss: 0.1488 - val_loss: 0.1662\n",
      "Epoch 255/1000\n",
      "7/7 [==============================] - 0s 14ms/step - loss: 0.1461 - val_loss: 0.1656\n",
      "Epoch 256/1000\n",
      "7/7 [==============================] - 0s 16ms/step - loss: 0.1551 - val_loss: 0.1650\n",
      "Epoch 257/1000\n",
      "7/7 [==============================] - 0s 14ms/step - loss: 0.1651 - val_loss: 0.1646\n",
      "Epoch 258/1000\n",
      "7/7 [==============================] - 0s 14ms/step - loss: 0.1520 - val_loss: 0.1644\n",
      "Epoch 259/1000\n",
      "7/7 [==============================] - 0s 11ms/step - loss: 0.1588 - val_loss: 0.1642\n",
      "Epoch 260/1000\n",
      "7/7 [==============================] - 0s 14ms/step - loss: 0.1515 - val_loss: 0.1642\n",
      "Epoch 261/1000\n",
      "7/7 [==============================] - 0s 14ms/step - loss: 0.1568 - val_loss: 0.1636\n",
      "Epoch 262/1000\n",
      "7/7 [==============================] - 0s 14ms/step - loss: 0.1578 - val_loss: 0.1636\n",
      "Epoch 263/1000\n",
      "7/7 [==============================] - 0s 17ms/step - loss: 0.1350 - val_loss: 0.1641\n",
      "Epoch 264/1000\n",
      "7/7 [==============================] - 0s 17ms/step - loss: 0.1614 - val_loss: 0.1651\n",
      "Epoch 265/1000\n",
      "7/7 [==============================] - 0s 14ms/step - loss: 0.1542 - val_loss: 0.1652\n",
      "Epoch 266/1000\n",
      "7/7 [==============================] - 0s 14ms/step - loss: 0.1491 - val_loss: 0.1660\n",
      "Epoch 267/1000\n",
      "7/7 [==============================] - 0s 13ms/step - loss: 0.1466 - val_loss: 0.1659\n",
      "Epoch 268/1000\n",
      "7/7 [==============================] - 0s 16ms/step - loss: 0.1471 - val_loss: 0.1660\n",
      "Epoch 269/1000\n",
      "7/7 [==============================] - 0s 12ms/step - loss: 0.1655 - val_loss: 0.1662\n",
      "Epoch 270/1000\n",
      "7/7 [==============================] - 0s 15ms/step - loss: 0.1514 - val_loss: 0.1660\n",
      "Epoch 271/1000\n",
      "7/7 [==============================] - 0s 14ms/step - loss: 0.1524 - val_loss: 0.1653\n",
      "Epoch 272/1000\n",
      "7/7 [==============================] - 0s 11ms/step - loss: 0.1566 - val_loss: 0.1650\n",
      "Epoch 273/1000\n",
      "7/7 [==============================] - 0s 14ms/step - loss: 0.1529 - val_loss: 0.1651\n",
      "Epoch 274/1000\n",
      "7/7 [==============================] - 0s 15ms/step - loss: 0.1571 - val_loss: 0.1653\n",
      "Epoch 275/1000\n",
      "7/7 [==============================] - 0s 12ms/step - loss: 0.1546 - val_loss: 0.1664\n",
      "Epoch 276/1000\n",
      "7/7 [==============================] - 0s 13ms/step - loss: 0.1583 - val_loss: 0.1667\n",
      "Epoch 277/1000\n",
      "7/7 [==============================] - 0s 13ms/step - loss: 0.1535 - val_loss: 0.1667\n",
      "Epoch 278/1000\n",
      "7/7 [==============================] - 0s 11ms/step - loss: 0.1529 - val_loss: 0.1670\n",
      "Epoch 279/1000\n",
      "7/7 [==============================] - 0s 14ms/step - loss: 0.1481 - val_loss: 0.1669\n",
      "Epoch 280/1000\n",
      "7/7 [==============================] - 0s 14ms/step - loss: 0.1409 - val_loss: 0.1674\n",
      "Epoch 281/1000\n",
      "7/7 [==============================] - 0s 14ms/step - loss: 0.1546 - val_loss: 0.1666\n",
      "Epoch 282/1000\n",
      "7/7 [==============================] - 0s 17ms/step - loss: 0.1592 - val_loss: 0.1664\n",
      "Epoch 283/1000\n",
      "7/7 [==============================] - 0s 13ms/step - loss: 0.1630 - val_loss: 0.1667\n",
      "Epoch 284/1000\n",
      "7/7 [==============================] - 0s 11ms/step - loss: 0.1592 - val_loss: 0.1669\n",
      "Epoch 285/1000\n",
      "7/7 [==============================] - 0s 14ms/step - loss: 0.1490 - val_loss: 0.1667\n",
      "Epoch 286/1000\n",
      "7/7 [==============================] - 0s 14ms/step - loss: 0.1532 - val_loss: 0.1670\n",
      "Epoch 287/1000\n",
      "7/7 [==============================] - 0s 14ms/step - loss: 0.1511 - val_loss: 0.1668\n",
      "Epoch 288/1000\n",
      "7/7 [==============================] - 0s 17ms/step - loss: 0.1485 - val_loss: 0.1667\n",
      "Epoch 289/1000\n",
      "7/7 [==============================] - 0s 16ms/step - loss: 0.1465 - val_loss: 0.1669\n",
      "Epoch 290/1000\n",
      "7/7 [==============================] - 0s 14ms/step - loss: 0.1419 - val_loss: 0.1662\n",
      "Epoch 291/1000\n",
      "7/7 [==============================] - 0s 12ms/step - loss: 0.1512 - val_loss: 0.1664\n",
      "Epoch 292/1000\n",
      "7/7 [==============================] - 0s 15ms/step - loss: 0.1555 - val_loss: 0.1662\n",
      "Epoch 293/1000\n",
      "7/7 [==============================] - 0s 15ms/step - loss: 0.1438 - val_loss: 0.1662\n",
      "Epoch 294/1000\n",
      "7/7 [==============================] - 0s 14ms/step - loss: 0.1630 - val_loss: 0.1665\n",
      "Epoch 295/1000\n",
      "7/7 [==============================] - 0s 14ms/step - loss: 0.1470 - val_loss: 0.1673\n",
      "Epoch 296/1000\n",
      "7/7 [==============================] - 0s 14ms/step - loss: 0.1473 - val_loss: 0.1679\n",
      "Epoch 297/1000\n",
      "7/7 [==============================] - 0s 13ms/step - loss: 0.1467 - val_loss: 0.1685\n",
      "Epoch 298/1000\n",
      "7/7 [==============================] - 0s 13ms/step - loss: 0.1512 - val_loss: 0.1675\n",
      "Epoch 299/1000\n",
      "7/7 [==============================] - 0s 11ms/step - loss: 0.1495 - val_loss: 0.1670\n",
      "Epoch 300/1000\n",
      "7/7 [==============================] - 0s 16ms/step - loss: 0.1552 - val_loss: 0.1668\n",
      "Epoch 301/1000\n",
      "7/7 [==============================] - 0s 14ms/step - loss: 0.1474 - val_loss: 0.1669\n",
      "Epoch 302/1000\n",
      "7/7 [==============================] - 0s 14ms/step - loss: 0.1491 - val_loss: 0.1671\n",
      "Epoch 303/1000\n",
      "7/7 [==============================] - 0s 13ms/step - loss: 0.1443 - val_loss: 0.1666\n",
      "Epoch 304/1000\n",
      "7/7 [==============================] - 0s 15ms/step - loss: 0.1465 - val_loss: 0.1661\n",
      "Epoch 305/1000\n",
      "7/7 [==============================] - 0s 15ms/step - loss: 0.1517 - val_loss: 0.1662\n",
      "Epoch 306/1000\n",
      "7/7 [==============================] - 0s 14ms/step - loss: 0.1611 - val_loss: 0.1658\n",
      "Epoch 307/1000\n",
      "7/7 [==============================] - 0s 14ms/step - loss: 0.1370 - val_loss: 0.1654\n",
      "Epoch 308/1000\n",
      "7/7 [==============================] - 0s 13ms/step - loss: 0.1552 - val_loss: 0.1649\n",
      "Epoch 309/1000\n",
      "7/7 [==============================] - 0s 15ms/step - loss: 0.1468 - val_loss: 0.1650\n",
      "Epoch 310/1000\n",
      "7/7 [==============================] - 0s 11ms/step - loss: 0.1444 - val_loss: 0.1649\n",
      "Epoch 311/1000\n",
      "7/7 [==============================] - 0s 17ms/step - loss: 0.1388 - val_loss: 0.1649\n",
      "Epoch 312/1000\n",
      "7/7 [==============================] - 0s 13ms/step - loss: 0.1361 - val_loss: 0.1649\n",
      "Epoch 313/1000\n",
      "7/7 [==============================] - 0s 11ms/step - loss: 0.1508 - val_loss: 0.1644\n",
      "Epoch 314/1000\n",
      "7/7 [==============================] - 0s 15ms/step - loss: 0.1500 - val_loss: 0.1638\n",
      "Epoch 315/1000\n",
      "7/7 [==============================] - 0s 14ms/step - loss: 0.1494 - val_loss: 0.1643\n",
      "Epoch 316/1000\n",
      "7/7 [==============================] - 0s 12ms/step - loss: 0.1434 - val_loss: 0.1640\n",
      "Epoch 317/1000\n",
      "7/7 [==============================] - 0s 15ms/step - loss: 0.1527 - val_loss: 0.1637\n",
      "Epoch 318/1000\n",
      "7/7 [==============================] - 0s 13ms/step - loss: 0.1477 - val_loss: 0.1644\n",
      "Epoch 319/1000\n",
      "7/7 [==============================] - 0s 15ms/step - loss: 0.1460 - val_loss: 0.1654\n",
      "Epoch 320/1000\n",
      "7/7 [==============================] - 0s 14ms/step - loss: 0.1452 - val_loss: 0.1657\n",
      "Epoch 321/1000\n",
      "7/7 [==============================] - 0s 14ms/step - loss: 0.1467 - val_loss: 0.1656\n",
      "Epoch 322/1000\n",
      "7/7 [==============================] - 0s 17ms/step - loss: 0.1397 - val_loss: 0.1654\n",
      "Epoch 323/1000\n",
      "7/7 [==============================] - 0s 12ms/step - loss: 0.1352 - val_loss: 0.1652\n",
      "Epoch 324/1000\n",
      "7/7 [==============================] - 0s 14ms/step - loss: 0.1481 - val_loss: 0.1648\n",
      "Epoch 325/1000\n",
      "7/7 [==============================] - 0s 16ms/step - loss: 0.1560 - val_loss: 0.1652\n",
      "Epoch 326/1000\n",
      "7/7 [==============================] - 0s 16ms/step - loss: 0.1492 - val_loss: 0.1645\n",
      "Epoch 327/1000\n",
      "7/7 [==============================] - 0s 13ms/step - loss: 0.1429 - val_loss: 0.1644\n",
      "Epoch 328/1000\n",
      "7/7 [==============================] - 0s 15ms/step - loss: 0.1454 - val_loss: 0.1641\n",
      "Epoch 329/1000\n",
      "7/7 [==============================] - 0s 11ms/step - loss: 0.1565 - val_loss: 0.1643\n",
      "Epoch 330/1000\n",
      "7/7 [==============================] - 0s 14ms/step - loss: 0.1408 - val_loss: 0.1643\n",
      "Epoch 331/1000\n",
      "7/7 [==============================] - 0s 16ms/step - loss: 0.1468 - val_loss: 0.1645\n",
      "Epoch 332/1000\n",
      "7/7 [==============================] - 0s 15ms/step - loss: 0.1482 - val_loss: 0.1650\n",
      "Epoch 333/1000\n",
      "7/7 [==============================] - 0s 12ms/step - loss: 0.1436 - val_loss: 0.1655\n",
      "Epoch 334/1000\n",
      "7/7 [==============================] - 0s 17ms/step - loss: 0.1475 - val_loss: 0.1655\n",
      "Epoch 335/1000\n",
      "7/7 [==============================] - 0s 12ms/step - loss: 0.1572 - val_loss: 0.1650\n",
      "Epoch 336/1000\n",
      "7/7 [==============================] - 0s 14ms/step - loss: 0.1468 - val_loss: 0.1652\n",
      "Epoch 337/1000\n",
      "7/7 [==============================] - 0s 14ms/step - loss: 0.1552 - val_loss: 0.1652\n",
      "Epoch 338/1000\n",
      "7/7 [==============================] - 0s 13ms/step - loss: 0.1488 - val_loss: 0.1659\n",
      "Epoch 339/1000\n",
      "7/7 [==============================] - 0s 14ms/step - loss: 0.1494 - val_loss: 0.1668\n",
      "Epoch 340/1000\n",
      "7/7 [==============================] - 0s 16ms/step - loss: 0.1434 - val_loss: 0.1665\n",
      "Epoch 341/1000\n",
      "7/7 [==============================] - 0s 13ms/step - loss: 0.1529 - val_loss: 0.1663\n",
      "Epoch 342/1000\n",
      "7/7 [==============================] - 0s 14ms/step - loss: 0.1416 - val_loss: 0.1657\n",
      "Epoch 343/1000\n",
      "7/7 [==============================] - 0s 16ms/step - loss: 0.1407 - val_loss: 0.1651\n",
      "Epoch 344/1000\n",
      "7/7 [==============================] - 0s 14ms/step - loss: 0.1475 - val_loss: 0.1647\n",
      "Epoch 345/1000\n",
      "7/7 [==============================] - 0s 15ms/step - loss: 0.1390 - val_loss: 0.1640\n",
      "Epoch 346/1000\n",
      "7/7 [==============================] - 0s 14ms/step - loss: 0.1539 - val_loss: 0.1637\n",
      "Epoch 347/1000\n",
      "7/7 [==============================] - 0s 14ms/step - loss: 0.1466 - val_loss: 0.1643\n",
      "Epoch 348/1000\n",
      "7/7 [==============================] - 0s 14ms/step - loss: 0.1379 - val_loss: 0.1653\n",
      "Epoch 349/1000\n",
      "7/7 [==============================] - 0s 14ms/step - loss: 0.1385 - val_loss: 0.1657\n",
      "Epoch 350/1000\n",
      "7/7 [==============================] - 0s 17ms/step - loss: 0.1512 - val_loss: 0.1657\n",
      "Epoch 351/1000\n",
      "7/7 [==============================] - 0s 15ms/step - loss: 0.1436 - val_loss: 0.1651\n",
      "Epoch 352/1000\n",
      "7/7 [==============================] - 0s 15ms/step - loss: 0.1333 - val_loss: 0.1645\n",
      "Epoch 353/1000\n",
      "7/7 [==============================] - 0s 15ms/step - loss: 0.1560 - val_loss: 0.1647\n",
      "Epoch 354/1000\n",
      "7/7 [==============================] - 0s 14ms/step - loss: 0.1408 - val_loss: 0.1641\n",
      "Epoch 355/1000\n",
      "7/7 [==============================] - 0s 14ms/step - loss: 0.1546 - val_loss: 0.1644\n",
      "Epoch 356/1000\n",
      "7/7 [==============================] - 0s 16ms/step - loss: 0.1431 - val_loss: 0.1650\n",
      "Epoch 357/1000\n",
      "7/7 [==============================] - 0s 13ms/step - loss: 0.1479 - val_loss: 0.1655\n",
      "Epoch 358/1000\n",
      "7/7 [==============================] - 0s 14ms/step - loss: 0.1666 - val_loss: 0.1648\n",
      "Epoch 359/1000\n",
      "7/7 [==============================] - 0s 15ms/step - loss: 0.1496 - val_loss: 0.1645\n",
      "Epoch 360/1000\n",
      "7/7 [==============================] - 0s 14ms/step - loss: 0.1395 - val_loss: 0.1645\n",
      "Epoch 361/1000\n",
      "7/7 [==============================] - 0s 16ms/step - loss: 0.1514 - val_loss: 0.1649\n",
      "Epoch 362/1000\n",
      "7/7 [==============================] - 0s 13ms/step - loss: 0.1451 - val_loss: 0.1653\n",
      "Epoch 363/1000\n",
      "7/7 [==============================] - 0s 17ms/step - loss: 0.1470 - val_loss: 0.1650\n",
      "Epoch 364/1000\n",
      "7/7 [==============================] - 0s 16ms/step - loss: 0.1534 - val_loss: 0.1646\n",
      "Epoch 365/1000\n",
      "7/7 [==============================] - 0s 13ms/step - loss: 0.1579 - val_loss: 0.1645\n",
      "Epoch 366/1000\n",
      "7/7 [==============================] - 0s 13ms/step - loss: 0.1349 - val_loss: 0.1645\n",
      "Epoch 367/1000\n",
      "7/7 [==============================] - 0s 14ms/step - loss: 0.1554 - val_loss: 0.1638\n",
      "Epoch 368/1000\n",
      "7/7 [==============================] - 0s 13ms/step - loss: 0.1475 - val_loss: 0.1635\n",
      "Epoch 369/1000\n",
      "7/7 [==============================] - 0s 14ms/step - loss: 0.1559 - val_loss: 0.1643\n",
      "Epoch 370/1000\n",
      "7/7 [==============================] - 0s 14ms/step - loss: 0.1431 - val_loss: 0.1642\n",
      "Epoch 371/1000\n",
      "7/7 [==============================] - 0s 14ms/step - loss: 0.1253 - val_loss: 0.1639\n",
      "Epoch 372/1000\n",
      "7/7 [==============================] - 0s 12ms/step - loss: 0.1422 - val_loss: 0.1644\n",
      "Epoch 373/1000\n",
      "7/7 [==============================] - 0s 14ms/step - loss: 0.1480 - val_loss: 0.1646\n",
      "Epoch 374/1000\n",
      "7/7 [==============================] - 0s 11ms/step - loss: 0.1559 - val_loss: 0.1642\n",
      "Epoch 375/1000\n",
      "7/7 [==============================] - 0s 16ms/step - loss: 0.1457 - val_loss: 0.1642\n",
      "Epoch 376/1000\n",
      "7/7 [==============================] - 0s 13ms/step - loss: 0.1476 - val_loss: 0.1637\n",
      "Epoch 377/1000\n",
      "7/7 [==============================] - 0s 11ms/step - loss: 0.1436 - val_loss: 0.1631\n",
      "Epoch 378/1000\n",
      "7/7 [==============================] - 0s 14ms/step - loss: 0.1477 - val_loss: 0.1631\n",
      "Epoch 379/1000\n",
      "7/7 [==============================] - 0s 16ms/step - loss: 0.1537 - val_loss: 0.1632\n",
      "Epoch 380/1000\n",
      "7/7 [==============================] - 0s 14ms/step - loss: 0.1442 - val_loss: 0.1637\n",
      "Epoch 381/1000\n",
      "7/7 [==============================] - 0s 15ms/step - loss: 0.1490 - val_loss: 0.1647\n",
      "Epoch 382/1000\n",
      "7/7 [==============================] - 0s 11ms/step - loss: 0.1455 - val_loss: 0.1644\n",
      "Epoch 383/1000\n",
      "7/7 [==============================] - 0s 14ms/step - loss: 0.1448 - val_loss: 0.1639\n",
      "Epoch 384/1000\n",
      "7/7 [==============================] - 0s 12ms/step - loss: 0.1501 - val_loss: 0.1637\n",
      "Epoch 385/1000\n",
      "7/7 [==============================] - 0s 14ms/step - loss: 0.1464 - val_loss: 0.1635\n",
      "Epoch 386/1000\n",
      "7/7 [==============================] - 0s 12ms/step - loss: 0.1405 - val_loss: 0.1635\n",
      "Epoch 387/1000\n",
      "7/7 [==============================] - 0s 14ms/step - loss: 0.1460 - val_loss: 0.1626\n",
      "Epoch 388/1000\n",
      "7/7 [==============================] - 0s 14ms/step - loss: 0.1461 - val_loss: 0.1626\n",
      "Epoch 389/1000\n",
      "7/7 [==============================] - 0s 14ms/step - loss: 0.1347 - val_loss: 0.1632\n",
      "Epoch 390/1000\n",
      "7/7 [==============================] - 0s 15ms/step - loss: 0.1516 - val_loss: 0.1631\n",
      "Epoch 391/1000\n",
      "7/7 [==============================] - 0s 14ms/step - loss: 0.1384 - val_loss: 0.1624\n",
      "Epoch 392/1000\n",
      "7/7 [==============================] - 0s 13ms/step - loss: 0.1534 - val_loss: 0.1619\n",
      "Epoch 393/1000\n",
      "7/7 [==============================] - 0s 15ms/step - loss: 0.1408 - val_loss: 0.1618\n",
      "Epoch 394/1000\n",
      "7/7 [==============================] - 0s 14ms/step - loss: 0.1352 - val_loss: 0.1627\n",
      "Epoch 395/1000\n",
      "7/7 [==============================] - 0s 14ms/step - loss: 0.1507 - val_loss: 0.1633\n",
      "Epoch 396/1000\n",
      "7/7 [==============================] - 0s 13ms/step - loss: 0.1428 - val_loss: 0.1630\n",
      "Epoch 397/1000\n",
      "7/7 [==============================] - 0s 14ms/step - loss: 0.1600 - val_loss: 0.1624\n",
      "Epoch 398/1000\n",
      "7/7 [==============================] - 0s 14ms/step - loss: 0.1386 - val_loss: 0.1624\n",
      "Epoch 399/1000\n",
      "7/7 [==============================] - 0s 14ms/step - loss: 0.1451 - val_loss: 0.1628\n",
      "Epoch 400/1000\n",
      "7/7 [==============================] - 0s 16ms/step - loss: 0.1477 - val_loss: 0.1631\n",
      "Epoch 401/1000\n",
      "7/7 [==============================] - 0s 14ms/step - loss: 0.1341 - val_loss: 0.1635\n",
      "Epoch 402/1000\n",
      "7/7 [==============================] - 0s 13ms/step - loss: 0.1408 - val_loss: 0.1638\n",
      "Epoch 403/1000\n",
      "7/7 [==============================] - 0s 11ms/step - loss: 0.1529 - val_loss: 0.1637\n",
      "Epoch 404/1000\n",
      "7/7 [==============================] - 0s 14ms/step - loss: 0.1403 - val_loss: 0.1633\n",
      "Epoch 405/1000\n",
      "7/7 [==============================] - 0s 16ms/step - loss: 0.1414 - val_loss: 0.1630\n",
      "Epoch 406/1000\n",
      "7/7 [==============================] - 0s 14ms/step - loss: 0.1448 - val_loss: 0.1628\n",
      "Epoch 407/1000\n",
      "7/7 [==============================] - 0s 18ms/step - loss: 0.1461 - val_loss: 0.1624\n",
      "Epoch 408/1000\n",
      "7/7 [==============================] - 0s 11ms/step - loss: 0.1458 - val_loss: 0.1623\n",
      "Epoch 409/1000\n",
      "7/7 [==============================] - 0s 14ms/step - loss: 0.1509 - val_loss: 0.1624\n",
      "Epoch 410/1000\n",
      "7/7 [==============================] - 0s 11ms/step - loss: 0.1499 - val_loss: 0.1632\n",
      "Epoch 411/1000\n",
      "7/7 [==============================] - 0s 14ms/step - loss: 0.1538 - val_loss: 0.1631\n",
      "Epoch 412/1000\n",
      "7/7 [==============================] - 0s 15ms/step - loss: 0.1433 - val_loss: 0.1628\n",
      "Epoch 413/1000\n",
      "7/7 [==============================] - 0s 11ms/step - loss: 0.1540 - val_loss: 0.1631\n",
      "Epoch 414/1000\n",
      "7/7 [==============================] - 0s 14ms/step - loss: 0.1599 - val_loss: 0.1625\n",
      "Epoch 415/1000\n",
      "7/7 [==============================] - 0s 14ms/step - loss: 0.1351 - val_loss: 0.1628\n",
      "Epoch 416/1000\n",
      "7/7 [==============================] - 0s 13ms/step - loss: 0.1467 - val_loss: 0.1627\n",
      "Epoch 417/1000\n",
      "7/7 [==============================] - 0s 11ms/step - loss: 0.1512 - val_loss: 0.1624\n",
      "Epoch 418/1000\n",
      "7/7 [==============================] - 0s 16ms/step - loss: 0.1565 - val_loss: 0.1624\n",
      "Epoch 419/1000\n",
      "7/7 [==============================] - 0s 14ms/step - loss: 0.1391 - val_loss: 0.1628\n",
      "Epoch 420/1000\n",
      "7/7 [==============================] - 0s 11ms/step - loss: 0.1410 - val_loss: 0.1628\n",
      "Epoch 421/1000\n",
      "7/7 [==============================] - 0s 14ms/step - loss: 0.1441 - val_loss: 0.1626\n",
      "Epoch 422/1000\n",
      "7/7 [==============================] - 0s 14ms/step - loss: 0.1406 - val_loss: 0.1620\n",
      "Epoch 423/1000\n",
      "7/7 [==============================] - 0s 11ms/step - loss: 0.1423 - val_loss: 0.1619\n",
      "Epoch 424/1000\n",
      "7/7 [==============================] - 0s 14ms/step - loss: 0.1443 - val_loss: 0.1624\n",
      "Epoch 425/1000\n",
      "7/7 [==============================] - 0s 12ms/step - loss: 0.1385 - val_loss: 0.1627\n",
      "Epoch 426/1000\n",
      "7/7 [==============================] - 0s 16ms/step - loss: 0.1447 - val_loss: 0.1621\n",
      "Epoch 427/1000\n",
      "7/7 [==============================] - 0s 14ms/step - loss: 0.1430 - val_loss: 0.1619\n",
      "Epoch 428/1000\n",
      "7/7 [==============================] - 0s 16ms/step - loss: 0.1445 - val_loss: 0.1614\n",
      "Epoch 429/1000\n",
      "7/7 [==============================] - 0s 14ms/step - loss: 0.1426 - val_loss: 0.1615\n",
      "Epoch 430/1000\n",
      "7/7 [==============================] - 0s 14ms/step - loss: 0.1463 - val_loss: 0.1624\n",
      "Epoch 431/1000\n",
      "7/7 [==============================] - 0s 14ms/step - loss: 0.1468 - val_loss: 0.1630\n",
      "Epoch 432/1000\n",
      "7/7 [==============================] - 0s 12ms/step - loss: 0.1481 - val_loss: 0.1635\n",
      "Epoch 433/1000\n",
      "7/7 [==============================] - 0s 13ms/step - loss: 0.1456 - val_loss: 0.1634\n",
      "Epoch 434/1000\n",
      "7/7 [==============================] - 0s 14ms/step - loss: 0.1463 - val_loss: 0.1630\n",
      "Epoch 435/1000\n",
      "7/7 [==============================] - 0s 14ms/step - loss: 0.1440 - val_loss: 0.1630\n",
      "Epoch 436/1000\n",
      "7/7 [==============================] - 0s 14ms/step - loss: 0.1332 - val_loss: 0.1629\n",
      "Epoch 437/1000\n",
      "7/7 [==============================] - 0s 14ms/step - loss: 0.1485 - val_loss: 0.1635\n",
      "Epoch 438/1000\n",
      "7/7 [==============================] - 0s 16ms/step - loss: 0.1365 - val_loss: 0.1634\n",
      "Epoch 439/1000\n",
      "7/7 [==============================] - 0s 14ms/step - loss: 0.1427 - val_loss: 0.1638\n",
      "Epoch 440/1000\n",
      "7/7 [==============================] - 0s 15ms/step - loss: 0.1450 - val_loss: 0.1633\n",
      "Epoch 441/1000\n",
      "7/7 [==============================] - 0s 12ms/step - loss: 0.1399 - val_loss: 0.1638\n",
      "Epoch 442/1000\n",
      "7/7 [==============================] - 0s 14ms/step - loss: 0.1487 - val_loss: 0.1638\n",
      "Epoch 443/1000\n",
      "7/7 [==============================] - 0s 14ms/step - loss: 0.1435 - val_loss: 0.1636\n",
      "Epoch 444/1000\n",
      "7/7 [==============================] - 0s 14ms/step - loss: 0.1494 - val_loss: 0.1634\n",
      "Epoch 445/1000\n",
      "7/7 [==============================] - 0s 14ms/step - loss: 0.1563 - val_loss: 0.1628\n",
      "Epoch 446/1000\n",
      "7/7 [==============================] - 0s 14ms/step - loss: 0.1507 - val_loss: 0.1644\n",
      "Epoch 447/1000\n",
      "7/7 [==============================] - 0s 14ms/step - loss: 0.1442 - val_loss: 0.1646\n",
      "Epoch 448/1000\n",
      "7/7 [==============================] - 0s 14ms/step - loss: 0.1547 - val_loss: 0.1634\n",
      "Epoch 449/1000\n",
      "7/7 [==============================] - 0s 11ms/step - loss: 0.1499 - val_loss: 0.1629\n",
      "Epoch 450/1000\n",
      "7/7 [==============================] - 0s 14ms/step - loss: 0.1548 - val_loss: 0.1627\n",
      "Epoch 451/1000\n",
      "7/7 [==============================] - 0s 14ms/step - loss: 0.1404 - val_loss: 0.1626\n",
      "Epoch 452/1000\n",
      "7/7 [==============================] - 0s 14ms/step - loss: 0.1366 - val_loss: 0.1627\n",
      "Epoch 453/1000\n",
      "7/7 [==============================] - 0s 10ms/step - loss: 0.1325 - val_loss: 0.1628\n",
      "Epoch 454/1000\n",
      "7/7 [==============================] - 0s 14ms/step - loss: 0.1516 - val_loss: 0.1630\n",
      "Epoch 455/1000\n",
      "7/7 [==============================] - 0s 12ms/step - loss: 0.1423 - val_loss: 0.1623\n",
      "Epoch 456/1000\n",
      "7/7 [==============================] - 0s 14ms/step - loss: 0.1412 - val_loss: 0.1629\n",
      "Epoch 457/1000\n",
      "7/7 [==============================] - 0s 17ms/step - loss: 0.1402 - val_loss: 0.1628\n",
      "Epoch 458/1000\n",
      "7/7 [==============================] - 0s 14ms/step - loss: 0.1534 - val_loss: 0.1628\n",
      "Epoch 459/1000\n",
      "7/7 [==============================] - 0s 17ms/step - loss: 0.1432 - val_loss: 0.1624\n",
      "Epoch 460/1000\n",
      "7/7 [==============================] - 0s 14ms/step - loss: 0.1516 - val_loss: 0.1627\n",
      "Epoch 461/1000\n",
      "7/7 [==============================] - 0s 14ms/step - loss: 0.1390 - val_loss: 0.1628\n",
      "Epoch 462/1000\n",
      "7/7 [==============================] - 0s 14ms/step - loss: 0.1397 - val_loss: 0.1631\n",
      "Epoch 463/1000\n",
      "7/7 [==============================] - 0s 13ms/step - loss: 0.1445 - val_loss: 0.1631\n",
      "Epoch 464/1000\n",
      "7/7 [==============================] - 0s 13ms/step - loss: 0.1316 - val_loss: 0.1623\n",
      "Epoch 465/1000\n",
      "7/7 [==============================] - 0s 15ms/step - loss: 0.1412 - val_loss: 0.1618\n",
      "Epoch 466/1000\n",
      "7/7 [==============================] - 0s 17ms/step - loss: 0.1486 - val_loss: 0.1622\n",
      "Epoch 467/1000\n",
      "7/7 [==============================] - 0s 15ms/step - loss: 0.1441 - val_loss: 0.1622\n",
      "Epoch 468/1000\n",
      "7/7 [==============================] - 0s 14ms/step - loss: 0.1338 - val_loss: 0.1617\n",
      "Epoch 469/1000\n",
      "7/7 [==============================] - 0s 13ms/step - loss: 0.1369 - val_loss: 0.1618\n",
      "Epoch 470/1000\n",
      "7/7 [==============================] - 0s 11ms/step - loss: 0.1419 - val_loss: 0.1622\n",
      "Epoch 471/1000\n",
      "7/7 [==============================] - 0s 12ms/step - loss: 0.1369 - val_loss: 0.1620\n",
      "Epoch 472/1000\n",
      "7/7 [==============================] - 0s 12ms/step - loss: 0.1421 - val_loss: 0.1619\n",
      "Epoch 473/1000\n",
      "7/7 [==============================] - 0s 14ms/step - loss: 0.1394 - val_loss: 0.1618\n",
      "Epoch 474/1000\n",
      "7/7 [==============================] - 0s 14ms/step - loss: 0.1421 - val_loss: 0.1612\n",
      "Epoch 475/1000\n",
      "7/7 [==============================] - 0s 17ms/step - loss: 0.1307 - val_loss: 0.1610\n",
      "Epoch 476/1000\n",
      "7/7 [==============================] - 0s 16ms/step - loss: 0.1407 - val_loss: 0.1604\n",
      "Epoch 477/1000\n",
      "7/7 [==============================] - 0s 13ms/step - loss: 0.1501 - val_loss: 0.1606\n",
      "Epoch 478/1000\n",
      "7/7 [==============================] - 0s 14ms/step - loss: 0.1380 - val_loss: 0.1612\n",
      "Epoch 479/1000\n",
      "7/7 [==============================] - 0s 14ms/step - loss: 0.1368 - val_loss: 0.1627\n",
      "Epoch 480/1000\n",
      "7/7 [==============================] - 0s 14ms/step - loss: 0.1417 - val_loss: 0.1622\n",
      "Epoch 481/1000\n",
      "7/7 [==============================] - 0s 17ms/step - loss: 0.1543 - val_loss: 0.1621\n",
      "Epoch 482/1000\n",
      "7/7 [==============================] - 0s 15ms/step - loss: 0.1423 - val_loss: 0.1629\n",
      "Epoch 483/1000\n",
      "7/7 [==============================] - 0s 14ms/step - loss: 0.1434 - val_loss: 0.1619\n",
      "Epoch 484/1000\n",
      "7/7 [==============================] - 0s 13ms/step - loss: 0.1463 - val_loss: 0.1610\n",
      "Epoch 485/1000\n",
      "7/7 [==============================] - 0s 14ms/step - loss: 0.1400 - val_loss: 0.1613\n",
      "Epoch 486/1000\n",
      "7/7 [==============================] - 0s 14ms/step - loss: 0.1433 - val_loss: 0.1620\n",
      "Epoch 487/1000\n",
      "7/7 [==============================] - 0s 16ms/step - loss: 0.1362 - val_loss: 0.1626\n",
      "Epoch 488/1000\n",
      "7/7 [==============================] - 0s 15ms/step - loss: 0.1344 - val_loss: 0.1621\n",
      "Epoch 489/1000\n",
      "7/7 [==============================] - 0s 11ms/step - loss: 0.1465 - val_loss: 0.1617\n",
      "Epoch 490/1000\n",
      "7/7 [==============================] - 0s 13ms/step - loss: 0.1433 - val_loss: 0.1618\n",
      "Epoch 491/1000\n",
      "7/7 [==============================] - 0s 11ms/step - loss: 0.1466 - val_loss: 0.1616\n",
      "Epoch 492/1000\n",
      "7/7 [==============================] - 0s 14ms/step - loss: 0.1443 - val_loss: 0.1617\n",
      "Epoch 493/1000\n",
      "7/7 [==============================] - 0s 10ms/step - loss: 0.1439 - val_loss: 0.1618\n",
      "Epoch 494/1000\n",
      "7/7 [==============================] - 0s 13ms/step - loss: 0.1486 - val_loss: 0.1621\n",
      "Epoch 495/1000\n",
      "7/7 [==============================] - 0s 12ms/step - loss: 0.1382 - val_loss: 0.1618\n",
      "Epoch 496/1000\n",
      "7/7 [==============================] - 0s 11ms/step - loss: 0.1485 - val_loss: 0.1619\n",
      "Epoch 497/1000\n",
      "7/7 [==============================] - 0s 14ms/step - loss: 0.1410 - val_loss: 0.1619\n",
      "Epoch 498/1000\n",
      "7/7 [==============================] - 0s 12ms/step - loss: 0.1352 - val_loss: 0.1622\n",
      "Epoch 499/1000\n",
      "7/7 [==============================] - 0s 14ms/step - loss: 0.1361 - val_loss: 0.1622\n",
      "Epoch 500/1000\n",
      "7/7 [==============================] - 0s 15ms/step - loss: 0.1346 - val_loss: 0.1629\n",
      "Epoch 501/1000\n",
      "7/7 [==============================] - 0s 14ms/step - loss: 0.1550 - val_loss: 0.1622\n",
      "Epoch 502/1000\n",
      "7/7 [==============================] - 0s 12ms/step - loss: 0.1441 - val_loss: 0.1625\n",
      "Epoch 503/1000\n",
      "7/7 [==============================] - 0s 13ms/step - loss: 0.1355 - val_loss: 0.1623\n",
      "Epoch 504/1000\n",
      "7/7 [==============================] - 0s 14ms/step - loss: 0.1487 - val_loss: 0.1625\n",
      "Epoch 505/1000\n",
      "7/7 [==============================] - 0s 13ms/step - loss: 0.1287 - val_loss: 0.1624\n",
      "Epoch 506/1000\n",
      "7/7 [==============================] - 0s 14ms/step - loss: 0.1431 - val_loss: 0.1629\n",
      "Epoch 507/1000\n",
      "7/7 [==============================] - 0s 12ms/step - loss: 0.1495 - val_loss: 0.1631\n",
      "Epoch 508/1000\n",
      "7/7 [==============================] - 0s 13ms/step - loss: 0.1413 - val_loss: 0.1635\n",
      "Epoch 509/1000\n",
      "7/7 [==============================] - 0s 15ms/step - loss: 0.1399 - val_loss: 0.1628\n",
      "Epoch 510/1000\n",
      "7/7 [==============================] - 0s 14ms/step - loss: 0.1515 - val_loss: 0.1624\n",
      "Epoch 511/1000\n",
      "7/7 [==============================] - 0s 15ms/step - loss: 0.1328 - val_loss: 0.1624\n",
      "Epoch 512/1000\n",
      "7/7 [==============================] - 0s 14ms/step - loss: 0.1502 - val_loss: 0.1629\n",
      "Epoch 513/1000\n",
      "7/7 [==============================] - 0s 14ms/step - loss: 0.1450 - val_loss: 0.1633\n",
      "Epoch 514/1000\n",
      "7/7 [==============================] - 0s 14ms/step - loss: 0.1388 - val_loss: 0.1640\n",
      "Epoch 515/1000\n",
      "7/7 [==============================] - 0s 14ms/step - loss: 0.1419 - val_loss: 0.1642\n",
      "Epoch 516/1000\n",
      "7/7 [==============================] - 0s 14ms/step - loss: 0.1437 - val_loss: 0.1637\n",
      "Epoch 517/1000\n",
      "7/7 [==============================] - 0s 17ms/step - loss: 0.1514 - val_loss: 0.1634\n",
      "Epoch 518/1000\n",
      "7/7 [==============================] - 0s 16ms/step - loss: 0.1429 - val_loss: 0.1631\n",
      "Epoch 519/1000\n",
      "7/7 [==============================] - 0s 16ms/step - loss: 0.1509 - val_loss: 0.1623\n",
      "Epoch 520/1000\n",
      "7/7 [==============================] - 0s 14ms/step - loss: 0.1477 - val_loss: 0.1627\n",
      "Epoch 521/1000\n",
      "7/7 [==============================] - 0s 15ms/step - loss: 0.1390 - val_loss: 0.1641\n",
      "Epoch 522/1000\n",
      "7/7 [==============================] - 0s 14ms/step - loss: 0.1390 - val_loss: 0.1644\n",
      "Epoch 523/1000\n",
      "7/7 [==============================] - 0s 14ms/step - loss: 0.1350 - val_loss: 0.1643\n",
      "Epoch 524/1000\n",
      "7/7 [==============================] - 0s 15ms/step - loss: 0.1275 - val_loss: 0.1626\n",
      "Epoch 525/1000\n",
      "7/7 [==============================] - 0s 14ms/step - loss: 0.1401 - val_loss: 0.1615\n",
      "Epoch 526/1000\n",
      "7/7 [==============================] - 0s 14ms/step - loss: 0.1387 - val_loss: 0.1612\n",
      "Epoch 527/1000\n",
      "7/7 [==============================] - 0s 16ms/step - loss: 0.1574 - val_loss: 0.1628\n",
      "Epoch 528/1000\n",
      "7/7 [==============================] - 0s 14ms/step - loss: 0.1343 - val_loss: 0.1635\n",
      "Epoch 529/1000\n",
      "7/7 [==============================] - 0s 11ms/step - loss: 0.1455 - val_loss: 0.1631\n",
      "Epoch 530/1000\n",
      "7/7 [==============================] - 0s 14ms/step - loss: 0.1342 - val_loss: 0.1628\n",
      "Epoch 531/1000\n",
      "7/7 [==============================] - 0s 12ms/step - loss: 0.1356 - val_loss: 0.1626\n",
      "Epoch 532/1000\n",
      "7/7 [==============================] - 0s 15ms/step - loss: 0.1474 - val_loss: 0.1630\n",
      "Epoch 533/1000\n",
      "7/7 [==============================] - 0s 11ms/step - loss: 0.1431 - val_loss: 0.1639\n",
      "Epoch 534/1000\n",
      "7/7 [==============================] - 0s 13ms/step - loss: 0.1441 - val_loss: 0.1646\n",
      "Epoch 535/1000\n",
      "7/7 [==============================] - 0s 14ms/step - loss: 0.1411 - val_loss: 0.1642\n",
      "Epoch 536/1000\n",
      "7/7 [==============================] - 0s 13ms/step - loss: 0.1451 - val_loss: 0.1641\n",
      "Epoch 537/1000\n",
      "7/7 [==============================] - 0s 15ms/step - loss: 0.1446 - val_loss: 0.1636\n",
      "Epoch 538/1000\n",
      "7/7 [==============================] - 0s 14ms/step - loss: 0.1420 - val_loss: 0.1631\n",
      "Epoch 539/1000\n",
      "7/7 [==============================] - 0s 14ms/step - loss: 0.1541 - val_loss: 0.1632\n",
      "Epoch 540/1000\n",
      "7/7 [==============================] - 0s 15ms/step - loss: 0.1460 - val_loss: 0.1633\n",
      "Epoch 541/1000\n",
      "7/7 [==============================] - 0s 14ms/step - loss: 0.1467 - val_loss: 0.1640\n",
      "Epoch 542/1000\n",
      "7/7 [==============================] - 0s 14ms/step - loss: 0.1378 - val_loss: 0.1644\n",
      "Epoch 543/1000\n",
      "7/7 [==============================] - 0s 15ms/step - loss: 0.1421 - val_loss: 0.1648\n",
      "Epoch 544/1000\n",
      "7/7 [==============================] - 0s 14ms/step - loss: 0.1414 - val_loss: 0.1645\n",
      "Epoch 545/1000\n",
      "7/7 [==============================] - 0s 14ms/step - loss: 0.1422 - val_loss: 0.1643\n",
      "Epoch 546/1000\n",
      "7/7 [==============================] - 0s 14ms/step - loss: 0.1501 - val_loss: 0.1642\n",
      "Epoch 547/1000\n",
      "7/7 [==============================] - 0s 11ms/step - loss: 0.1359 - val_loss: 0.1643\n",
      "Epoch 548/1000\n",
      "7/7 [==============================] - 0s 13ms/step - loss: 0.1420 - val_loss: 0.1642\n",
      "Epoch 549/1000\n",
      "7/7 [==============================] - 0s 17ms/step - loss: 0.1475 - val_loss: 0.1643\n",
      "Epoch 550/1000\n",
      "7/7 [==============================] - 0s 16ms/step - loss: 0.1423 - val_loss: 0.1641\n",
      "Epoch 551/1000\n",
      "7/7 [==============================] - 0s 14ms/step - loss: 0.1491 - val_loss: 0.1630\n",
      "Epoch 552/1000\n",
      "7/7 [==============================] - 0s 13ms/step - loss: 0.1341 - val_loss: 0.1625\n",
      "Epoch 553/1000\n",
      "7/7 [==============================] - 0s 14ms/step - loss: 0.1376 - val_loss: 0.1635\n",
      "Epoch 554/1000\n",
      "7/7 [==============================] - 0s 12ms/step - loss: 0.1556 - val_loss: 0.1639\n",
      "Epoch 555/1000\n",
      "7/7 [==============================] - 0s 14ms/step - loss: 0.1410 - val_loss: 0.1647\n",
      "Epoch 556/1000\n",
      "7/7 [==============================] - 0s 17ms/step - loss: 0.1380 - val_loss: 0.1646\n",
      "Epoch 557/1000\n",
      "7/7 [==============================] - 0s 14ms/step - loss: 0.1335 - val_loss: 0.1639\n",
      "Epoch 558/1000\n",
      "7/7 [==============================] - 0s 14ms/step - loss: 0.1474 - val_loss: 0.1636\n",
      "Epoch 559/1000\n",
      "7/7 [==============================] - 0s 16ms/step - loss: 0.1427 - val_loss: 0.1636\n",
      "Epoch 560/1000\n",
      "7/7 [==============================] - 0s 13ms/step - loss: 0.1375 - val_loss: 0.1636\n",
      "Epoch 561/1000\n",
      "7/7 [==============================] - 0s 15ms/step - loss: 0.1442 - val_loss: 0.1638\n",
      "Epoch 562/1000\n",
      "7/7 [==============================] - 0s 14ms/step - loss: 0.1338 - val_loss: 0.1638\n",
      "Epoch 563/1000\n",
      "7/7 [==============================] - 0s 12ms/step - loss: 0.1381 - val_loss: 0.1633\n",
      "Epoch 564/1000\n",
      "7/7 [==============================] - 0s 15ms/step - loss: 0.1344 - val_loss: 0.1635\n",
      "Epoch 565/1000\n",
      "7/7 [==============================] - 0s 11ms/step - loss: 0.1350 - val_loss: 0.1643\n",
      "Epoch 566/1000\n",
      "7/7 [==============================] - 0s 14ms/step - loss: 0.1296 - val_loss: 0.1649\n",
      "Epoch 567/1000\n",
      "7/7 [==============================] - 0s 17ms/step - loss: 0.1498 - val_loss: 0.1644\n",
      "Epoch 568/1000\n",
      "7/7 [==============================] - 0s 14ms/step - loss: 0.1325 - val_loss: 0.1639\n",
      "Epoch 569/1000\n",
      "7/7 [==============================] - 0s 16ms/step - loss: 0.1433 - val_loss: 0.1637\n",
      "Epoch 570/1000\n",
      "7/7 [==============================] - 0s 13ms/step - loss: 0.1483 - val_loss: 0.1637\n",
      "Epoch 571/1000\n",
      "7/7 [==============================] - 0s 14ms/step - loss: 0.1393 - val_loss: 0.1641\n",
      "Epoch 572/1000\n",
      "7/7 [==============================] - 0s 13ms/step - loss: 0.1383 - val_loss: 0.1633\n",
      "Epoch 573/1000\n",
      "7/7 [==============================] - 0s 11ms/step - loss: 0.1425 - val_loss: 0.1631\n",
      "Epoch 574/1000\n",
      "7/7 [==============================] - 0s 14ms/step - loss: 0.1286 - val_loss: 0.1639\n",
      "Epoch 575/1000\n",
      "7/7 [==============================] - 0s 12ms/step - loss: 0.1378 - val_loss: 0.1639\n",
      "Epoch 576/1000\n",
      "7/7 [==============================] - 0s 13ms/step - loss: 0.1433 - val_loss: 0.1628\n",
      "Epoch 577/1000\n",
      "7/7 [==============================] - 0s 10ms/step - loss: 0.1333 - val_loss: 0.1624\n",
      "Epoch 578/1000\n",
      "7/7 [==============================] - 0s 14ms/step - loss: 0.1392 - val_loss: 0.1628\n",
      "Epoch 579/1000\n",
      "7/7 [==============================] - 0s 16ms/step - loss: 0.1386 - val_loss: 0.1633\n",
      "Epoch 580/1000\n",
      "7/7 [==============================] - 0s 14ms/step - loss: 0.1392 - val_loss: 0.1640\n",
      "Epoch 581/1000\n",
      "7/7 [==============================] - 0s 16ms/step - loss: 0.1365 - val_loss: 0.1645\n",
      "Epoch 582/1000\n",
      "7/7 [==============================] - 0s 15ms/step - loss: 0.1505 - val_loss: 0.1639\n",
      "Epoch 583/1000\n",
      "7/7 [==============================] - 0s 14ms/step - loss: 0.1465 - val_loss: 0.1642\n",
      "Epoch 584/1000\n",
      "7/7 [==============================] - 0s 14ms/step - loss: 0.1441 - val_loss: 0.1641\n",
      "Epoch 585/1000\n",
      "7/7 [==============================] - 0s 14ms/step - loss: 0.1443 - val_loss: 0.1638\n",
      "Epoch 586/1000\n",
      "7/7 [==============================] - 0s 14ms/step - loss: 0.1484 - val_loss: 0.1639\n",
      "Epoch 587/1000\n",
      "7/7 [==============================] - 0s 11ms/step - loss: 0.1365 - val_loss: 0.1644\n",
      "Epoch 588/1000\n",
      "7/7 [==============================] - 0s 14ms/step - loss: 0.1449 - val_loss: 0.1652\n",
      "Epoch 589/1000\n",
      "7/7 [==============================] - 0s 17ms/step - loss: 0.1369 - val_loss: 0.1656\n",
      "Epoch 590/1000\n",
      "7/7 [==============================] - 0s 15ms/step - loss: 0.1363 - val_loss: 0.1651\n",
      "Epoch 591/1000\n",
      "7/7 [==============================] - 0s 14ms/step - loss: 0.1377 - val_loss: 0.1657\n",
      "Epoch 592/1000\n",
      "7/7 [==============================] - 0s 15ms/step - loss: 0.1416 - val_loss: 0.1659\n",
      "Epoch 593/1000\n",
      "7/7 [==============================] - 0s 12ms/step - loss: 0.1352 - val_loss: 0.1670\n",
      "Epoch 594/1000\n",
      "7/7 [==============================] - 0s 15ms/step - loss: 0.1430 - val_loss: 0.1661\n",
      "Epoch 595/1000\n",
      "7/7 [==============================] - 0s 12ms/step - loss: 0.1420 - val_loss: 0.1651\n",
      "Epoch 596/1000\n",
      "7/7 [==============================] - 0s 14ms/step - loss: 0.1402 - val_loss: 0.1650\n",
      "Epoch 597/1000\n",
      "7/7 [==============================] - 0s 12ms/step - loss: 0.1475 - val_loss: 0.1649\n",
      "Epoch 598/1000\n",
      "7/7 [==============================] - 0s 14ms/step - loss: 0.1421 - val_loss: 0.1652\n",
      "Epoch 599/1000\n",
      "7/7 [==============================] - 0s 14ms/step - loss: 0.1435 - val_loss: 0.1659\n",
      "Epoch 600/1000\n",
      "7/7 [==============================] - 0s 17ms/step - loss: 0.1376 - val_loss: 0.1655\n",
      "Epoch 601/1000\n",
      "7/7 [==============================] - 0s 12ms/step - loss: 0.1447 - val_loss: 0.1646\n",
      "Epoch 602/1000\n",
      "7/7 [==============================] - 0s 14ms/step - loss: 0.1310 - val_loss: 0.1644\n",
      "Epoch 603/1000\n",
      "7/7 [==============================] - 0s 16ms/step - loss: 0.1477 - val_loss: 0.1649\n",
      "Epoch 604/1000\n",
      "7/7 [==============================] - 0s 14ms/step - loss: 0.1491 - val_loss: 0.1653\n",
      "Epoch 605/1000\n",
      "7/7 [==============================] - 0s 13ms/step - loss: 0.1388 - val_loss: 0.1652\n",
      "Epoch 606/1000\n",
      "7/7 [==============================] - 0s 11ms/step - loss: 0.1408 - val_loss: 0.1639\n",
      "Epoch 607/1000\n",
      "7/7 [==============================] - 0s 16ms/step - loss: 0.1380 - val_loss: 0.1637\n",
      "Epoch 608/1000\n",
      "7/7 [==============================] - 0s 14ms/step - loss: 0.1412 - val_loss: 0.1633\n",
      "Epoch 609/1000\n",
      "7/7 [==============================] - 0s 16ms/step - loss: 0.1517 - val_loss: 0.1636\n",
      "Epoch 610/1000\n",
      "7/7 [==============================] - 0s 12ms/step - loss: 0.1338 - val_loss: 0.1640\n",
      "Epoch 611/1000\n",
      "7/7 [==============================] - 0s 11ms/step - loss: 0.1496 - val_loss: 0.1640\n",
      "Epoch 612/1000\n",
      "7/7 [==============================] - 0s 13ms/step - loss: 0.1416 - val_loss: 0.1639\n",
      "Epoch 613/1000\n",
      "7/7 [==============================] - 0s 14ms/step - loss: 0.1355 - val_loss: 0.1648\n",
      "Epoch 614/1000\n",
      "7/7 [==============================] - 0s 14ms/step - loss: 0.1354 - val_loss: 0.1655\n",
      "Epoch 615/1000\n",
      "7/7 [==============================] - 0s 10ms/step - loss: 0.1458 - val_loss: 0.1640\n",
      "Epoch 616/1000\n",
      "7/7 [==============================] - 0s 11ms/step - loss: 0.1314 - val_loss: 0.1649\n",
      "Epoch 617/1000\n",
      "7/7 [==============================] - 0s 13ms/step - loss: 0.1286 - val_loss: 0.1656\n",
      "Epoch 618/1000\n",
      "7/7 [==============================] - 0s 14ms/step - loss: 0.1370 - val_loss: 0.1657\n",
      "Epoch 619/1000\n",
      "7/7 [==============================] - 0s 14ms/step - loss: 0.1475 - val_loss: 0.1652\n",
      "Epoch 620/1000\n",
      "7/7 [==============================] - 0s 16ms/step - loss: 0.1351 - val_loss: 0.1654\n",
      "Epoch 621/1000\n",
      "7/7 [==============================] - 0s 13ms/step - loss: 0.1322 - val_loss: 0.1653\n",
      "Epoch 622/1000\n",
      "7/7 [==============================] - 0s 11ms/step - loss: 0.1494 - val_loss: 0.1648\n",
      "Epoch 623/1000\n",
      "7/7 [==============================] - 0s 15ms/step - loss: 0.1350 - val_loss: 0.1650\n",
      "Epoch 624/1000\n",
      "7/7 [==============================] - 0s 11ms/step - loss: 0.1351 - val_loss: 0.1644\n",
      "Epoch 625/1000\n",
      "7/7 [==============================] - 0s 12ms/step - loss: 0.1493 - val_loss: 0.1650\n",
      "Epoch 626/1000\n",
      "7/7 [==============================] - 0s 15ms/step - loss: 0.1306 - val_loss: 0.1640\n",
      "Epoch 627/1000\n",
      "7/7 [==============================] - 0s 15ms/step - loss: 0.1281 - val_loss: 0.1637\n",
      "Epoch 628/1000\n",
      "7/7 [==============================] - 0s 15ms/step - loss: 0.1373 - val_loss: 0.1635\n",
      "Epoch 629/1000\n",
      "7/7 [==============================] - 0s 15ms/step - loss: 0.1434 - val_loss: 0.1639\n",
      "Epoch 630/1000\n",
      "7/7 [==============================] - 0s 11ms/step - loss: 0.1393 - val_loss: 0.1639\n",
      "Epoch 631/1000\n",
      "7/7 [==============================] - 0s 15ms/step - loss: 0.1386 - val_loss: 0.1633\n",
      "Epoch 632/1000\n",
      "7/7 [==============================] - 0s 12ms/step - loss: 0.1384 - val_loss: 0.1629\n",
      "Epoch 633/1000\n",
      "7/7 [==============================] - 0s 11ms/step - loss: 0.1340 - val_loss: 0.1629\n",
      "Epoch 634/1000\n",
      "7/7 [==============================] - 0s 14ms/step - loss: 0.1249 - val_loss: 0.1630\n",
      "Epoch 635/1000\n",
      "7/7 [==============================] - 0s 14ms/step - loss: 0.1473 - val_loss: 0.1634\n",
      "Epoch 636/1000\n",
      "7/7 [==============================] - 0s 11ms/step - loss: 0.1344 - val_loss: 0.1644\n",
      "Epoch 637/1000\n",
      "7/7 [==============================] - 0s 15ms/step - loss: 0.1401 - val_loss: 0.1638\n",
      "Epoch 638/1000\n",
      "7/7 [==============================] - 0s 14ms/step - loss: 0.1339 - val_loss: 0.1636\n",
      "Epoch 639/1000\n",
      "7/7 [==============================] - 0s 15ms/step - loss: 0.1394 - val_loss: 0.1636\n",
      "Epoch 640/1000\n",
      "7/7 [==============================] - 0s 14ms/step - loss: 0.1457 - val_loss: 0.1622\n",
      "Epoch 641/1000\n",
      "7/7 [==============================] - 0s 17ms/step - loss: 0.1360 - val_loss: 0.1620\n",
      "Epoch 642/1000\n",
      "7/7 [==============================] - 0s 17ms/step - loss: 0.1337 - val_loss: 0.1630\n",
      "Epoch 643/1000\n",
      "7/7 [==============================] - 0s 14ms/step - loss: 0.1465 - val_loss: 0.1631\n",
      "Epoch 644/1000\n",
      "7/7 [==============================] - 0s 14ms/step - loss: 0.1421 - val_loss: 0.1642\n",
      "Epoch 645/1000\n",
      "7/7 [==============================] - 0s 15ms/step - loss: 0.1432 - val_loss: 0.1658\n",
      "Epoch 646/1000\n",
      "7/7 [==============================] - 0s 14ms/step - loss: 0.1343 - val_loss: 0.1655\n",
      "Epoch 647/1000\n",
      "7/7 [==============================] - 0s 14ms/step - loss: 0.1390 - val_loss: 0.1654\n",
      "Epoch 648/1000\n",
      "7/7 [==============================] - 0s 14ms/step - loss: 0.1354 - val_loss: 0.1650\n",
      "Epoch 649/1000\n",
      "7/7 [==============================] - 0s 16ms/step - loss: 0.1425 - val_loss: 0.1648\n",
      "Epoch 650/1000\n",
      "7/7 [==============================] - 0s 14ms/step - loss: 0.1369 - val_loss: 0.1642\n",
      "Epoch 651/1000\n",
      "7/7 [==============================] - 0s 14ms/step - loss: 0.1368 - val_loss: 0.1634\n",
      "Epoch 652/1000\n",
      "7/7 [==============================] - 0s 14ms/step - loss: 0.1471 - val_loss: 0.1651\n",
      "Epoch 653/1000\n",
      "7/7 [==============================] - 0s 11ms/step - loss: 0.1440 - val_loss: 0.1658\n",
      "Epoch 654/1000\n",
      "7/7 [==============================] - 0s 14ms/step - loss: 0.1309 - val_loss: 0.1655\n",
      "Epoch 655/1000\n",
      "7/7 [==============================] - 0s 14ms/step - loss: 0.1339 - val_loss: 0.1651\n",
      "Epoch 656/1000\n",
      "7/7 [==============================] - 0s 15ms/step - loss: 0.1427 - val_loss: 0.1655\n",
      "Epoch 657/1000\n",
      "7/7 [==============================] - 0s 11ms/step - loss: 0.1461 - val_loss: 0.1653\n",
      "Epoch 658/1000\n",
      "7/7 [==============================] - 0s 14ms/step - loss: 0.1353 - val_loss: 0.1659\n",
      "Epoch 659/1000\n",
      "7/7 [==============================] - 0s 14ms/step - loss: 0.1322 - val_loss: 0.1659\n",
      "Epoch 660/1000\n",
      "7/7 [==============================] - 0s 14ms/step - loss: 0.1458 - val_loss: 0.1649\n",
      "Epoch 661/1000\n",
      "7/7 [==============================] - 0s 12ms/step - loss: 0.1360 - val_loss: 0.1648\n",
      "Epoch 662/1000\n",
      "7/7 [==============================] - 0s 14ms/step - loss: 0.1425 - val_loss: 0.1647\n",
      "Epoch 663/1000\n",
      "7/7 [==============================] - 0s 16ms/step - loss: 0.1270 - val_loss: 0.1658\n",
      "Epoch 664/1000\n",
      "7/7 [==============================] - 0s 14ms/step - loss: 0.1490 - val_loss: 0.1646\n",
      "Epoch 665/1000\n",
      "7/7 [==============================] - 0s 14ms/step - loss: 0.1382 - val_loss: 0.1642\n",
      "Epoch 666/1000\n",
      "7/7 [==============================] - 0s 15ms/step - loss: 0.1349 - val_loss: 0.1644\n",
      "Epoch 667/1000\n",
      "7/7 [==============================] - 0s 16ms/step - loss: 0.1356 - val_loss: 0.1648\n",
      "Epoch 668/1000\n",
      "7/7 [==============================] - 0s 15ms/step - loss: 0.1335 - val_loss: 0.1650\n",
      "Epoch 669/1000\n",
      "7/7 [==============================] - 0s 12ms/step - loss: 0.1372 - val_loss: 0.1640\n",
      "Epoch 670/1000\n",
      "7/7 [==============================] - 0s 15ms/step - loss: 0.1400 - val_loss: 0.1639\n",
      "Epoch 671/1000\n",
      "7/7 [==============================] - 0s 14ms/step - loss: 0.1385 - val_loss: 0.1636\n",
      "Epoch 672/1000\n",
      "7/7 [==============================] - 0s 9ms/step - loss: 0.1316 - val_loss: 0.1644\n",
      "Epoch 673/1000\n",
      "7/7 [==============================] - 0s 14ms/step - loss: 0.1430 - val_loss: 0.1652\n",
      "Epoch 674/1000\n",
      "7/7 [==============================] - 0s 13ms/step - loss: 0.1432 - val_loss: 0.1661\n",
      "Epoch 675/1000\n",
      "7/7 [==============================] - 0s 14ms/step - loss: 0.1355 - val_loss: 0.1657\n",
      "Epoch 676/1000\n",
      "7/7 [==============================] - 0s 14ms/step - loss: 0.1445 - val_loss: 0.1659\n"
     ]
    }
   ],
   "source": [
    "# Train the model with early stopping\n",
    "history = model_mlp.fit(micro_train_data_num, micro_train_labels, epochs=1000, batch_size=32, validation_data=(micro_dev_data_num, micro_dev_labels), callbacks=[early_stopping])\n"
   ]
  },
  {
   "cell_type": "code",
   "execution_count": 118,
   "id": "992df7b4-4687-4c31-bf03-ed09e00df079",
   "metadata": {},
   "outputs": [
    {
     "name": "stdout",
     "output_type": "stream",
     "text": [
      "7/7 [==============================] - 0s 2ms/step\n"
     ]
    },
    {
     "data": {
      "text/plain": [
       "0.3526672861169662"
      ]
     },
     "execution_count": 118,
     "metadata": {},
     "output_type": "execute_result"
    }
   ],
   "source": [
    "pred_mlp=model_mlp.predict(micro_train_data_num)\n",
    "lin_rmse= np.sqrt(mean_squared_error(micro_train_labels, pred_mlp))\n",
    "lin_rmse"
   ]
  },
  {
   "cell_type": "code",
   "execution_count": null,
   "id": "838bd6cf-791a-48e2-97aa-4179cd206d26",
   "metadata": {},
   "outputs": [],
   "source": []
  },
  {
   "cell_type": "markdown",
   "id": "400f48ee-bfd6-4763-b461-ba7900818022",
   "metadata": {},
   "source": [
    "## 4. GAM"
   ]
  },
  {
   "cell_type": "code",
   "execution_count": 53,
   "id": "c33abe76-23a6-4bfa-94fa-ddd36bb8cfdc",
   "metadata": {
    "scrolled": true
   },
   "outputs": [
    {
     "name": "stdout",
     "output_type": "stream",
     "text": [
      "Requirement already satisfied: pygam in c:\\users\\neoga\\appdata\\local\\packages\\pythonsoftwarefoundation.python.3.11_qbz5n2kfra8p0\\localcache\\local-packages\\python311\\site-packages (0.9.1)\n",
      "Requirement already satisfied: numpy>=1.25 in c:\\users\\neoga\\appdata\\local\\packages\\pythonsoftwarefoundation.python.3.11_qbz5n2kfra8p0\\localcache\\local-packages\\python311\\site-packages (from pygam) (1.25.2)\n",
      "Requirement already satisfied: progressbar2<5.0.0,>=4.2.0 in c:\\users\\neoga\\appdata\\local\\packages\\pythonsoftwarefoundation.python.3.11_qbz5n2kfra8p0\\localcache\\local-packages\\python311\\site-packages (from pygam) (4.4.2)\n",
      "Requirement already satisfied: scipy<1.12,>=1.11.1 in c:\\users\\neoga\\appdata\\local\\packages\\pythonsoftwarefoundation.python.3.11_qbz5n2kfra8p0\\localcache\\local-packages\\python311\\site-packages (from pygam) (1.11.1)\n",
      "Requirement already satisfied: python-utils>=3.8.1 in c:\\users\\neoga\\appdata\\local\\packages\\pythonsoftwarefoundation.python.3.11_qbz5n2kfra8p0\\localcache\\local-packages\\python311\\site-packages (from progressbar2<5.0.0,>=4.2.0->pygam) (3.8.2)\n",
      "Requirement already satisfied: typing-extensions>3.10.0.2 in c:\\users\\neoga\\appdata\\local\\packages\\pythonsoftwarefoundation.python.3.11_qbz5n2kfra8p0\\localcache\\local-packages\\python311\\site-packages (from python-utils>=3.8.1->progressbar2<5.0.0,>=4.2.0->pygam) (4.9.0)\n"
     ]
    }
   ],
   "source": [
    "!pip install pygam\n"
   ]
  },
  {
   "cell_type": "markdown",
   "id": "a03e27a6-9572-46d0-b774-72c2961b2c40",
   "metadata": {},
   "source": [
    "### Finding best hyperparameters for the model"
   ]
  },
  {
   "cell_type": "code",
   "execution_count": 54,
   "id": "d4b00b76-8f94-4af1-b0ed-75a78cba498e",
   "metadata": {},
   "outputs": [],
   "source": [
    "import matplotlib.pyplot as plt\n",
    "from pygam import LinearGAM, s\n",
    "\n",
    "def grid_search_and_plot(micro_train_data_num, micro_train_labels, micro_dev_data_num, micro_dev_labels,\n",
    "                         n_splines_values=[5, 10, 20,30,40,50,60,70,80,90,100], lam_values=[0.001, 0.01, 0.1, 1]):\n",
    "    \n",
    "    results = []\n",
    "\n",
    "    def evaluate_model(model, X_val, y_val):\n",
    "        preds = model.predict(X_val)\n",
    "        mse = mean_squared_error(y_val, preds)\n",
    "        rmse = np.sqrt(mse)\n",
    "        r2 = R2_validation(y_val, preds)\n",
    "        return rmse, r2\n",
    "\n",
    "    for n_splines in n_splines_values:\n",
    "        for lam in lam_values:\n",
    "            gam = LinearGAM(s(0, n_splines=n_splines, lam=lam) + s(1, n_splines=n_splines, lam=lam) + s(2, n_splines=n_splines, lam=lam))\n",
    "            gam.fit(micro_train_data_num, micro_train_labels)\n",
    "            rmse, r2 = evaluate_model(gam, micro_dev_data_num, micro_dev_labels)\n",
    "            results.append((n_splines, lam, rmse, r2))\n",
    "\n",
    "    results_array = np.array(results, dtype=[('n_splines', int), ('lam', float), ('rmse', float), ('r2', float)])\n",
    "\n",
    "    best_result_rmse = min(results_array, key=lambda x: x['rmse'])\n",
    "    best_result_r2 = max(results_array, key=lambda x: x['r2'])\n",
    "    print(f\"Best hyperparameters for RMSE: n_splines={best_result_rmse['n_splines']}, lam={best_result_rmse['lam']}\")\n",
    "    print(f\"Validation RMSE: {best_result_rmse['rmse']}\")\n",
    "    print(f\"Best hyperparameters for R2: n_splines={best_result_r2['n_splines']}, lam={best_result_r2['lam']}\")\n",
    "    print(f\"Validation R2: {best_result_r2['r2']}\")\n",
    "\n",
    "    fig, axes = plt.subplots(1, 2, figsize=(12, 5))\n",
    "\n",
    "    for n_splines in n_splines_values:\n",
    "        subset = results_array[results_array['n_splines'] == n_splines]\n",
    "        axes[0].plot(subset['lam'], subset['rmse'], marker='o', label=f'n_splines={n_splines}', markersize=3.5)\n",
    "        axes[1].plot(subset['lam'], subset['r2'], marker='o', label=f'n_splines={n_splines}', markersize=3.5)\n",
    "\n",
    "    axes[0].set_xscale('log')\n",
    "    axes[0].set_xlabel('Lambda (Regularization Parameter)')\n",
    "    axes[0].set_ylabel('Validation RMSE')\n",
    "    axes[0].set_title('Grid Search Results for RMSE')\n",
    "    axes[0].legend()\n",
    "\n",
    "    axes[1].set_xscale('log')\n",
    "    axes[1].set_xlabel('Lambda (Regularization Parameter)')\n",
    "    axes[1].set_ylabel('Validation R2')\n",
    "    axes[1].set_title('Grid Search Results for R2 Validation')\n",
    "    axes[1].legend()\n",
    "\n",
    "    plt.tight_layout()\n",
    "    plt.show()\n"
   ]
  },
  {
   "cell_type": "code",
   "execution_count": 55,
   "id": "0465aa19-88fe-4a81-a9e3-107287f6f031",
   "metadata": {},
   "outputs": [
    {
     "name": "stdout",
     "output_type": "stream",
     "text": [
      "Best hyperparameters for RMSE: n_splines=50, lam=0.001\n",
      "Validation RMSE: 0.19011592620349876\n",
      "Best hyperparameters for R2: n_splines=50, lam=0.001\n",
      "Validation R2: 0.8719650947319241\n"
     ]
    },
    {
     "data": {
      "image/png": "[encoded data removed]",
      "text/plain": [
       "<Figure size 1200x500 with 2 Axes>"
      ]
     },
     "metadata": {},
     "output_type": "display_data"
    }
   ],
   "source": [
    "grid_search_and_plot(micro_train_data_num, micro_train_labels, micro_dev_data_num, micro_dev_labels)\n"
   ]
  },
  {
   "cell_type": "markdown",
   "id": "9d975eaf-b43f-4eea-8dec-4b9c840526e0",
   "metadata": {},
   "source": [
    "#### Ideal Value for n_splines and labda will be 50 and 0.001 respetively"
   ]
  },
  {
   "cell_type": "code",
   "execution_count": 56,
   "id": "72180b03-2af6-444f-9965-763dcaa2ebd1",
   "metadata": {},
   "outputs": [],
   "source": [
    "n_splines,lam=50,0.001\n",
    "model_gam = LinearGAM(s(0, n_splines=n_splines, lam=lam) + s(1, n_splines=n_splines, lam=lam) + s(2, n_splines=n_splines, lam=lam))\n"
   ]
  },
  {
   "cell_type": "code",
   "execution_count": 57,
   "id": "85252e3f-831d-4a89-a7c6-e00132ca3e79",
   "metadata": {},
   "outputs": [
    {
     "data": {
      "text/plain": [
       "LinearGAM(callbacks=[Deviance(), Diffs()], fit_intercept=True, \n",
       "   max_iter=100, scale=None, terms=s(0) + s(1) + s(2) + intercept, \n",
       "   tol=0.0001, verbose=False)"
      ]
     },
     "execution_count": 57,
     "metadata": {},
     "output_type": "execute_result"
    }
   ],
   "source": [
    "model_gam.fit(micro_train_data_num, micro_train_labels)"
   ]
  },
  {
   "cell_type": "code",
   "execution_count": 58,
   "id": "180a4fb4-6c67-4789-baec-cc154d488bbe",
   "metadata": {},
   "outputs": [],
   "source": [
    "pred_gam=model_gam.predict(micro_train_data_num)"
   ]
  },
  {
   "cell_type": "code",
   "execution_count": 59,
   "id": "170addca-87d4-452b-bc03-270fe1dbcd5b",
   "metadata": {},
   "outputs": [
    {
     "data": {
      "text/plain": [
       "0.1977656850795223"
      ]
     },
     "execution_count": 59,
     "metadata": {},
     "output_type": "execute_result"
    }
   ],
   "source": [
    "lin_rmse_gam= np.sqrt(mean_squared_error(micro_train_labels, pred_gam))\n",
    "lin_rmse_gam"
   ]
  },
  {
   "cell_type": "code",
   "execution_count": null,
   "id": "f91dc667-88cc-4042-8f98-f6827072f1ca",
   "metadata": {},
   "outputs": [],
   "source": []
  },
  {
   "cell_type": "markdown",
   "id": "e65e68f1-d452-4ac8-8359-38d63afcfb5b",
   "metadata": {},
   "source": [
    "## Cross Validation"
   ]
  },
  {
   "cell_type": "code",
   "execution_count": 60,
   "id": "68ebb378-df3d-4f81-bd39-8c6c4b98c78c",
   "metadata": {},
   "outputs": [],
   "source": [
    "from sklearn.model_selection import cross_val_score, KFold\n",
    "def scores(model):\n",
    "    kf = KFold(n_splits=5, shuffle=True, random_state=42)\n",
    "    cross_val_results = cross_val_score(model, micro_train_data_num, micro_train_labels, cv=kf, scoring='neg_mean_squared_error')\n",
    "    rmse_scores = np.sqrt(-cross_val_results)\n",
    "    print('RMSE: ', rmse_scores.mean())\n",
    "    print(\"Scores: \", cross_val_results)\n",
    "    print(\"Mean: \", cross_val_results.mean())\n",
    "    print(\"Standard deviation: \", cross_val_results.std())"
   ]
  },
  {
   "cell_type": "markdown",
   "id": "98702d0e-bb18-42c2-babf-64b36010a14d",
   "metadata": {},
   "source": [
    "#### Random Forests"
   ]
  },
  {
   "cell_type": "code",
   "execution_count": 61,
   "id": "75ec9def-0a99-4a3c-9a98-718594147e37",
   "metadata": {},
   "outputs": [
    {
     "name": "stdout",
     "output_type": "stream",
     "text": [
      "RMSE:  0.21103041531119912\n",
      "Scores:  [-0.04059247 -0.04130373 -0.0465189  -0.04670657 -0.04780509]\n",
      "Mean:  -0.044585349395625785\n",
      "Standard deviation:  0.0030105481334613245\n"
     ]
    }
   ],
   "source": [
    "scores(model_rf)"
   ]
  },
  {
   "cell_type": "markdown",
   "id": "22297743-a34c-448f-aa5e-54930c1a2699",
   "metadata": {},
   "source": [
    "#### Decision Trees"
   ]
  },
  {
   "cell_type": "code",
   "execution_count": 62,
   "id": "89c17ca7-71b2-4320-b993-477b22d97f1d",
   "metadata": {},
   "outputs": [
    {
     "name": "stdout",
     "output_type": "stream",
     "text": [
      "RMSE:  0.2809132075711097\n",
      "Scores:  [-0.0871448  -0.07370199 -0.06405522 -0.07295043 -0.09903436]\n",
      "Mean:  -0.07937736012385668\n",
      "Standard deviation:  0.01228831979053779\n"
     ]
    }
   ],
   "source": [
    "scores(model_dt)"
   ]
  },
  {
   "cell_type": "code",
   "execution_count": null,
   "id": "3f49e639-d044-4cb8-9818-4344f5298fcf",
   "metadata": {},
   "outputs": [],
   "source": []
  },
  {
   "cell_type": "markdown",
   "id": "a6ad7e38-4dff-4731-a54a-b15eac57b142",
   "metadata": {},
   "source": [
    "# R2 Validation"
   ]
  },
  {
   "cell_type": "markdown",
   "id": "7c128e39-205e-4196-9dc0-3fbe7bf1002f",
   "metadata": {},
   "source": [
    "#### Random Forests"
   ]
  },
  {
   "cell_type": "code",
   "execution_count": 63,
   "id": "b2bde7a3-5e9b-443a-aae7-c3c0222eb811",
   "metadata": {},
   "outputs": [],
   "source": [
    "pred_rf = model_rf.predict(micro_train_data_num)"
   ]
  },
  {
   "cell_type": "code",
   "execution_count": 64,
   "id": "bcff96bb-8290-4160-8d5c-a1a80de5f4f9",
   "metadata": {},
   "outputs": [
    {
     "data": {
      "text/plain": [
       "0.9426248289451654"
      ]
     },
     "execution_count": 64,
     "metadata": {},
     "output_type": "execute_result"
    }
   ],
   "source": [
    "R2_validation(micro_train_labels, pred_rf)"
   ]
  },
  {
   "cell_type": "markdown",
   "id": "c513613e-fc06-4e16-a6e4-b93d93290010",
   "metadata": {},
   "source": [
    "#### Decision Trees"
   ]
  },
  {
   "cell_type": "code",
   "execution_count": 65,
   "id": "fd9bb234-5423-4e56-9338-51bc93ea8d08",
   "metadata": {},
   "outputs": [],
   "source": [
    "pred_dt = model_dt.predict(micro_train_data_num)"
   ]
  },
  {
   "cell_type": "code",
   "execution_count": 66,
   "id": "6e9ceae8-64a4-4e31-b348-44552edd0cd9",
   "metadata": {},
   "outputs": [
    {
     "data": {
      "text/plain": [
       "0.9998994809528646"
      ]
     },
     "execution_count": 66,
     "metadata": {},
     "output_type": "execute_result"
    }
   ],
   "source": [
    "R2_validation(micro_train_labels, pred_dt)"
   ]
  },
  {
   "cell_type": "markdown",
   "id": "ddc310eb-a95c-4daf-8e11-96a27d07e8ef",
   "metadata": {},
   "source": [
    "#### MLP"
   ]
  },
  {
   "cell_type": "code",
   "execution_count": 67,
   "id": "427f6c8c-c9e8-4cf4-8476-0474a666e17a",
   "metadata": {},
   "outputs": [
    {
     "name": "stdout",
     "output_type": "stream",
     "text": [
      "7/7 [==============================] - 0s 3ms/step\n"
     ]
    }
   ],
   "source": [
    "pred_mlp = model_mlp.predict(micro_train_data_num)"
   ]
  },
  {
   "cell_type": "code",
   "execution_count": 68,
   "id": "21b79944-322d-4358-b991-0b1991c6627b",
   "metadata": {
    "scrolled": true
   },
   "outputs": [],
   "source": [
    "pred_mlp=pred_mlp.flatten()"
   ]
  },
  {
   "cell_type": "code",
   "execution_count": 69,
   "id": "c1e814ba-2517-4e8c-b136-0b62c0ba515c",
   "metadata": {},
   "outputs": [
    {
     "data": {
      "text/plain": [
       "0.5140277014336485"
      ]
     },
     "execution_count": 69,
     "metadata": {},
     "output_type": "execute_result"
    }
   ],
   "source": [
    "R2_validation(micro_train_labels, pred_mlp)"
   ]
  },
  {
   "cell_type": "markdown",
   "id": "42304b6d-63d4-46ad-a645-8ecb1808abf0",
   "metadata": {},
   "source": [
    "#### GAM"
   ]
  },
  {
   "cell_type": "code",
   "execution_count": 70,
   "id": "699257d6-2e00-4df8-89ea-c1d60644dcf6",
   "metadata": {},
   "outputs": [
    {
     "data": {
      "text/plain": [
       "0.8503015467270377"
      ]
     },
     "execution_count": 70,
     "metadata": {},
     "output_type": "execute_result"
    }
   ],
   "source": [
    "R2_validation(micro_train_labels, pred_gam)"
   ]
  },
  {
   "cell_type": "code",
   "execution_count": null,
   "id": "e3bf8457-a9cb-4e79-b756-a0368912d027",
   "metadata": {},
   "outputs": [],
   "source": []
  },
  {
   "cell_type": "markdown",
   "id": "bf25c273-9097-4d47-9187-56368d31edca",
   "metadata": {},
   "source": [
    "### Coefficient of Determination"
   ]
  },
  {
   "cell_type": "code",
   "execution_count": 71,
   "id": "9ab3521e-c7dd-42c3-8c7d-eda52bfce08f",
   "metadata": {},
   "outputs": [],
   "source": [
    "from sklearn.metrics import r2_score"
   ]
  },
  {
   "cell_type": "code",
   "execution_count": 72,
   "id": "2d7537a5-338d-4473-9280-d1c42619ae8c",
   "metadata": {},
   "outputs": [
    {
     "data": {
      "text/plain": [
       "0.9418243753586435"
      ]
     },
     "execution_count": 72,
     "metadata": {},
     "output_type": "execute_result"
    }
   ],
   "source": [
    "# Random Forests\n",
    "r2_score(micro_train_labels, pred_rf)"
   ]
  },
  {
   "cell_type": "code",
   "execution_count": 73,
   "id": "d55799a3-99d3-4c39-b252-99eaf238ab8d",
   "metadata": {},
   "outputs": [
    {
     "data": {
      "text/plain": [
       "0.9998994809528662"
      ]
     },
     "execution_count": 73,
     "metadata": {},
     "output_type": "execute_result"
    }
   ],
   "source": [
    "# Decision Trees\n",
    "r2_score(micro_train_labels, pred_dt)"
   ]
  },
  {
   "cell_type": "code",
   "execution_count": 74,
   "id": "6b273354-2d7d-4047-9435-8a5369e08187",
   "metadata": {},
   "outputs": [
    {
     "data": {
      "text/plain": [
       "0.5059419488694199"
      ]
     },
     "execution_count": 74,
     "metadata": {},
     "output_type": "execute_result"
    }
   ],
   "source": [
    "# MLP\n",
    "r2_score(micro_train_labels, pred_mlp)"
   ]
  },
  {
   "cell_type": "code",
   "execution_count": 75,
   "id": "e0ceaab3-388d-4f9d-85a8-a78cb5575128",
   "metadata": {},
   "outputs": [
    {
     "data": {
      "text/plain": [
       "0.8502960706667377"
      ]
     },
     "execution_count": 75,
     "metadata": {},
     "output_type": "execute_result"
    }
   ],
   "source": [
    "# GAM\n",
    "r2_score(micro_train_labels, pred_gam)"
   ]
  },
  {
   "cell_type": "markdown",
   "id": "8eca3e2c-95f8-439b-8a55-902db09ee2a9",
   "metadata": {},
   "source": [
    "# Testing"
   ]
  },
  {
   "cell_type": "code",
   "execution_count": 76,
   "id": "4dbd7ed3-4dbe-4b25-b5bb-dc900501fb9d",
   "metadata": {},
   "outputs": [
    {
     "data": {
      "text/html": [
       "<div>\n",
       "<style scoped>\n",
       "    .dataframe tbody tr th:only-of-type {\n",
       "        vertical-align: middle;\n",
       "    }\n",
       "\n",
       "    .dataframe tbody tr th {\n",
       "        vertical-align: top;\n",
       "    }\n",
       "\n",
       "    .dataframe thead th {\n",
       "        text-align: right;\n",
       "    }\n",
       "</style>\n",
       "<table border=\"1\" class=\"dataframe\">\n",
       "  <thead>\n",
       "    <tr style=\"text-align: right;\">\n",
       "      <th></th>\n",
       "      <th>L-filter: None</th>\n",
       "      <th>Normal Stress</th>\n",
       "      <th>Hardness</th>\n",
       "    </tr>\n",
       "  </thead>\n",
       "  <tbody>\n",
       "    <tr>\n",
       "      <th>267</th>\n",
       "      <td>92.60</td>\n",
       "      <td>40</td>\n",
       "      <td>0.046</td>\n",
       "    </tr>\n",
       "    <tr>\n",
       "      <th>82</th>\n",
       "      <td>203.09</td>\n",
       "      <td>40</td>\n",
       "      <td>0.057</td>\n",
       "    </tr>\n",
       "    <tr>\n",
       "      <th>128</th>\n",
       "      <td>310.16</td>\n",
       "      <td>10</td>\n",
       "      <td>2.125</td>\n",
       "    </tr>\n",
       "    <tr>\n",
       "      <th>41</th>\n",
       "      <td>317.89</td>\n",
       "      <td>10</td>\n",
       "      <td>0.057</td>\n",
       "    </tr>\n",
       "    <tr>\n",
       "      <th>42</th>\n",
       "      <td>332.07</td>\n",
       "      <td>10</td>\n",
       "      <td>0.057</td>\n",
       "    </tr>\n",
       "  </tbody>\n",
       "</table>\n",
       "</div>"
      ],
      "text/plain": [
       "     L-filter: None  Normal Stress  Hardness\n",
       "267           92.60             40     0.046\n",
       "82           203.09             40     0.057\n",
       "128          310.16             10     2.125\n",
       "41           317.89             10     0.057\n",
       "42           332.07             10     0.057"
      ]
     },
     "execution_count": 76,
     "metadata": {},
     "output_type": "execute_result"
    }
   ],
   "source": [
    "micro_test_data = test_set[['L-filter: None', 'Normal Stress', 'Hardness']]\n",
    "micro_test_labels = test_set['Friction Coefficient']\n",
    "micro_test_data.head()"
   ]
  },
  {
   "cell_type": "code",
   "execution_count": 77,
   "id": "8fd1449b-17cb-4121-93b7-dcf244e9cfcc",
   "metadata": {},
   "outputs": [
    {
     "data": {
      "text/plain": [
       "(28, 3)"
      ]
     },
     "execution_count": 77,
     "metadata": {},
     "output_type": "execute_result"
    }
   ],
   "source": [
    "micro_test_data_num = the_pipeline.transform(micro_test_data)\n",
    "micro_test_data_num.shape"
   ]
  },
  {
   "cell_type": "markdown",
   "id": "9e1b331e-e6ff-4154-a5bf-f4f546aabcc8",
   "metadata": {},
   "source": [
    "### Random Forests"
   ]
  },
  {
   "cell_type": "code",
   "execution_count": 78,
   "id": "98be72a2-b8ec-4204-a373-9fa474d5bb99",
   "metadata": {},
   "outputs": [
    {
     "data": {
      "text/plain": [
       "0.1846199457129449"
      ]
     },
     "execution_count": 78,
     "metadata": {},
     "output_type": "execute_result"
    }
   ],
   "source": [
    "pred_rf_test = model_rf.predict(micro_test_data_num)\n",
    "lin_mse_test = mean_squared_error(micro_test_labels, pred_rf_test)\n",
    "lin_rmse_test= np.sqrt(lin_mse_test)\n",
    "lin_rmse_test"
   ]
  },
  {
   "cell_type": "code",
   "execution_count": 79,
   "id": "4b36c880-7dbd-4571-81e1-8934ee50970e",
   "metadata": {},
   "outputs": [
    {
     "data": {
      "text/plain": [
       "0.8919849964600258"
      ]
     },
     "execution_count": 79,
     "metadata": {},
     "output_type": "execute_result"
    }
   ],
   "source": [
    "R2_validation(micro_test_labels, pred_rf_test)"
   ]
  },
  {
   "cell_type": "code",
   "execution_count": 80,
   "id": "8abc74d1-261f-4e27-bba0-8bda1d3a654c",
   "metadata": {},
   "outputs": [
    {
     "data": {
      "text/plain": [
       "0.8729116195808071"
      ]
     },
     "execution_count": 80,
     "metadata": {},
     "output_type": "execute_result"
    }
   ],
   "source": [
    "r2_score(micro_test_labels, pred_rf_test)"
   ]
  },
  {
   "cell_type": "markdown",
   "id": "6df46f0b-5e9e-44e9-8d5d-96754a897ffb",
   "metadata": {},
   "source": [
    "### Decision Trees"
   ]
  },
  {
   "cell_type": "code",
   "execution_count": 81,
   "id": "ff82818b-f8e1-4825-bc40-2a3e12df8ebe",
   "metadata": {},
   "outputs": [
    {
     "data": {
      "text/plain": [
       "0.2170958838114098"
      ]
     },
     "execution_count": 81,
     "metadata": {},
     "output_type": "execute_result"
    }
   ],
   "source": [
    "pred_dt_test = model_dt.predict(micro_test_data_num)\n",
    "lin_mse_test_dt = mean_squared_error(micro_test_labels, pred_dt_test)\n",
    "lin_rmse_test_dt= np.sqrt(lin_mse_test_dt)\n",
    "lin_rmse_test_dt"
   ]
  },
  {
   "cell_type": "code",
   "execution_count": 82,
   "id": "ce6c1884-cfcc-4c02-bcd3-6a5c7e00285f",
   "metadata": {},
   "outputs": [
    {
     "data": {
      "text/plain": [
       "0.8333655878316151"
      ]
     },
     "execution_count": 82,
     "metadata": {},
     "output_type": "execute_result"
    }
   ],
   "source": [
    "R2_validation(micro_test_labels, pred_dt_test)"
   ]
  },
  {
   "cell_type": "code",
   "execution_count": 83,
   "id": "4627813f-b16b-41ed-b0e4-b5a048f7fba5",
   "metadata": {},
   "outputs": [
    {
     "data": {
      "text/plain": [
       "0.8242676220644596"
      ]
     },
     "execution_count": 83,
     "metadata": {},
     "output_type": "execute_result"
    }
   ],
   "source": [
    "r2_score(micro_test_labels, pred_dt_test)"
   ]
  },
  {
   "cell_type": "markdown",
   "id": "6806bc18-ba75-443f-b35e-b930e06addbb",
   "metadata": {},
   "source": [
    "### MLP"
   ]
  },
  {
   "cell_type": "code",
   "execution_count": 84,
   "id": "05d305fd-f90d-4f7b-963a-1eaf2188ca4e",
   "metadata": {},
   "outputs": [
    {
     "name": "stdout",
     "output_type": "stream",
     "text": [
      "1/1 [==============================] - 0s 48ms/step\n"
     ]
    },
    {
     "data": {
      "text/plain": [
       "0.43765973868683433"
      ]
     },
     "execution_count": 84,
     "metadata": {},
     "output_type": "execute_result"
    }
   ],
   "source": [
    "pred_mlp_test = model_mlp.predict(micro_test_data_num)\n",
    "pred_mlp_test=pred_mlp_test.flatten()\n",
    "lin_mse_test_mlp = mean_squared_error(micro_test_labels, pred_mlp_test)\n",
    "lin_rmse_test_mlp= np.sqrt(lin_mse_test_mlp)\n",
    "lin_rmse_test_mlp"
   ]
  },
  {
   "cell_type": "code",
   "execution_count": 85,
   "id": "a2891ee4-e3c2-4503-b60e-7c7e38251788",
   "metadata": {},
   "outputs": [
    {
     "data": {
      "text/plain": [
       "0.3131000704800596"
      ]
     },
     "execution_count": 85,
     "metadata": {},
     "output_type": "execute_result"
    }
   ],
   "source": [
    "R2_validation(micro_test_labels, pred_mlp_test)"
   ]
  },
  {
   "cell_type": "code",
   "execution_count": 86,
   "id": "06d0bf01-b297-493b-9d74-f8d5814aecb7",
   "metadata": {},
   "outputs": [
    {
     "data": {
      "text/plain": [
       "0.28579678511860995"
      ]
     },
     "execution_count": 86,
     "metadata": {},
     "output_type": "execute_result"
    }
   ],
   "source": [
    "r2_score(micro_test_labels, pred_mlp_test)"
   ]
  },
  {
   "cell_type": "markdown",
   "id": "114b293d-c821-4a21-bf80-001feb2f5cda",
   "metadata": {},
   "source": [
    "### GAM"
   ]
  },
  {
   "cell_type": "code",
   "execution_count": 87,
   "id": "aeecaf16-3742-4c94-8ad1-4c6cbfb3f4bf",
   "metadata": {},
   "outputs": [
    {
     "data": {
      "text/plain": [
       "0.22093831724782717"
      ]
     },
     "execution_count": 87,
     "metadata": {},
     "output_type": "execute_result"
    }
   ],
   "source": [
    "pred_gam_test = model_gam.predict(micro_test_data_num)\n",
    "lin_mse_test_gam = mean_squared_error(micro_test_labels, pred_gam_test)\n",
    "lin_rmse_test_gam= np.sqrt(lin_mse_test_gam)\n",
    "lin_rmse_test_gam"
   ]
  },
  {
   "cell_type": "code",
   "execution_count": 88,
   "id": "5e3d7c24-fe59-4ae1-9401-725bc9795b80",
   "metadata": {},
   "outputs": [
    {
     "data": {
      "text/plain": [
       "0.8299433472635952"
      ]
     },
     "execution_count": 88,
     "metadata": {},
     "output_type": "execute_result"
    }
   ],
   "source": [
    "R2_validation(micro_test_labels, pred_gam_test)"
   ]
  },
  {
   "cell_type": "code",
   "execution_count": 89,
   "id": "a898645f-e734-4063-9ab0-88d7b71d20b1",
   "metadata": {},
   "outputs": [
    {
     "data": {
      "text/plain": [
       "0.8179919104113567"
      ]
     },
     "execution_count": 89,
     "metadata": {},
     "output_type": "execute_result"
    }
   ],
   "source": [
    "r2_score(micro_test_labels, pred_gam_test)"
   ]
  },
  {
   "cell_type": "markdown",
   "id": "70ecee64-4c38-4db9-a61a-9fd2788a76b0",
   "metadata": {},
   "source": [
    "## >>More Validation Factors"
   ]
  },
  {
   "cell_type": "markdown",
   "id": "57783412-a8d5-40e2-97ce-f8849165a4ea",
   "metadata": {},
   "source": [
    "#### 1. MAPD (Mean Absolute Percentage Deviation)"
   ]
  },
  {
   "cell_type": "markdown",
   "id": "fce458f9-3e84-4899-a56e-aecf56d58187",
   "metadata": {},
   "source": [
    "#### For Train and Test Sets"
   ]
  },
  {
   "cell_type": "code",
   "execution_count": 90,
   "id": "9f66178e-d8f3-4601-a0f3-b107ee171a79",
   "metadata": {},
   "outputs": [],
   "source": [
    "def mapd(true,pred):\n",
    "    mapd= (1/len(true))*np.sum((abs(true-pred)/true)*100)\n",
    "    return mapd"
   ]
  },
  {
   "cell_type": "markdown",
   "id": "fdfd6bca-f533-47c4-88fd-2a5797337f2a",
   "metadata": {},
   "source": [
    "##### For RF"
   ]
  },
  {
   "cell_type": "code",
   "execution_count": 91,
   "id": "a184513c-4dd7-495e-b8ae-58ab05136251",
   "metadata": {},
   "outputs": [
    {
     "data": {
      "text/plain": [
       "16.88876304169488"
      ]
     },
     "execution_count": 91,
     "metadata": {},
     "output_type": "execute_result"
    }
   ],
   "source": [
    "mapd(micro_train_labels, pred_rf)"
   ]
  },
  {
   "cell_type": "code",
   "execution_count": 92,
   "id": "ae74e9c1-ef96-4973-b8fd-807c173c70db",
   "metadata": {},
   "outputs": [
    {
     "data": {
      "text/plain": [
       "15.208050856947397"
      ]
     },
     "execution_count": 92,
     "metadata": {},
     "output_type": "execute_result"
    }
   ],
   "source": [
    "mapd(micro_test_labels, pred_rf_test)"
   ]
  },
  {
   "cell_type": "markdown",
   "id": "bf1576fe-f047-4b95-8958-8a682ae22807",
   "metadata": {},
   "source": [
    "##### For DT"
   ]
  },
  {
   "cell_type": "code",
   "execution_count": 93,
   "id": "2076b67f-35bd-44d7-89e0-09a006d9c541",
   "metadata": {},
   "outputs": [
    {
     "data": {
      "text/plain": [
       "0.1182938639087584"
      ]
     },
     "execution_count": 93,
     "metadata": {},
     "output_type": "execute_result"
    }
   ],
   "source": [
    "mapd(micro_train_labels, pred_dt)"
   ]
  },
  {
   "cell_type": "code",
   "execution_count": 94,
   "id": "ddb2df5e-ed36-40c8-9a1e-46a1419d6dea",
   "metadata": {},
   "outputs": [
    {
     "data": {
      "text/plain": [
       "21.262381231775155"
      ]
     },
     "execution_count": 94,
     "metadata": {},
     "output_type": "execute_result"
    }
   ],
   "source": [
    "mapd(micro_test_labels, pred_dt_test)"
   ]
  },
  {
   "cell_type": "markdown",
   "id": "e9e5a958-33fd-4108-b9f0-88406adb0a11",
   "metadata": {},
   "source": [
    "##### For MLP"
   ]
  },
  {
   "cell_type": "code",
   "execution_count": 95,
   "id": "04631135-43c8-4294-8190-47119609fe71",
   "metadata": {},
   "outputs": [
    {
     "data": {
      "text/plain": [
       "50.456808864630055"
      ]
     },
     "execution_count": 95,
     "metadata": {},
     "output_type": "execute_result"
    }
   ],
   "source": [
    "mapd(micro_train_labels, pred_mlp)"
   ]
  },
  {
   "cell_type": "code",
   "execution_count": 96,
   "id": "00446682-0440-4965-8e5b-a436109d5a5a",
   "metadata": {},
   "outputs": [
    {
     "data": {
      "text/plain": [
       "39.22590889731373"
      ]
     },
     "execution_count": 96,
     "metadata": {},
     "output_type": "execute_result"
    }
   ],
   "source": [
    "mapd(micro_test_labels, pred_mlp_test)"
   ]
  },
  {
   "cell_type": "markdown",
   "id": "ddc70849-d18c-4969-9e48-e8ebfe2c31e1",
   "metadata": {},
   "source": [
    "##### For GAM"
   ]
  },
  {
   "cell_type": "code",
   "execution_count": 97,
   "id": "0d6d3d6e-0a5a-482d-befe-918ca5cef8f5",
   "metadata": {},
   "outputs": [
    {
     "data": {
      "text/plain": [
       "27.43949136700085"
      ]
     },
     "execution_count": 97,
     "metadata": {},
     "output_type": "execute_result"
    }
   ],
   "source": [
    "mapd(micro_train_labels, pred_gam)"
   ]
  },
  {
   "cell_type": "code",
   "execution_count": 98,
   "id": "d48ef7ca-2e15-4c18-9040-f5bd395bb5f9",
   "metadata": {},
   "outputs": [
    {
     "data": {
      "text/plain": [
       "19.74044155647226"
      ]
     },
     "execution_count": 98,
     "metadata": {},
     "output_type": "execute_result"
    }
   ],
   "source": [
    "mapd(micro_test_labels, pred_gam_test)"
   ]
  },
  {
   "cell_type": "markdown",
   "id": "6f9cf641-8915-49d6-88ef-59f7782e3d72",
   "metadata": {},
   "source": [
    "#### 2. Model Reliability Condition Metrics"
   ]
  },
  {
   "cell_type": "code",
   "execution_count": 99,
   "id": "1570dc0c-5ee1-4a18-8771-ad549e17e14d",
   "metadata": {},
   "outputs": [],
   "source": [
    "import math\n",
    "def validations(true,pred):\n",
    "    mean_true=np.mean(true)\n",
    "    mean_pred=np.mean(pred)\n",
    "    R2=R2_validation(true, pred)\n",
    "    k= (np.sum(true*pred))/(np.sum(pred**2))\n",
    "    k_cr=(np.sum(true*pred))/(np.sum(true**2))\n",
    "    Ro_2= 1- (np.sum(pred*(1-k)**2)/np.sum((pred-mean_pred)**2))\n",
    "    Ro_cr_2=1- (np.sum(true*(1-k_cr)**2)/np.sum((true-mean_true)**2))\n",
    "    Rs_2= R2*(1-math.sqrt(abs(R2-Ro_2)))\n",
    "\n",
    "    print('k =', k)\n",
    "    print('k` =', k_cr)\n",
    "    print('')\n",
    "    print('R2 =', R2)\n",
    "    print('Ro_2 =', Ro_2)\n",
    "    print('Ro`_2 =', Ro_cr_2)\n",
    "    print('Rs_2 =', Rs_2)"
   ]
  },
  {
   "cell_type": "code",
   "execution_count": 100,
   "id": "46195f46-ec0f-4143-88da-fa1daebb0dd5",
   "metadata": {},
   "outputs": [
    {
     "name": "stdout",
     "output_type": "stream",
     "text": [
      "k = 1.0753073714348815\n",
      "k` = 0.9028077655359066\n",
      "\n",
      "R2 = 0.8919849964600258\n",
      "Ro_2 = 0.9763856818473997\n",
      "Ro`_2 = 0.9697972929999146\n",
      "Rs_2 = 0.6328473344699153\n"
     ]
    }
   ],
   "source": [
    "validations(micro_test_labels, pred_rf_test)"
   ]
  },
  {
   "cell_type": "code",
   "execution_count": 101,
   "id": "32a3edda-df5f-4a4f-aad7-10528ec9bc55",
   "metadata": {},
   "outputs": [
    {
     "name": "stdout",
     "output_type": "stream",
     "text": [
      "k = 1.0370427073318877\n",
      "k` = 0.9201659182019939\n",
      "\n",
      "R2 = 0.8333655878316151\n",
      "Ro_2 = 0.9952725620231622\n",
      "Ro`_2 = 0.979622100999752\n",
      "Rs_2 = 0.49803872844473007\n"
     ]
    }
   ],
   "source": [
    "validations(micro_test_labels, pred_dt_test)"
   ]
  },
  {
   "cell_type": "code",
   "execution_count": 102,
   "id": "f44b4d1f-c3c3-4de3-8936-179b3b4c293b",
   "metadata": {},
   "outputs": [
    {
     "name": "stdout",
     "output_type": "stream",
     "text": [
      "k = 1.089619776719261\n",
      "k` = 0.7476307385634061\n",
      "\n",
      "R2 = 0.3131000704800596\n",
      "Ro_2 = 0.9320026263594627\n",
      "Ro`_2 = 0.7963634880174354\n",
      "Rs_2 = 0.06678311754948903\n"
     ]
    }
   ],
   "source": [
    "validations(micro_test_labels, pred_mlp_test)"
   ]
  },
  {
   "cell_type": "code",
   "execution_count": 103,
   "id": "66484a5b-c0c3-4f07-ae80-09122b5f95ba",
   "metadata": {},
   "outputs": [
    {
     "name": "stdout",
     "output_type": "stream",
     "text": [
      "k = 1.06079526558416\n",
      "k` = 0.8997887758137567\n",
      "\n",
      "R2 = 0.8299433472635952\n",
      "Ro_2 = 0.9843859622905128\n",
      "Ro`_2 = 0.9678918361072922\n",
      "Rs_2 = 0.5037823538000719\n"
     ]
    }
   ],
   "source": [
    "validations(micro_test_labels, pred_gam_test)"
   ]
  },
  {
   "cell_type": "markdown",
   "id": "ffe6564c-428b-444f-8ae5-e626e6c39d50",
   "metadata": {},
   "source": [
    "# Graphs"
   ]
  },
  {
   "cell_type": "code",
   "execution_count": 104,
   "id": "855dd8d6-7934-4404-8b14-caea9abf6c4e",
   "metadata": {},
   "outputs": [
    {
     "data": {
      "image/png": "[encoded data removed]",
      "text/plain": [
       "<Figure size 1800x400 with 2 Axes>"
      ]
     },
     "metadata": {},
     "output_type": "display_data"
    },
    {
     "data": {
      "image/png": "[encoded data removed]",
      "text/plain": [
       "<Figure size 1800x400 with 2 Axes>"
      ]
     },
     "metadata": {},
     "output_type": "display_data"
    }
   ],
   "source": [
    "# Create serial numbers for x-axis\n",
    "serial_numbers = range(1, len(pred_rf_test) + 1)\n",
    "\n",
    "# Define the figure and subplots\n",
    "fig, axs = plt.subplots(1, 2, figsize=(18, 4), sharey=True)  # 1 row, 2 columns\n",
    "\n",
    "# Plot for Random Forest\n",
    "axs[0].plot(serial_numbers, np.array(micro_test_labels), label='Actual', color='blue', markersize=3.5, marker='o', linestyle='-', linewidth=1)\n",
    "axs[0].plot(serial_numbers, pred_rf_test, label='Predicted', color='green', markersize=2.5, marker='D', linestyle='-', linewidth=1)\n",
    "axs[0].set_title('Friction Coefficient for Random Forests', fontsize=9, color='green')\n",
    "axs[0].set_ylabel('Friction Coefficient', fontsize=8)\n",
    "axs[0].legend(fontsize=8)\n",
    "\n",
    "# Plot for Decision Tree Regressor (DTR)\n",
    "axs[1].plot(serial_numbers, np.array(micro_test_labels), label='Actual', color='blue', markersize=3.5, marker='o', linestyle='-', linewidth=1)\n",
    "axs[1].plot(serial_numbers, pred_dt_test, label='Predicted', color='red', markersize=2.5, marker='D', linestyle='-', linewidth=1)\n",
    "axs[1].set_title('Friction Coefficient for Decision Tree', fontsize=9, color='red')\n",
    "axs[1].legend(fontsize=8)\n",
    "\n",
    "# Adjust layout\n",
    "plt.tight_layout()\n",
    "\n",
    "# Show plot\n",
    "plt.show()\n",
    "\n",
    "# Define the second figure and subplots\n",
    "fig2, axs2 = plt.subplots(1, 2, figsize=(18, 4), sharey=True)  # 1 row, 2 columns\n",
    "\n",
    "# Plot for MLP\n",
    "axs2[0].plot(serial_numbers, np.array(micro_test_labels), label='Actual', color='blue', markersize=3.5, marker='o', linestyle='-', linewidth=1)\n",
    "axs2[0].plot(serial_numbers, pred_mlp_test, label='Predicted', color='purple', markersize=2.5, marker='D', linestyle='-', linewidth=1)\n",
    "axs2[0].set_title('Friction Coefficient for MLP', fontsize=9, color='purple')\n",
    "axs2[0].legend(fontsize=8)\n",
    "\n",
    "# Plot for GAM\n",
    "axs2[1].plot(serial_numbers, np.array(micro_test_labels), label='Actual', color='blue', markersize=3.5, marker='o', linestyle='-', linewidth=1)\n",
    "axs2[1].plot(serial_numbers, pred_gam_test, label='Predicted', color='magenta', markersize=2.5, marker='D', linestyle='-', linewidth=1)\n",
    "axs2[1].set_title('Friction Coefficient for GAM', fontsize=9, color='magenta')\n",
    "axs2[1].legend(fontsize=8)\n",
    "\n",
    "# Adjust layout\n",
    "plt.tight_layout()\n",
    "\n",
    "# Show plot\n",
    "plt.show()\n",
    "\n"
   ]
  },
  {
   "cell_type": "code",
   "execution_count": null,
   "id": "071ed048-5079-4ca7-ab97-d2b160bb500c",
   "metadata": {},
   "outputs": [],
   "source": []
  },
  {
   "cell_type": "code",
   "execution_count": 106,
   "id": "9d498d68-9248-4d8a-836c-16f2cf708dc7",
   "metadata": {},
   "outputs": [],
   "source": [
    "import joblib\n"
   ]
  },
  {
   "cell_type": "code",
   "execution_count": 107,
   "id": "162c947a-391f-41ec-872b-5693beffd9e2",
   "metadata": {},
   "outputs": [
    {
     "data": {
      "text/plain": [
       "['Micro Pipeline.pkl']"
      ]
     },
     "execution_count": 107,
     "metadata": {},
     "output_type": "execute_result"
    }
   ],
   "source": [
    "joblib.dump(the_pipeline, 'Micro Pipeline.pkl')"
   ]
  },
  {
   "cell_type": "code",
   "execution_count": 108,
   "id": "31133ab7-26b9-4cc0-a9e7-dae6cf64a7e9",
   "metadata": {},
   "outputs": [
    {
     "data": {
      "text/plain": [
       "['RF Model.pkl']"
      ]
     },
     "execution_count": 108,
     "metadata": {},
     "output_type": "execute_result"
    }
   ],
   "source": [
    "joblib.dump(model_rf, 'RF Model.pkl')\n"
   ]
  },
  {
   "cell_type": "code",
   "execution_count": 109,
   "id": "e60fc739-4ade-4044-ae95-58f41d8e207b",
   "metadata": {},
   "outputs": [
    {
     "data": {
      "text/plain": [
       "['DTR Model.pkl']"
      ]
     },
     "execution_count": 109,
     "metadata": {},
     "output_type": "execute_result"
    }
   ],
   "source": [
    "joblib.dump(model_dt, 'DTR Model.pkl')\n"
   ]
  },
  {
   "cell_type": "code",
   "execution_count": 110,
   "id": "76e01d5f-8dc2-402b-aa5c-e6e660ef9152",
   "metadata": {},
   "outputs": [
    {
     "data": {
      "text/plain": [
       "['MLP Model.pkl']"
      ]
     },
     "execution_count": 110,
     "metadata": {},
     "output_type": "execute_result"
    }
   ],
   "source": [
    "joblib.dump(model_mlp, 'MLP Model.pkl')\n"
   ]
  },
  {
   "cell_type": "code",
   "execution_count": 111,
   "id": "6386e74f-7305-4438-8e5a-0ffa431d5978",
   "metadata": {},
   "outputs": [
    {
     "data": {
      "text/plain": [
       "['GAM Model.pkl']"
      ]
     },
     "execution_count": 111,
     "metadata": {},
     "output_type": "execute_result"
    }
   ],
   "source": [
    "joblib.dump(model_gam, 'GAM Model.pkl')\n"
   ]
  },
  {
   "cell_type": "code",
   "execution_count": null,
   "id": "3ad42a40-197e-482a-a0bd-b2d570d6256b",
   "metadata": {},
   "outputs": [],
   "source": []
  },
  {
   "cell_type": "markdown",
   "id": "ae72a943-4a6a-40be-b9e5-690a90d8bce7",
   "metadata": {},
   "source": [
    "## Custom usage"
   ]
  },
  {
   "cell_type": "code",
   "execution_count": null,
   "id": "80b7792a-84ce-4887-9da2-337b2b783049",
   "metadata": {},
   "outputs": [],
   "source": [
    "roughness = 101.04\n",
    "hardness = 0.057\n",
    "normal_stress = 5"
   ]
  },
  {
   "cell_type": "code",
   "execution_count": null,
   "id": "bec0b427-9ab9-4059-8966-8130584070bf",
   "metadata": {},
   "outputs": [],
   "source": [
    "input_data = pa.DataFrame({\n",
    "    'L-filter: None': [roughness],\n",
    "    'Hardness': [hardness],\n",
    "    'Normal Stress': [normal_stress]\n",
    "})\n",
    "\n",
    "transformed_input = the_pipeline.transform(input_data)\n",
    "print('Friction Coefficient =',model_rf.predict(transformed_input)[0])"
   ]
  },
  {
   "cell_type": "code",
   "execution_count": null,
   "id": "5908a187-851f-43c7-a775-d9a59eca24a2",
   "metadata": {},
   "outputs": [],
   "source": []
  }
 ],
 "metadata": {
  "kernelspec": {
   "display_name": "Python 3 (ipykernel)",
   "language": "python",
   "name": "python3"
  },
  "language_info": {
   "codemirror_mode": {
    "name": "ipython",
    "version": 3
   },
   "file_extension": ".py",
   "mimetype": "text/x-python",
   "name": "python",
   "nbconvert_exporter": "python",
   "pygments_lexer": "ipython3",
   "version": "3.11.9"
  }
 },
 "nbformat": 4,
 "nbformat_minor": 5
}
